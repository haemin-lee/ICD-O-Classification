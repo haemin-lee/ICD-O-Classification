{
 "cells": [
  {
   "cell_type": "code",
   "execution_count": 1,
   "id": "956df205",
   "metadata": {
    "id": "956df205"
   },
   "outputs": [],
   "source": [
    "%%capture\n",
    "!pip install transformers"
   ]
  },
  {
   "cell_type": "code",
   "execution_count": 2,
   "id": "aea91b51",
   "metadata": {
    "id": "aea91b51"
   },
   "outputs": [],
   "source": [
    "import numpy as np\n",
    "import pandas as pd\n",
    "import math\n",
    "import torch\n",
    "import transformers as ppb\n",
    "import warnings\n",
    "import re\n",
    "warnings.filterwarnings('ignore')"
   ]
  },
  {
   "cell_type": "code",
   "execution_count": 3,
   "id": "23abf4c7",
   "metadata": {
    "id": "23abf4c7"
   },
   "outputs": [],
   "source": [
    "dfs = pd.read_excel(\"nlp_path_data.xlsx\")\n",
    "#dfs = dfs.rename(columns={'10000194': 'numbers', 'S19-09556': 'code', \"Invasive carcinoma of no special type (invasive ductal carcinoma, not otherwise ...\": \"descriptions\"})"
   ]
  },
  {
   "cell_type": "code",
   "execution_count": 4,
   "id": "45de3aa1",
   "metadata": {
    "colab": {
     "base_uri": "https://localhost:8080/",
     "height": 206
    },
    "id": "45de3aa1",
    "outputId": "f786b242-d0a6-4f83-b281-09b5ecec4730"
   },
   "outputs": [
    {
     "data": {
      "text/html": [
       "<div>\n",
       "<style scoped>\n",
       "    .dataframe tbody tr th:only-of-type {\n",
       "        vertical-align: middle;\n",
       "    }\n",
       "\n",
       "    .dataframe tbody tr th {\n",
       "        vertical-align: top;\n",
       "    }\n",
       "\n",
       "    .dataframe thead th {\n",
       "        text-align: right;\n",
       "    }\n",
       "</style>\n",
       "<table border=\"1\" class=\"dataframe\">\n",
       "  <thead>\n",
       "    <tr style=\"text-align: right;\">\n",
       "      <th></th>\n",
       "      <th>Dx</th>\n",
       "      <th>Code</th>\n",
       "    </tr>\n",
       "  </thead>\n",
       "  <tbody>\n",
       "    <tr>\n",
       "      <th>0</th>\n",
       "      <td>Adenocarcinoma</td>\n",
       "      <td>8140</td>\n",
       "    </tr>\n",
       "    <tr>\n",
       "      <th>1</th>\n",
       "      <td>Adenocarcinoma</td>\n",
       "      <td>8140</td>\n",
       "    </tr>\n",
       "    <tr>\n",
       "      <th>2</th>\n",
       "      <td>Adenocarcinoma</td>\n",
       "      <td>8140</td>\n",
       "    </tr>\n",
       "    <tr>\n",
       "      <th>3</th>\n",
       "      <td>Adenocarcinoma</td>\n",
       "      <td>8140</td>\n",
       "    </tr>\n",
       "    <tr>\n",
       "      <th>4</th>\n",
       "      <td>Adenocarcinoma</td>\n",
       "      <td>8140</td>\n",
       "    </tr>\n",
       "  </tbody>\n",
       "</table>\n",
       "</div>"
      ],
      "text/plain": [
       "               Dx  Code\n",
       "0  Adenocarcinoma  8140\n",
       "1  Adenocarcinoma  8140\n",
       "2  Adenocarcinoma  8140\n",
       "3  Adenocarcinoma  8140\n",
       "4  Adenocarcinoma  8140"
      ]
     },
     "execution_count": 4,
     "metadata": {},
     "output_type": "execute_result"
    }
   ],
   "source": [
    "dfs.head()"
   ]
  },
  {
   "cell_type": "code",
   "execution_count": 5,
   "id": "S8X_wKpi7BzY",
   "metadata": {
    "colab": {
     "base_uri": "https://localhost:8080/"
    },
    "id": "S8X_wKpi7BzY",
    "outputId": "4851a46f-aded-47f2-de2e-a2c73cf19985"
   },
   "outputs": [
    {
     "name": "stdout",
     "output_type": "stream",
     "text": [
      "117\n"
     ]
    }
   ],
   "source": [
    "np.unique(dfs[\"Code\"])\n",
    "print(len(np.unique(dfs[\"Code\"])))"
   ]
  },
  {
   "cell_type": "code",
   "execution_count": 6,
   "id": "M-UphtojAcga",
   "metadata": {
    "colab": {
     "base_uri": "https://localhost:8080/"
    },
    "id": "M-UphtojAcga",
    "outputId": "76649d0c-45ae-4a09-cf5e-2b08311a536b"
   },
   "outputs": [
    {
     "data": {
      "text/plain": [
       "8500    1563\n",
       "8140     827\n",
       "8550     796\n",
       "8070     325\n",
       "8120     294\n",
       "        ... \n",
       "8815       1\n",
       "9020       1\n",
       "8840       1\n",
       "8900       1\n",
       "9064       1\n",
       "Name: Code, Length: 117, dtype: int64"
      ]
     },
     "execution_count": 6,
     "metadata": {},
     "output_type": "execute_result"
    }
   ],
   "source": [
    "dfs[\"Code\"].value_counts()"
   ]
  },
  {
   "cell_type": "code",
   "execution_count": 7,
   "id": "UwHxz8KvBdsd",
   "metadata": {
    "colab": {
     "base_uri": "https://localhost:8080/"
    },
    "id": "UwHxz8KvBdsd",
    "outputId": "112428af-f175-47ed-fcfe-9fbb0c26b624"
   },
   "outputs": [
    {
     "data": {
      "text/plain": [
       "array([8000, 8010, 8020, 8050, 8070, 8071, 8072, 8085, 8120, 8130, 8140,\n",
       "       8144, 8150, 8170, 8230, 8240, 8250, 8252, 8260, 8310, 8312, 8317,\n",
       "       8335, 8340, 8380, 8441, 8442, 8461, 8480, 8500, 8510, 8520, 8522,\n",
       "       8550, 8575, 8720, 8721, 8742, 8743, 8744, 8745, 8802, 8850, 8858,\n",
       "       8890, 8936, 9061, 9070, 9071], dtype=int64)"
      ]
     },
     "execution_count": 7,
     "metadata": {},
     "output_type": "execute_result"
    }
   ],
   "source": [
    "# Codes we actually want to use:\n",
    "df_grouped = dfs.groupby([\"Code\"]).count().reset_index()\n",
    "codes = df_grouped[df_grouped[\"Dx\"] > 10][\"Code\"].values\n",
    "codes"
   ]
  },
  {
   "cell_type": "code",
   "execution_count": 8,
   "id": "heS1cLVRCyvA",
   "metadata": {
    "colab": {
     "base_uri": "https://localhost:8080/",
     "height": 424
    },
    "id": "heS1cLVRCyvA",
    "outputId": "be1bcc92-64c9-4dec-e2a7-e69aedf4a8b7"
   },
   "outputs": [
    {
     "data": {
      "text/html": [
       "<div>\n",
       "<style scoped>\n",
       "    .dataframe tbody tr th:only-of-type {\n",
       "        vertical-align: middle;\n",
       "    }\n",
       "\n",
       "    .dataframe tbody tr th {\n",
       "        vertical-align: top;\n",
       "    }\n",
       "\n",
       "    .dataframe thead th {\n",
       "        text-align: right;\n",
       "    }\n",
       "</style>\n",
       "<table border=\"1\" class=\"dataframe\">\n",
       "  <thead>\n",
       "    <tr style=\"text-align: right;\">\n",
       "      <th></th>\n",
       "      <th>Dx</th>\n",
       "      <th>Code</th>\n",
       "    </tr>\n",
       "  </thead>\n",
       "  <tbody>\n",
       "    <tr>\n",
       "      <th>0</th>\n",
       "      <td>Adenocarcinoma</td>\n",
       "      <td>8140</td>\n",
       "    </tr>\n",
       "    <tr>\n",
       "      <th>1</th>\n",
       "      <td>Adenocarcinoma</td>\n",
       "      <td>8140</td>\n",
       "    </tr>\n",
       "    <tr>\n",
       "      <th>2</th>\n",
       "      <td>Adenocarcinoma</td>\n",
       "      <td>8140</td>\n",
       "    </tr>\n",
       "    <tr>\n",
       "      <th>3</th>\n",
       "      <td>Adenocarcinoma</td>\n",
       "      <td>8140</td>\n",
       "    </tr>\n",
       "    <tr>\n",
       "      <th>4</th>\n",
       "      <td>Adenocarcinoma</td>\n",
       "      <td>8140</td>\n",
       "    </tr>\n",
       "    <tr>\n",
       "      <th>...</th>\n",
       "      <td>...</td>\n",
       "      <td>...</td>\n",
       "    </tr>\n",
       "    <tr>\n",
       "      <th>6792</th>\n",
       "      <td>Squamous Cell Carcinoma and Variants</td>\n",
       "      <td>8070</td>\n",
       "    </tr>\n",
       "    <tr>\n",
       "      <th>6793</th>\n",
       "      <td>Squamous cell carcinoma, conventional</td>\n",
       "      <td>8070</td>\n",
       "    </tr>\n",
       "    <tr>\n",
       "      <th>6794</th>\n",
       "      <td>Ductal carcinoma in situ</td>\n",
       "      <td>8500</td>\n",
       "    </tr>\n",
       "    <tr>\n",
       "      <th>6795</th>\n",
       "      <td>Serous carcinoma</td>\n",
       "      <td>8441</td>\n",
       "    </tr>\n",
       "    <tr>\n",
       "      <th>6796</th>\n",
       "      <td>Acinar adenocarcinoma</td>\n",
       "      <td>8550</td>\n",
       "    </tr>\n",
       "  </tbody>\n",
       "</table>\n",
       "<p>6508 rows × 2 columns</p>\n",
       "</div>"
      ],
      "text/plain": [
       "                                         Dx  Code\n",
       "0                            Adenocarcinoma  8140\n",
       "1                            Adenocarcinoma  8140\n",
       "2                            Adenocarcinoma  8140\n",
       "3                            Adenocarcinoma  8140\n",
       "4                            Adenocarcinoma  8140\n",
       "...                                     ...   ...\n",
       "6792   Squamous Cell Carcinoma and Variants  8070\n",
       "6793  Squamous cell carcinoma, conventional  8070\n",
       "6794               Ductal carcinoma in situ  8500\n",
       "6795                       Serous carcinoma  8441\n",
       "6796                  Acinar adenocarcinoma  8550\n",
       "\n",
       "[6508 rows x 2 columns]"
      ]
     },
     "execution_count": 8,
     "metadata": {},
     "output_type": "execute_result"
    }
   ],
   "source": [
    "dfs = dfs[dfs[\"Code\"].isin(codes)]\n",
    "dfs"
   ]
  },
  {
   "cell_type": "code",
   "execution_count": 9,
   "id": "lO6H4fVcFkTb",
   "metadata": {
    "colab": {
     "base_uri": "https://localhost:8080/"
    },
    "id": "lO6H4fVcFkTb",
    "outputId": "e2ad7510-1bb3-467d-d0ba-578ceb29333a"
   },
   "outputs": [
    {
     "data": {
      "text/plain": [
       "8500    1563\n",
       "8140     827\n",
       "8550     796\n",
       "8070     325\n",
       "8120     294\n",
       "8312     237\n",
       "8050     213\n",
       "8743     204\n",
       "8441     184\n",
       "8380     181\n",
       "8520     174\n",
       "8000     173\n",
       "8480     118\n",
       "8130     115\n",
       "8720      96\n",
       "8010      85\n",
       "8522      71\n",
       "8936      70\n",
       "8260      66\n",
       "8150      58\n",
       "8721      47\n",
       "8240      47\n",
       "8071      46\n",
       "8744      44\n",
       "8340      38\n",
       "8850      34\n",
       "8742      31\n",
       "8170      27\n",
       "8745      26\n",
       "8072      25\n",
       "8317      24\n",
       "8461      20\n",
       "8230      19\n",
       "9061      19\n",
       "8802      18\n",
       "8575      17\n",
       "8858      16\n",
       "8250      15\n",
       "8252      15\n",
       "8020      15\n",
       "8442      14\n",
       "8890      14\n",
       "8085      13\n",
       "8335      13\n",
       "9070      13\n",
       "8310      13\n",
       "9071      12\n",
       "8510      12\n",
       "8144      11\n",
       "Name: Code, dtype: int64"
      ]
     },
     "execution_count": 9,
     "metadata": {},
     "output_type": "execute_result"
    }
   ],
   "source": [
    "dfs[\"Code\"].value_counts()"
   ]
  },
  {
   "cell_type": "markdown",
   "id": "07776dde",
   "metadata": {
    "id": "07776dde"
   },
   "source": [
    "# Preprocessing:"
   ]
  },
  {
   "cell_type": "code",
   "execution_count": 10,
   "id": "DQVFGs-dPzRp",
   "metadata": {
    "id": "DQVFGs-dPzRp"
   },
   "outputs": [],
   "source": [
    "#remove non-alphabetical characters, lower case, puctuation, extra spaces. \n",
    "dfs[\"Dx\"] = dfs[\"Dx\"].str.lower()\n",
    "dfs[\"Dx\"] = dfs[\"Dx\"].replace(r'[^a-z|\\s]', '', regex=True)\n",
    "dfs[\"Dx\"] = dfs[\"Dx\"].replace(r'\\s\\s+', ' ', regex=True)\n"
   ]
  },
  {
   "cell_type": "markdown",
   "id": "4c588e66",
   "metadata": {
    "id": "4c588e66"
   },
   "source": [
    "# BERT Embedding"
   ]
  },
  {
   "cell_type": "code",
   "execution_count": 11,
   "id": "w-SQomcWQfxy",
   "metadata": {
    "colab": {
     "base_uri": "https://localhost:8080/",
     "height": 249,
     "referenced_widgets": [
      "9454c6ef88f14f35a577667106b0f6ee",
      "181c0ad4d87e41218b071de0e3c5e9d0",
      "4098a6253f3047dda5c3ba48e369ff4a",
      "541ca218ff1a46158461980a0fb9b818",
      "e4dfd965b1be40e7a42acb52cecb8e1d",
      "c2d1b57aeac24a27a50506d9a35e3833",
      "83e26819424440a5b082a4df08d02179",
      "a3ba6207aa1c4d10a66352dfa2073296",
      "6e686086fd8f4bffbfc351f888d9fe44",
      "d83d9aaa163d405f96df8ed263781f1a",
      "b567961cba074b508690ec90c9c57c8e",
      "2a912fc260984a1c812778af1b7891d3",
      "1fbad6c685c04771b8fe01032ae83140",
      "494bb25d015442058e55ee67af3c783c",
      "4584cf0cf517467a830792cabc62a26e",
      "e662402daeef47a4808dc5b5dc3c5130",
      "5345868b456a4c5ea3c019bd0d2897d9",
      "a9e34fd77b3b49c4a7904ebbfe7d8add",
      "ec36cee5c33c4267987c6a2293a29773",
      "e41a14792e7545f391bfc1fabde2e40a",
      "81c552dc044a4a94ba063754c4ae2119",
      "05f55e899ed449fca354ae8cdffb3014",
      "663cb24ae7af492093e8811cf88579dc",
      "e4bacfb95cd347bdb184742e8fc5901b",
      "3e46ae0f539343e9a15a4d2f0993c298",
      "9dc77c16027e4c9693ab00bcb9810ad3",
      "070aab1f0fd24b03bf44a89738f66c59",
      "a5b35620c0ff4fb2816ee71d8777f94e",
      "d53e5b33610b4e3ca01143b85ebd8e6d",
      "12bf244fbd9941d59ead7d9936f0276f",
      "3425052da44a447c9b12d42d5d8f7bb8",
      "b51d5dad91b34980b185da1387fc989e",
      "88121874c982424ba8d72fda14bb4096",
      "25de0a3d06d14eceabdd364a445177d5",
      "5a64630820584d4490571e6bda8a40f0",
      "4b70b8d9979647db87c53187f3af3437",
      "0e322de3fc7d481fa2889282d1febed8",
      "6c90429c501646438a2f3d68f2481b1d",
      "a8f68380bbdc42068de09f563916d9ef",
      "08c05aa2e5dc463a908915ef34ac9633",
      "6a9bad6c23ef4936abddfde22eff1449",
      "dbd4c5acdabb4cd4b33a65b89316bed9",
      "721e2c4c70004790b9e3878bbbff7600",
      "7ef26b9d233b4735b31f64ef37787ade",
      "abe9f46e05bf432baa9dc89a7e6aea26",
      "d1de95517762416e85be138d474eff1a",
      "96eb2c55eabd4e719a543c15282f8907",
      "51e8eb2f9b8e4f099d7b0e1f0adc678f",
      "218d3c8c5ff24044ae2b5247b640dc6a",
      "ddf4a8d5270a49e1842eb1c857c0d9cc",
      "61ffbed5eeb3472d87ccc0fadbe1dee7",
      "cd3261ab21934a8eb109d557967c2b9e",
      "9d5649e025654316aad3ddc5c314bdda",
      "3d13458e10ba4a459f51d31d0e381a8f",
      "3c7129ef5e5e49d3a3c1b4ac9efe8750"
     ]
    },
    "id": "w-SQomcWQfxy",
    "outputId": "e6f4a436-e42b-4ccd-ea8e-ed91af12852e"
   },
   "outputs": [
    {
     "name": "stderr",
     "output_type": "stream",
     "text": [
      "Some weights of the model checkpoint at bert-base-uncased were not used when initializing BertModel: ['cls.predictions.transform.dense.weight', 'cls.seq_relationship.bias', 'cls.seq_relationship.weight', 'cls.predictions.transform.LayerNorm.weight', 'cls.predictions.decoder.weight', 'cls.predictions.transform.LayerNorm.bias', 'cls.predictions.transform.dense.bias', 'cls.predictions.bias']\n",
      "- This IS expected if you are initializing BertModel from the checkpoint of a model trained on another task or with another architecture (e.g. initializing a BertForSequenceClassification model from a BertForPreTraining model).\n",
      "- This IS NOT expected if you are initializing BertModel from the checkpoint of a model that you expect to be exactly identical (initializing a BertForSequenceClassification model from a BertForSequenceClassification model).\n"
     ]
    }
   ],
   "source": [
    "#Load the pretrained bert model\n",
    "model_class, tokenizer_class, pretrained_weights = (ppb.BertModel, ppb.BertTokenizer, 'bert-base-uncased')\n",
    "\n",
    "# Load pretrained model/tokenizer\n",
    "tokenizer = tokenizer_class.from_pretrained(pretrained_weights)\n",
    "model = model_class.from_pretrained(pretrained_weights)\n"
   ]
  },
  {
   "cell_type": "code",
   "execution_count": 12,
   "id": "HUHYCAP6Tzmc",
   "metadata": {
    "colab": {
     "base_uri": "https://localhost:8080/",
     "height": 424
    },
    "id": "HUHYCAP6Tzmc",
    "outputId": "e3caeb47-d5a8-4eb2-b0f5-6ddcafecb16c"
   },
   "outputs": [
    {
     "data": {
      "text/html": [
       "<div>\n",
       "<style scoped>\n",
       "    .dataframe tbody tr th:only-of-type {\n",
       "        vertical-align: middle;\n",
       "    }\n",
       "\n",
       "    .dataframe tbody tr th {\n",
       "        vertical-align: top;\n",
       "    }\n",
       "\n",
       "    .dataframe thead th {\n",
       "        text-align: right;\n",
       "    }\n",
       "</style>\n",
       "<table border=\"1\" class=\"dataframe\">\n",
       "  <thead>\n",
       "    <tr style=\"text-align: right;\">\n",
       "      <th></th>\n",
       "      <th>Dx</th>\n",
       "      <th>Code</th>\n",
       "    </tr>\n",
       "  </thead>\n",
       "  <tbody>\n",
       "    <tr>\n",
       "      <th>0</th>\n",
       "      <td>adenocarcinoma</td>\n",
       "      <td>8140</td>\n",
       "    </tr>\n",
       "    <tr>\n",
       "      <th>1</th>\n",
       "      <td>adenocarcinoma</td>\n",
       "      <td>8140</td>\n",
       "    </tr>\n",
       "    <tr>\n",
       "      <th>2</th>\n",
       "      <td>adenocarcinoma</td>\n",
       "      <td>8140</td>\n",
       "    </tr>\n",
       "    <tr>\n",
       "      <th>3</th>\n",
       "      <td>adenocarcinoma</td>\n",
       "      <td>8140</td>\n",
       "    </tr>\n",
       "    <tr>\n",
       "      <th>4</th>\n",
       "      <td>adenocarcinoma</td>\n",
       "      <td>8140</td>\n",
       "    </tr>\n",
       "    <tr>\n",
       "      <th>...</th>\n",
       "      <td>...</td>\n",
       "      <td>...</td>\n",
       "    </tr>\n",
       "    <tr>\n",
       "      <th>6792</th>\n",
       "      <td>squamous cell carcinoma and variants</td>\n",
       "      <td>8070</td>\n",
       "    </tr>\n",
       "    <tr>\n",
       "      <th>6793</th>\n",
       "      <td>squamous cell carcinoma conventional</td>\n",
       "      <td>8070</td>\n",
       "    </tr>\n",
       "    <tr>\n",
       "      <th>6794</th>\n",
       "      <td>ductal carcinoma in situ</td>\n",
       "      <td>8500</td>\n",
       "    </tr>\n",
       "    <tr>\n",
       "      <th>6795</th>\n",
       "      <td>serous carcinoma</td>\n",
       "      <td>8441</td>\n",
       "    </tr>\n",
       "    <tr>\n",
       "      <th>6796</th>\n",
       "      <td>acinar adenocarcinoma</td>\n",
       "      <td>8550</td>\n",
       "    </tr>\n",
       "  </tbody>\n",
       "</table>\n",
       "<p>6508 rows × 2 columns</p>\n",
       "</div>"
      ],
      "text/plain": [
       "                                        Dx  Code\n",
       "0                           adenocarcinoma  8140\n",
       "1                           adenocarcinoma  8140\n",
       "2                           adenocarcinoma  8140\n",
       "3                           adenocarcinoma  8140\n",
       "4                           adenocarcinoma  8140\n",
       "...                                    ...   ...\n",
       "6792  squamous cell carcinoma and variants  8070\n",
       "6793  squamous cell carcinoma conventional  8070\n",
       "6794              ductal carcinoma in situ  8500\n",
       "6795                      serous carcinoma  8441\n",
       "6796                 acinar adenocarcinoma  8550\n",
       "\n",
       "[6508 rows x 2 columns]"
      ]
     },
     "execution_count": 12,
     "metadata": {},
     "output_type": "execute_result"
    }
   ],
   "source": [
    "dfs"
   ]
  },
  {
   "cell_type": "code",
   "execution_count": 13,
   "id": "igvSKaaVRvwZ",
   "metadata": {
    "colab": {
     "base_uri": "https://localhost:8080/"
    },
    "id": "igvSKaaVRvwZ",
    "outputId": "c22da647-90d1-4223-836a-0fba3bad9338"
   },
   "outputs": [
    {
     "data": {
      "text/plain": [
       "{8070: 0,\n",
       " 8071: 1,\n",
       " 8072: 2,\n",
       " 8461: 3,\n",
       " 8335: 4,\n",
       " 8720: 5,\n",
       " 8721: 6,\n",
       " 8850: 7,\n",
       " 8340: 8,\n",
       " 8085: 9,\n",
       " 8858: 10,\n",
       " 8480: 11,\n",
       " 8742: 12,\n",
       " 8743: 13,\n",
       " 8744: 14,\n",
       " 8745: 15,\n",
       " 8230: 16,\n",
       " 8240: 17,\n",
       " 8500: 18,\n",
       " 8120: 19,\n",
       " 8890: 20,\n",
       " 8250: 21,\n",
       " 8380: 22,\n",
       " 8252: 23,\n",
       " 8510: 24,\n",
       " 8000: 25,\n",
       " 8130: 26,\n",
       " 8260: 27,\n",
       " 8520: 28,\n",
       " 8010: 29,\n",
       " 8522: 30,\n",
       " 8140: 31,\n",
       " 8144: 32,\n",
       " 8020: 33,\n",
       " 8150: 34,\n",
       " 8802: 35,\n",
       " 9061: 36,\n",
       " 8550: 37,\n",
       " 8936: 38,\n",
       " 8170: 39,\n",
       " 9070: 40,\n",
       " 9071: 41,\n",
       " 8050: 42,\n",
       " 8310: 43,\n",
       " 8312: 44,\n",
       " 8441: 45,\n",
       " 8442: 46,\n",
       " 8317: 47,\n",
       " 8575: 48}"
      ]
     },
     "execution_count": 13,
     "metadata": {},
     "output_type": "execute_result"
    }
   ],
   "source": [
    "#icd_codes = dfs[\"preprocessed_ICD_codes\"]\n",
    "icd_codes_d = {}\n",
    "for i, code in sorted(enumerate(set(dfs[\"Code\"]))):\n",
    "  icd_codes_d[code] = i\n",
    "icd_codes_d"
   ]
  },
  {
   "cell_type": "code",
   "execution_count": 14,
   "id": "JdlAd_HTTAhO",
   "metadata": {
    "colab": {
     "base_uri": "https://localhost:8080/"
    },
    "id": "JdlAd_HTTAhO",
    "outputId": "320fdd6d-32ae-4fce-af6c-09caf1e00c1a"
   },
   "outputs": [
    {
     "data": {
      "text/plain": [
       "0       31\n",
       "1       31\n",
       "2       31\n",
       "3       31\n",
       "4       31\n",
       "        ..\n",
       "6792     0\n",
       "6793     0\n",
       "6794    18\n",
       "6795    45\n",
       "6796    37\n",
       "Name: Code_n, Length: 6508, dtype: int64"
      ]
     },
     "execution_count": 14,
     "metadata": {},
     "output_type": "execute_result"
    }
   ],
   "source": [
    "dfs['Code_n'] = dfs['Code'].apply(lambda x: icd_codes_d[x])\n",
    "dfs['Code_n']"
   ]
  },
  {
   "cell_type": "code",
   "execution_count": 15,
   "id": "vfoqDQHESlPx",
   "metadata": {
    "colab": {
     "base_uri": "https://localhost:8080/",
     "height": 424
    },
    "id": "vfoqDQHESlPx",
    "outputId": "f5ee99df-a274-4d22-fe75-ba49d6b8289c"
   },
   "outputs": [
    {
     "data": {
      "text/html": [
       "<div>\n",
       "<style scoped>\n",
       "    .dataframe tbody tr th:only-of-type {\n",
       "        vertical-align: middle;\n",
       "    }\n",
       "\n",
       "    .dataframe tbody tr th {\n",
       "        vertical-align: top;\n",
       "    }\n",
       "\n",
       "    .dataframe thead th {\n",
       "        text-align: right;\n",
       "    }\n",
       "</style>\n",
       "<table border=\"1\" class=\"dataframe\">\n",
       "  <thead>\n",
       "    <tr style=\"text-align: right;\">\n",
       "      <th></th>\n",
       "      <th>Dx</th>\n",
       "      <th>Code</th>\n",
       "      <th>Code_n</th>\n",
       "    </tr>\n",
       "  </thead>\n",
       "  <tbody>\n",
       "    <tr>\n",
       "      <th>0</th>\n",
       "      <td>adenocarcinoma</td>\n",
       "      <td>8140</td>\n",
       "      <td>31</td>\n",
       "    </tr>\n",
       "    <tr>\n",
       "      <th>1</th>\n",
       "      <td>adenocarcinoma</td>\n",
       "      <td>8140</td>\n",
       "      <td>31</td>\n",
       "    </tr>\n",
       "    <tr>\n",
       "      <th>2</th>\n",
       "      <td>adenocarcinoma</td>\n",
       "      <td>8140</td>\n",
       "      <td>31</td>\n",
       "    </tr>\n",
       "    <tr>\n",
       "      <th>3</th>\n",
       "      <td>adenocarcinoma</td>\n",
       "      <td>8140</td>\n",
       "      <td>31</td>\n",
       "    </tr>\n",
       "    <tr>\n",
       "      <th>4</th>\n",
       "      <td>adenocarcinoma</td>\n",
       "      <td>8140</td>\n",
       "      <td>31</td>\n",
       "    </tr>\n",
       "    <tr>\n",
       "      <th>...</th>\n",
       "      <td>...</td>\n",
       "      <td>...</td>\n",
       "      <td>...</td>\n",
       "    </tr>\n",
       "    <tr>\n",
       "      <th>6792</th>\n",
       "      <td>squamous cell carcinoma and variants</td>\n",
       "      <td>8070</td>\n",
       "      <td>0</td>\n",
       "    </tr>\n",
       "    <tr>\n",
       "      <th>6793</th>\n",
       "      <td>squamous cell carcinoma conventional</td>\n",
       "      <td>8070</td>\n",
       "      <td>0</td>\n",
       "    </tr>\n",
       "    <tr>\n",
       "      <th>6794</th>\n",
       "      <td>ductal carcinoma in situ</td>\n",
       "      <td>8500</td>\n",
       "      <td>18</td>\n",
       "    </tr>\n",
       "    <tr>\n",
       "      <th>6795</th>\n",
       "      <td>serous carcinoma</td>\n",
       "      <td>8441</td>\n",
       "      <td>45</td>\n",
       "    </tr>\n",
       "    <tr>\n",
       "      <th>6796</th>\n",
       "      <td>acinar adenocarcinoma</td>\n",
       "      <td>8550</td>\n",
       "      <td>37</td>\n",
       "    </tr>\n",
       "  </tbody>\n",
       "</table>\n",
       "<p>6508 rows × 3 columns</p>\n",
       "</div>"
      ],
      "text/plain": [
       "                                        Dx  Code  Code_n\n",
       "0                           adenocarcinoma  8140      31\n",
       "1                           adenocarcinoma  8140      31\n",
       "2                           adenocarcinoma  8140      31\n",
       "3                           adenocarcinoma  8140      31\n",
       "4                           adenocarcinoma  8140      31\n",
       "...                                    ...   ...     ...\n",
       "6792  squamous cell carcinoma and variants  8070       0\n",
       "6793  squamous cell carcinoma conventional  8070       0\n",
       "6794              ductal carcinoma in situ  8500      18\n",
       "6795                      serous carcinoma  8441      45\n",
       "6796                 acinar adenocarcinoma  8550      37\n",
       "\n",
       "[6508 rows x 3 columns]"
      ]
     },
     "execution_count": 15,
     "metadata": {},
     "output_type": "execute_result"
    }
   ],
   "source": [
    "dfs"
   ]
  },
  {
   "cell_type": "code",
   "execution_count": 16,
   "id": "XWLhwU_DUJ80",
   "metadata": {
    "id": "XWLhwU_DUJ80"
   },
   "outputs": [],
   "source": [
    "from sklearn.model_selection import train_test_split\n",
    "\n",
    "train, test = train_test_split(dfs, test_size=0.2)"
   ]
  },
  {
   "cell_type": "code",
   "execution_count": 17,
   "id": "5I3-aj74UdDl",
   "metadata": {
    "colab": {
     "base_uri": "https://localhost:8080/",
     "height": 424
    },
    "id": "5I3-aj74UdDl",
    "outputId": "ef2073de-666f-4bfc-cad7-4aa825eac262"
   },
   "outputs": [
    {
     "data": {
      "text/html": [
       "<div>\n",
       "<style scoped>\n",
       "    .dataframe tbody tr th:only-of-type {\n",
       "        vertical-align: middle;\n",
       "    }\n",
       "\n",
       "    .dataframe tbody tr th {\n",
       "        vertical-align: top;\n",
       "    }\n",
       "\n",
       "    .dataframe thead th {\n",
       "        text-align: right;\n",
       "    }\n",
       "</style>\n",
       "<table border=\"1\" class=\"dataframe\">\n",
       "  <thead>\n",
       "    <tr style=\"text-align: right;\">\n",
       "      <th></th>\n",
       "      <th>Dx</th>\n",
       "      <th>Code</th>\n",
       "      <th>Code_n</th>\n",
       "    </tr>\n",
       "  </thead>\n",
       "  <tbody>\n",
       "    <tr>\n",
       "      <th>0</th>\n",
       "      <td>urothelial carcinoma in situ</td>\n",
       "      <td>8120</td>\n",
       "      <td>19</td>\n",
       "    </tr>\n",
       "    <tr>\n",
       "      <th>1</th>\n",
       "      <td>serous borderline tumor atypical proliferative...</td>\n",
       "      <td>8442</td>\n",
       "      <td>46</td>\n",
       "    </tr>\n",
       "    <tr>\n",
       "      <th>2</th>\n",
       "      <td>invasive carcinoma of no special type ductal n...</td>\n",
       "      <td>8500</td>\n",
       "      <td>18</td>\n",
       "    </tr>\n",
       "    <tr>\n",
       "      <th>3</th>\n",
       "      <td>serous carcinoma</td>\n",
       "      <td>8441</td>\n",
       "      <td>45</td>\n",
       "    </tr>\n",
       "    <tr>\n",
       "      <th>4</th>\n",
       "      <td>adenocarcinoma</td>\n",
       "      <td>8140</td>\n",
       "      <td>31</td>\n",
       "    </tr>\n",
       "    <tr>\n",
       "      <th>...</th>\n",
       "      <td>...</td>\n",
       "      <td>...</td>\n",
       "      <td>...</td>\n",
       "    </tr>\n",
       "    <tr>\n",
       "      <th>5201</th>\n",
       "      <td>ductal carcinoma in situ</td>\n",
       "      <td>8500</td>\n",
       "      <td>18</td>\n",
       "    </tr>\n",
       "    <tr>\n",
       "      <th>5202</th>\n",
       "      <td>ductal carcinoma in situ</td>\n",
       "      <td>8500</td>\n",
       "      <td>18</td>\n",
       "    </tr>\n",
       "    <tr>\n",
       "      <th>5203</th>\n",
       "      <td>invasive carcinoma of no special type ductal n...</td>\n",
       "      <td>8500</td>\n",
       "      <td>18</td>\n",
       "    </tr>\n",
       "    <tr>\n",
       "      <th>5204</th>\n",
       "      <td>invasive carcinoma of no special type ductal n...</td>\n",
       "      <td>8500</td>\n",
       "      <td>18</td>\n",
       "    </tr>\n",
       "    <tr>\n",
       "      <th>5205</th>\n",
       "      <td>urothelial carcinoma invasive</td>\n",
       "      <td>8120</td>\n",
       "      <td>19</td>\n",
       "    </tr>\n",
       "  </tbody>\n",
       "</table>\n",
       "<p>5206 rows × 3 columns</p>\n",
       "</div>"
      ],
      "text/plain": [
       "                                                     Dx  Code  Code_n\n",
       "0                          urothelial carcinoma in situ  8120      19\n",
       "1     serous borderline tumor atypical proliferative...  8442      46\n",
       "2     invasive carcinoma of no special type ductal n...  8500      18\n",
       "3                                      serous carcinoma  8441      45\n",
       "4                                        adenocarcinoma  8140      31\n",
       "...                                                 ...   ...     ...\n",
       "5201                           ductal carcinoma in situ  8500      18\n",
       "5202                           ductal carcinoma in situ  8500      18\n",
       "5203  invasive carcinoma of no special type ductal n...  8500      18\n",
       "5204  invasive carcinoma of no special type ductal n...  8500      18\n",
       "5205                      urothelial carcinoma invasive  8120      19\n",
       "\n",
       "[5206 rows x 3 columns]"
      ]
     },
     "execution_count": 17,
     "metadata": {},
     "output_type": "execute_result"
    }
   ],
   "source": [
    "train = train.reset_index(drop = True)\n",
    "train"
   ]
  },
  {
   "cell_type": "code",
   "execution_count": 18,
   "id": "sGLxRH9IUfmT",
   "metadata": {
    "colab": {
     "base_uri": "https://localhost:8080/",
     "height": 424
    },
    "id": "sGLxRH9IUfmT",
    "outputId": "5b62ec8f-8915-4489-9f34-4af6cda4877b"
   },
   "outputs": [
    {
     "data": {
      "text/html": [
       "<div>\n",
       "<style scoped>\n",
       "    .dataframe tbody tr th:only-of-type {\n",
       "        vertical-align: middle;\n",
       "    }\n",
       "\n",
       "    .dataframe tbody tr th {\n",
       "        vertical-align: top;\n",
       "    }\n",
       "\n",
       "    .dataframe thead th {\n",
       "        text-align: right;\n",
       "    }\n",
       "</style>\n",
       "<table border=\"1\" class=\"dataframe\">\n",
       "  <thead>\n",
       "    <tr style=\"text-align: right;\">\n",
       "      <th></th>\n",
       "      <th>Dx</th>\n",
       "      <th>Code</th>\n",
       "      <th>Code_n</th>\n",
       "    </tr>\n",
       "  </thead>\n",
       "  <tbody>\n",
       "    <tr>\n",
       "      <th>0</th>\n",
       "      <td>invasive carcinoma of no special type ductal</td>\n",
       "      <td>8500</td>\n",
       "      <td>18</td>\n",
       "    </tr>\n",
       "    <tr>\n",
       "      <th>1</th>\n",
       "      <td>focus of clear cell renal cell carcinoma</td>\n",
       "      <td>8312</td>\n",
       "      <td>44</td>\n",
       "    </tr>\n",
       "    <tr>\n",
       "      <th>2</th>\n",
       "      <td>adenocarcinoma</td>\n",
       "      <td>8140</td>\n",
       "      <td>31</td>\n",
       "    </tr>\n",
       "    <tr>\n",
       "      <th>3</th>\n",
       "      <td>urothelial carcinoma nested including large ne...</td>\n",
       "      <td>8120</td>\n",
       "      <td>19</td>\n",
       "    </tr>\n",
       "    <tr>\n",
       "      <th>4</th>\n",
       "      <td>adenocarcinoma</td>\n",
       "      <td>8140</td>\n",
       "      <td>31</td>\n",
       "    </tr>\n",
       "    <tr>\n",
       "      <th>...</th>\n",
       "      <td>...</td>\n",
       "      <td>...</td>\n",
       "      <td>...</td>\n",
       "    </tr>\n",
       "    <tr>\n",
       "      <th>1297</th>\n",
       "      <td>microinvasive carcinoma</td>\n",
       "      <td>8500</td>\n",
       "      <td>18</td>\n",
       "    </tr>\n",
       "    <tr>\n",
       "      <th>1298</th>\n",
       "      <td>invasive carcinoma of no special type ductal</td>\n",
       "      <td>8500</td>\n",
       "      <td>18</td>\n",
       "    </tr>\n",
       "    <tr>\n",
       "      <th>1299</th>\n",
       "      <td>hepatocellular carcinoma</td>\n",
       "      <td>8170</td>\n",
       "      <td>39</td>\n",
       "    </tr>\n",
       "    <tr>\n",
       "      <th>1300</th>\n",
       "      <td>acinar adenocarcinoma</td>\n",
       "      <td>8550</td>\n",
       "      <td>37</td>\n",
       "    </tr>\n",
       "    <tr>\n",
       "      <th>1301</th>\n",
       "      <td>invasive carcinoma of no special type invasive...</td>\n",
       "      <td>8500</td>\n",
       "      <td>18</td>\n",
       "    </tr>\n",
       "  </tbody>\n",
       "</table>\n",
       "<p>1302 rows × 3 columns</p>\n",
       "</div>"
      ],
      "text/plain": [
       "                                                     Dx  Code  Code_n\n",
       "0          invasive carcinoma of no special type ductal  8500      18\n",
       "1              focus of clear cell renal cell carcinoma  8312      44\n",
       "2                                        adenocarcinoma  8140      31\n",
       "3     urothelial carcinoma nested including large ne...  8120      19\n",
       "4                                        adenocarcinoma  8140      31\n",
       "...                                                 ...   ...     ...\n",
       "1297                            microinvasive carcinoma  8500      18\n",
       "1298       invasive carcinoma of no special type ductal  8500      18\n",
       "1299                           hepatocellular carcinoma  8170      39\n",
       "1300                              acinar adenocarcinoma  8550      37\n",
       "1301  invasive carcinoma of no special type invasive...  8500      18\n",
       "\n",
       "[1302 rows x 3 columns]"
      ]
     },
     "execution_count": 18,
     "metadata": {},
     "output_type": "execute_result"
    }
   ],
   "source": [
    "test = test.reset_index(drop = True)\n",
    "test"
   ]
  },
  {
   "cell_type": "code",
   "execution_count": 20,
   "id": "__Ow89cHVoQp",
   "metadata": {
    "colab": {
     "base_uri": "https://localhost:8080/"
    },
    "id": "__Ow89cHVoQp",
    "outputId": "f985a00a-2e7e-44f6-f33e-ff3f27b25a8c"
   },
   "outputs": [
    {
     "name": "stdout",
     "output_type": "stream",
     "text": [
      "(1302, 34)\n",
      "tensor([  101,  3579,  1997,  3154,  3526, 25125,  3526,  2482, 21081,  2863,\n",
      "          102,     0,     0,     0,     0,     0,     0,     0,     0,     0,\n",
      "            0,     0,     0,     0,     0,     0,     0,     0,     0,     0,\n",
      "            0,     0,     0,     0], dtype=torch.int32)\n",
      "focus of clear cell renal cell carcinoma\n"
     ]
    }
   ],
   "source": [
    "#pad everything to the same size! Set to the length of the largest input\n",
    "tokenized = test[\"Dx\"].apply((lambda x: tokenizer.encode(x, add_special_tokens=True)))\n",
    "# Set manually \n",
    "max_len = 34\n",
    "\n",
    "padded = np.array([i + [0]*(max_len-len(i)) for i in tokenized.values])\n",
    "#implement the attention mask\n",
    "attention_mask = np.where(padded != 0, 1, 0)\n",
    "print(attention_mask.shape)\n",
    "input_ids = torch.tensor(padded)\n",
    "index = 1\n",
    "print(input_ids[index])\n",
    "print(test[\"Dx\"][index])"
   ]
  },
  {
   "cell_type": "code",
   "execution_count": 21,
   "id": "rskJ6JOiWRaI",
   "metadata": {
    "colab": {
     "base_uri": "https://localhost:8080/"
    },
    "id": "rskJ6JOiWRaI",
    "outputId": "1812bb05-c181-497b-cba0-b61f20845ca0"
   },
   "outputs": [
    {
     "data": {
      "text/plain": [
       "(torch.Size([1302, 34]), (1302,))"
      ]
     },
     "execution_count": 21,
     "metadata": {},
     "output_type": "execute_result"
    }
   ],
   "source": [
    "x_test = input_ids\n",
    "y_test = test['Code_n'].values\n",
    "x_test.shape, y_test.shape"
   ]
  },
  {
   "cell_type": "code",
   "execution_count": 22,
   "id": "mFd6eSXQYhyH",
   "metadata": {
    "id": "mFd6eSXQYhyH"
   },
   "outputs": [],
   "source": [
    "test_data = []\n",
    "for i in range(len(x_test)):\n",
    "    test_data.append([x_test[i], y_test[i]])"
   ]
  },
  {
   "cell_type": "code",
   "execution_count": 23,
   "id": "GYJF9EthUhNx",
   "metadata": {
    "id": "GYJF9EthUhNx"
   },
   "outputs": [],
   "source": [
    "dfs = train"
   ]
  },
  {
   "cell_type": "markdown",
   "id": "XTojYE8AUK9E",
   "metadata": {
    "id": "XTojYE8AUK9E"
   },
   "source": [
    "## Upsampling"
   ]
  },
  {
   "cell_type": "code",
   "execution_count": 24,
   "id": "EQ5fUkWIZkh_",
   "metadata": {
    "colab": {
     "base_uri": "https://localhost:8080/"
    },
    "id": "EQ5fUkWIZkh_",
    "outputId": "42197c46-d2d9-4a2b-95ef-b432d0698e07"
   },
   "outputs": [
    {
     "data": {
      "text/plain": [
       "8500    1246\n",
       "8140     669\n",
       "8550     620\n",
       "8070     255\n",
       "8120     235\n",
       "8312     194\n",
       "8050     177\n",
       "8743     167\n",
       "8441     158\n",
       "8380     150\n",
       "8520     141\n",
       "8000     132\n",
       "8130      94\n",
       "8480      93\n",
       "8720      78\n",
       "8010      68\n",
       "8522      55\n",
       "8260      55\n",
       "8936      52\n",
       "8150      45\n",
       "8744      38\n",
       "8240      37\n",
       "8071      37\n",
       "8721      36\n",
       "8340      29\n",
       "8850      25\n",
       "8742      25\n",
       "8170      20\n",
       "8745      19\n",
       "8072      19\n",
       "8317      18\n",
       "8802      17\n",
       "8461      16\n",
       "9061      15\n",
       "8230      15\n",
       "8252      14\n",
       "8858      13\n",
       "8575      13\n",
       "8085      12\n",
       "9070      12\n",
       "9071      11\n",
       "8890      11\n",
       "8250      11\n",
       "8310      11\n",
       "8020      11\n",
       "8144      10\n",
       "8335      10\n",
       "8442       9\n",
       "8510       8\n",
       "Name: Code, dtype: int64"
      ]
     },
     "execution_count": 24,
     "metadata": {},
     "output_type": "execute_result"
    }
   ],
   "source": [
    "dfs['Code'].value_counts()"
   ]
  },
  {
   "cell_type": "code",
   "execution_count": 25,
   "id": "GU_A55VvEBXR",
   "metadata": {
    "colab": {
     "base_uri": "https://localhost:8080/",
     "height": 424
    },
    "id": "GU_A55VvEBXR",
    "outputId": "5505cba6-0f86-43a4-bc2d-9c0c8577db84"
   },
   "outputs": [
    {
     "data": {
      "text/html": [
       "<div>\n",
       "<style scoped>\n",
       "    .dataframe tbody tr th:only-of-type {\n",
       "        vertical-align: middle;\n",
       "    }\n",
       "\n",
       "    .dataframe tbody tr th {\n",
       "        vertical-align: top;\n",
       "    }\n",
       "\n",
       "    .dataframe thead th {\n",
       "        text-align: right;\n",
       "    }\n",
       "</style>\n",
       "<table border=\"1\" class=\"dataframe\">\n",
       "  <thead>\n",
       "    <tr style=\"text-align: right;\">\n",
       "      <th></th>\n",
       "      <th>Dx</th>\n",
       "      <th>Code</th>\n",
       "      <th>Code_n</th>\n",
       "    </tr>\n",
       "  </thead>\n",
       "  <tbody>\n",
       "    <tr>\n",
       "      <th>2</th>\n",
       "      <td>invasive carcinoma of no special type ductal n...</td>\n",
       "      <td>8500</td>\n",
       "      <td>18</td>\n",
       "    </tr>\n",
       "    <tr>\n",
       "      <th>13</th>\n",
       "      <td>invasive carcinoma of no special type ductal n...</td>\n",
       "      <td>8500</td>\n",
       "      <td>18</td>\n",
       "    </tr>\n",
       "    <tr>\n",
       "      <th>14</th>\n",
       "      <td>invasive carcinoma of no special type invasive...</td>\n",
       "      <td>8500</td>\n",
       "      <td>18</td>\n",
       "    </tr>\n",
       "    <tr>\n",
       "      <th>15</th>\n",
       "      <td>invasive carcinoma of no special type ductal n...</td>\n",
       "      <td>8500</td>\n",
       "      <td>18</td>\n",
       "    </tr>\n",
       "    <tr>\n",
       "      <th>19</th>\n",
       "      <td>ductal carcinoma in situ</td>\n",
       "      <td>8500</td>\n",
       "      <td>18</td>\n",
       "    </tr>\n",
       "    <tr>\n",
       "      <th>...</th>\n",
       "      <td>...</td>\n",
       "      <td>...</td>\n",
       "      <td>...</td>\n",
       "    </tr>\n",
       "    <tr>\n",
       "      <th>4359</th>\n",
       "      <td>somatically derived yolk sac tumor</td>\n",
       "      <td>9071</td>\n",
       "      <td>41</td>\n",
       "    </tr>\n",
       "    <tr>\n",
       "      <th>4318</th>\n",
       "      <td>yolk sac tumor endodermal sinus tumor</td>\n",
       "      <td>9071</td>\n",
       "      <td>41</td>\n",
       "    </tr>\n",
       "    <tr>\n",
       "      <th>928</th>\n",
       "      <td>yolk sac tumor</td>\n",
       "      <td>9071</td>\n",
       "      <td>41</td>\n",
       "    </tr>\n",
       "    <tr>\n",
       "      <th>4267</th>\n",
       "      <td>somatically derived yolk sac tumor</td>\n",
       "      <td>9071</td>\n",
       "      <td>41</td>\n",
       "    </tr>\n",
       "    <tr>\n",
       "      <th>4267</th>\n",
       "      <td>somatically derived yolk sac tumor</td>\n",
       "      <td>9071</td>\n",
       "      <td>41</td>\n",
       "    </tr>\n",
       "  </tbody>\n",
       "</table>\n",
       "<p>61054 rows × 3 columns</p>\n",
       "</div>"
      ],
      "text/plain": [
       "                                                     Dx  Code  Code_n\n",
       "2     invasive carcinoma of no special type ductal n...  8500      18\n",
       "13    invasive carcinoma of no special type ductal n...  8500      18\n",
       "14    invasive carcinoma of no special type invasive...  8500      18\n",
       "15    invasive carcinoma of no special type ductal n...  8500      18\n",
       "19                             ductal carcinoma in situ  8500      18\n",
       "...                                                 ...   ...     ...\n",
       "4359                 somatically derived yolk sac tumor  9071      41\n",
       "4318              yolk sac tumor endodermal sinus tumor  9071      41\n",
       "928                                      yolk sac tumor  9071      41\n",
       "4267                 somatically derived yolk sac tumor  9071      41\n",
       "4267                 somatically derived yolk sac tumor  9071      41\n",
       "\n",
       "[61054 rows x 3 columns]"
      ]
     },
     "execution_count": 25,
     "metadata": {},
     "output_type": "execute_result"
    }
   ],
   "source": [
    "### Upsample for Class balance:\n",
    "from sklearn.utils import resample\n",
    "\n",
    "df_majority = dfs[dfs.loc[:,\"Code\"]==8500]\n",
    "max_len = len(df_majority)\n",
    "for code in codes:\n",
    "  if code != 8500:\n",
    "    df_minority = dfs[dfs.loc[:,\"Code\"]==code]\n",
    "    upsampled_minority = resample(df_minority, replace=True, n_samples=max_len)\n",
    "    df_majority = pd.concat([df_majority, upsampled_minority])\n",
    "\n",
    "df_majority"
   ]
  },
  {
   "cell_type": "code",
   "execution_count": 26,
   "id": "qZi5L0g9FXap",
   "metadata": {
    "colab": {
     "base_uri": "https://localhost:8080/"
    },
    "id": "qZi5L0g9FXap",
    "outputId": "3dfdafac-88ef-4f11-91a4-40805e131e91"
   },
   "outputs": [
    {
     "data": {
      "text/plain": [
       "8340    1246\n",
       "8050    1246\n",
       "8310    1246\n",
       "8144    1246\n",
       "8240    1246\n",
       "8720    1246\n",
       "8721    1246\n",
       "8150    1246\n",
       "8850    1246\n",
       "Name: Code, dtype: int64"
      ]
     },
     "execution_count": 26,
     "metadata": {},
     "output_type": "execute_result"
    }
   ],
   "source": [
    "#Proof of upsample working:\n",
    "df_majority[\"Code\"].value_counts()[1:10]"
   ]
  },
  {
   "cell_type": "code",
   "execution_count": 27,
   "id": "Z6lDYMmPATsy",
   "metadata": {
    "id": "Z6lDYMmPATsy"
   },
   "outputs": [],
   "source": [
    "### How many Codes do we want??? 1) 117 2) grouped version"
   ]
  },
  {
   "cell_type": "code",
   "execution_count": 28,
   "id": "Jb60aC85GGTm",
   "metadata": {
    "id": "Jb60aC85GGTm"
   },
   "outputs": [],
   "source": [
    "df_upsampled = df_majority.copy()"
   ]
  },
  {
   "cell_type": "code",
   "execution_count": 29,
   "id": "bWBBg1qRG4D9",
   "metadata": {
    "colab": {
     "base_uri": "https://localhost:8080/",
     "height": 53
    },
    "id": "bWBBg1qRG4D9",
    "outputId": "89da4549-d431-4349-97f7-5ab3336e725a"
   },
   "outputs": [
    {
     "data": {
      "text/plain": [
       "'\\n#remove non-alphabetical characters, lower case, puctuation, extra spaces. \\ndf_upsampled[\"Dx\"] = df_upsampled[\"Dx\"].str.lower()\\ndf_upsampled[\"Dx\"] = df_upsampled[\"Dx\"].replace(r\\'[^a-z|\\\\s]\\', \\'\\', regex=True)\\ndf_upsampled[\"Dx\"] = df_upsampled[\"Dx\"].replace(r\\'\\\\s\\\\s+\\', \\' \\', regex=True)\\n'"
      ]
     },
     "execution_count": 29,
     "metadata": {},
     "output_type": "execute_result"
    }
   ],
   "source": [
    "'''\n",
    "#remove non-alphabetical characters, lower case, puctuation, extra spaces. \n",
    "df_upsampled[\"Dx\"] = df_upsampled[\"Dx\"].str.lower()\n",
    "df_upsampled[\"Dx\"] = df_upsampled[\"Dx\"].replace(r'[^a-z|\\s]', '', regex=True)\n",
    "df_upsampled[\"Dx\"] = df_upsampled[\"Dx\"].replace(r'\\s\\s+', ' ', regex=True)\n",
    "'''"
   ]
  },
  {
   "cell_type": "code",
   "execution_count": 30,
   "id": "3E5ZnenoHXIy",
   "metadata": {
    "colab": {
     "base_uri": "https://localhost:8080/"
    },
    "id": "3E5ZnenoHXIy",
    "outputId": "ca8aaaa3-76e4-40bd-dbeb-6f37bad6b6c4"
   },
   "outputs": [
    {
     "data": {
      "text/plain": [
       "2       invasive carcinoma of no special type ductal n...\n",
       "13      invasive carcinoma of no special type ductal n...\n",
       "14      invasive carcinoma of no special type invasive...\n",
       "15      invasive carcinoma of no special type ductal n...\n",
       "19                               ductal carcinoma in situ\n",
       "                              ...                        \n",
       "4359                   somatically derived yolk sac tumor\n",
       "4318                yolk sac tumor endodermal sinus tumor\n",
       "928                                        yolk sac tumor\n",
       "4267                   somatically derived yolk sac tumor\n",
       "4267                   somatically derived yolk sac tumor\n",
       "Name: Dx, Length: 61054, dtype: object"
      ]
     },
     "execution_count": 30,
     "metadata": {},
     "output_type": "execute_result"
    }
   ],
   "source": [
    "df_upsampled[\"Dx\"]"
   ]
  },
  {
   "cell_type": "code",
   "execution_count": 31,
   "id": "Ah93XTTQH8la",
   "metadata": {
    "colab": {
     "base_uri": "https://localhost:8080/",
     "height": 206
    },
    "id": "Ah93XTTQH8la",
    "outputId": "7f2466db-3c5c-4511-9449-0d3c577b5e3e"
   },
   "outputs": [
    {
     "data": {
      "text/html": [
       "<div>\n",
       "<style scoped>\n",
       "    .dataframe tbody tr th:only-of-type {\n",
       "        vertical-align: middle;\n",
       "    }\n",
       "\n",
       "    .dataframe tbody tr th {\n",
       "        vertical-align: top;\n",
       "    }\n",
       "\n",
       "    .dataframe thead th {\n",
       "        text-align: right;\n",
       "    }\n",
       "</style>\n",
       "<table border=\"1\" class=\"dataframe\">\n",
       "  <thead>\n",
       "    <tr style=\"text-align: right;\">\n",
       "      <th></th>\n",
       "      <th>Dx</th>\n",
       "      <th>Code</th>\n",
       "      <th>Code_n</th>\n",
       "    </tr>\n",
       "  </thead>\n",
       "  <tbody>\n",
       "    <tr>\n",
       "      <th>2</th>\n",
       "      <td>invasive carcinoma of no special type ductal n...</td>\n",
       "      <td>8500</td>\n",
       "      <td>18</td>\n",
       "    </tr>\n",
       "    <tr>\n",
       "      <th>13</th>\n",
       "      <td>invasive carcinoma of no special type ductal n...</td>\n",
       "      <td>8500</td>\n",
       "      <td>18</td>\n",
       "    </tr>\n",
       "    <tr>\n",
       "      <th>14</th>\n",
       "      <td>invasive carcinoma of no special type invasive...</td>\n",
       "      <td>8500</td>\n",
       "      <td>18</td>\n",
       "    </tr>\n",
       "    <tr>\n",
       "      <th>15</th>\n",
       "      <td>invasive carcinoma of no special type ductal n...</td>\n",
       "      <td>8500</td>\n",
       "      <td>18</td>\n",
       "    </tr>\n",
       "    <tr>\n",
       "      <th>19</th>\n",
       "      <td>ductal carcinoma in situ</td>\n",
       "      <td>8500</td>\n",
       "      <td>18</td>\n",
       "    </tr>\n",
       "  </tbody>\n",
       "</table>\n",
       "</div>"
      ],
      "text/plain": [
       "                                                   Dx  Code  Code_n\n",
       "2   invasive carcinoma of no special type ductal n...  8500      18\n",
       "13  invasive carcinoma of no special type ductal n...  8500      18\n",
       "14  invasive carcinoma of no special type invasive...  8500      18\n",
       "15  invasive carcinoma of no special type ductal n...  8500      18\n",
       "19                           ductal carcinoma in situ  8500      18"
      ]
     },
     "execution_count": 31,
     "metadata": {},
     "output_type": "execute_result"
    }
   ],
   "source": [
    "df_upsampled.head()"
   ]
  },
  {
   "cell_type": "code",
   "execution_count": 91,
   "id": "a33445a7",
   "metadata": {},
   "outputs": [
    {
     "name": "stdout",
     "output_type": "stream",
     "text": [
      "49\n"
     ]
    }
   ],
   "source": [
    "print(len(df_upsampled['Code'].value_counts()))"
   ]
  },
  {
   "cell_type": "code",
   "execution_count": 32,
   "id": "MQbMp0WgZ-D-",
   "metadata": {
    "colab": {
     "base_uri": "https://localhost:8080/",
     "height": 420
    },
    "id": "MQbMp0WgZ-D-",
    "outputId": "54a9258b-f385-4a70-a5ed-e07c588b8cc8"
   },
   "outputs": [
    {
     "data": {
      "image/png": "[encoded data removed]",
      "text/plain": [
       "<Figure size 720x432 with 1 Axes>"
      ]
     },
     "metadata": {
      "needs_background": "light"
     },
     "output_type": "display_data"
    }
   ],
   "source": [
    "import matplotlib.pyplot as plt\n",
    "fig, ax = plt.subplots(figsize=(10,6))\n",
    "df_upsampled['Code'].value_counts().plot(ax=ax, kind='bar')\n",
    "ax.set_xlabel(\"ICD_Code\")\n",
    "ax.set_ylabel(\"Value Counts\")\n",
    "ax.set_title(\"Value Counts Across ICD Codes\");"
   ]
  },
  {
   "cell_type": "code",
   "execution_count": 33,
   "id": "ce6332f8",
   "metadata": {
    "colab": {
     "base_uri": "https://localhost:8080/",
     "height": 53
    },
    "id": "ce6332f8",
    "outputId": "a6539a5e-ef55-429c-f790-acb1afdd87cd"
   },
   "outputs": [
    {
     "data": {
      "text/plain": [
       "\"\\n#Load the pretrained bert model\\nmodel_class, tokenizer_class, pretrained_weights = (ppb.BertModel, ppb.BertTokenizer, 'bert-base-uncased')\\n\\n# Load pretrained model/tokenizer\\ntokenizer = tokenizer_class.from_pretrained(pretrained_weights)\\nmodel = model_class.from_pretrained(pretrained_weights)\\n\""
      ]
     },
     "execution_count": 33,
     "metadata": {},
     "output_type": "execute_result"
    }
   ],
   "source": [
    "'''\n",
    "#Load the pretrained bert model\n",
    "model_class, tokenizer_class, pretrained_weights = (ppb.BertModel, ppb.BertTokenizer, 'bert-base-uncased')\n",
    "\n",
    "# Load pretrained model/tokenizer\n",
    "tokenizer = tokenizer_class.from_pretrained(pretrained_weights)\n",
    "model = model_class.from_pretrained(pretrained_weights)\n",
    "'''"
   ]
  },
  {
   "cell_type": "code",
   "execution_count": 34,
   "id": "-6UlA-rBUeXh",
   "metadata": {
    "id": "-6UlA-rBUeXh"
   },
   "outputs": [],
   "source": [
    "#df_upsampled.iloc[1392]"
   ]
  },
  {
   "cell_type": "code",
   "execution_count": 35,
   "id": "5ae72936",
   "metadata": {
    "id": "5ae72936"
   },
   "outputs": [],
   "source": [
    "tokenized = df_upsampled[\"Dx\"].apply((lambda x: tokenizer.encode(x, add_special_tokens=True)))"
   ]
  },
  {
   "cell_type": "code",
   "execution_count": 36,
   "id": "BxtwWtreWSFe",
   "metadata": {
    "colab": {
     "base_uri": "https://localhost:8080/"
    },
    "id": "BxtwWtreWSFe",
    "outputId": "21942734-8624-4e7b-e9b4-18738a283e14"
   },
   "outputs": [
    {
     "data": {
      "text/plain": [
       "[101, 13866, 13656, 2062, 2084, 4642, 1999, 4602, 9812, 102]"
      ]
     },
     "execution_count": 36,
     "metadata": {},
     "output_type": "execute_result"
    }
   ],
   "source": [
    "tokenized.iloc[1392]"
   ]
  },
  {
   "cell_type": "code",
   "execution_count": 37,
   "id": "25e953e5",
   "metadata": {
    "id": "25e953e5"
   },
   "outputs": [],
   "source": [
    "#pad everything to the same size! Set to the length of the largest input\n",
    "max_len = 0\n",
    "for i in tokenized.values:\n",
    "    if len(i) > max_len:\n",
    "        max_len = len(i)\n",
    "\n",
    "padded = np.array([i + [0]*(max_len-len(i)) for i in tokenized.values])"
   ]
  },
  {
   "cell_type": "code",
   "execution_count": 38,
   "id": "6c62616b",
   "metadata": {
    "colab": {
     "base_uri": "https://localhost:8080/"
    },
    "id": "6c62616b",
    "outputId": "b959661e-4e8a-4639-d005-77c427f662ef"
   },
   "outputs": [
    {
     "data": {
      "text/plain": [
       "(61054, 32)"
      ]
     },
     "execution_count": 38,
     "metadata": {},
     "output_type": "execute_result"
    }
   ],
   "source": [
    "#implement the attention mask\n",
    "attention_mask = np.where(padded != 0, 1, 0)\n",
    "attention_mask.shape"
   ]
  },
  {
   "cell_type": "code",
   "execution_count": 47,
   "id": "c58ff5f8",
   "metadata": {},
   "outputs": [
    {
     "data": {
      "text/plain": [
       "tensor([  101,  1043,  2092,  4305, 12494,  4765, 15070, 11265, 10976, 10497,\n",
       "        10085, 11467, 13656,   102,     0,     0,     0,     0,     0,     0,\n",
       "            0,     0,     0,     0,     0,     0,     0,     0,     0,     0,\n",
       "            0,     0,     0,     0], dtype=torch.int32)"
      ]
     },
     "execution_count": 47,
     "metadata": {},
     "output_type": "execute_result"
    }
   ],
   "source": [
    "input_ids[234]"
   ]
  },
  {
   "cell_type": "code",
   "execution_count": 48,
   "id": "77cb29eb",
   "metadata": {
    "id": "77cb29eb"
   },
   "outputs": [],
   "source": [
    "input_ids = torch.tensor(padded)"
   ]
  },
  {
   "cell_type": "code",
   "execution_count": 49,
   "id": "b84b6dc9",
   "metadata": {
    "colab": {
     "base_uri": "https://localhost:8080/"
    },
    "id": "b84b6dc9",
    "outputId": "65efc931-168c-4de8-aeb8-78ade681ede1"
   },
   "outputs": [
    {
     "name": "stdout",
     "output_type": "stream",
     "text": [
      "61054\n",
      "61054\n"
     ]
    }
   ],
   "source": [
    "#input_ids is the embedding of the sentence\n",
    "print(len(input_ids))\n",
    "print(len(df_upsampled))"
   ]
  },
  {
   "cell_type": "code",
   "execution_count": 50,
   "id": "535b9f1d",
   "metadata": {
    "colab": {
     "base_uri": "https://localhost:8080/"
    },
    "id": "535b9f1d",
    "outputId": "e2af334a-546c-41d5-c1c8-aa157f4e834f"
   },
   "outputs": [
    {
     "name": "stdout",
     "output_type": "stream",
     "text": [
      "tensor([  101, 17503,  2482, 21081,  2863,  1997,  2053,  2569,  2828, 23245,\n",
      "         2389,  2025,  4728,  9675,   102,     0,     0,     0,     0,     0,\n",
      "            0,     0,     0,     0,     0,     0,     0,     0,     0,     0,\n",
      "            0,     0], dtype=torch.int32)\n",
      "1    serous borderline tumor atypical proliferative...\n",
      "1    serous borderline tumor atypical proliferative...\n",
      "1    serous borderline tumor atypical proliferative...\n",
      "1    serous borderline tumor atypical proliferative...\n",
      "1    serous borderline tumor atypical proliferative...\n",
      "                           ...                        \n",
      "1    serous borderline tumor atypical proliferative...\n",
      "1    serous borderline tumor atypical proliferative...\n",
      "1    serous borderline tumor atypical proliferative...\n",
      "1    serous borderline tumor atypical proliferative...\n",
      "1    serous borderline tumor atypical proliferative...\n",
      "Name: Dx, Length: 128, dtype: object\n"
     ]
    }
   ],
   "source": [
    "index = 1\n",
    "print(input_ids[index])\n",
    "print(df_upsampled[\"Dx\"][index])"
   ]
  },
  {
   "cell_type": "code",
   "execution_count": 51,
   "id": "4Jk4y5nwZb9f",
   "metadata": {
    "id": "4Jk4y5nwZb9f"
   },
   "outputs": [],
   "source": [
    "### Have to encode 0-9 each of the ICD Codes: "
   ]
  },
  {
   "cell_type": "code",
   "execution_count": 52,
   "id": "nR2LTXq7ae06",
   "metadata": {
    "colab": {
     "base_uri": "https://localhost:8080/"
    },
    "id": "nR2LTXq7ae06",
    "outputId": "4ec983a3-da5b-45ee-81c5-130dbe7ff574"
   },
   "outputs": [
    {
     "data": {
      "text/plain": [
       "array([18, 18, 18, ..., 41, 41, 41])"
      ]
     },
     "execution_count": 52,
     "metadata": {},
     "output_type": "execute_result"
    }
   ],
   "source": [
    "#vectorize the Y keys to corresponding values:\n",
    "y_train = df_upsampled[\"Code\"].values\n",
    "y_train = np.vectorize(icd_codes_d.get)(y_train)\n",
    "y_train"
   ]
  },
  {
   "cell_type": "code",
   "execution_count": 53,
   "id": "nzgQN-W9Mu-y",
   "metadata": {
    "id": "nzgQN-W9Mu-y"
   },
   "outputs": [],
   "source": [
    "# train, dev, test: "
   ]
  },
  {
   "cell_type": "code",
   "execution_count": 54,
   "id": "Q4lagiQCblrf",
   "metadata": {
    "id": "Q4lagiQCblrf"
   },
   "outputs": [],
   "source": [
    "# train-test split:\n",
    "test_size = int(np.floor(len(y_train)*.25))\n",
    "rand_test_ints = np.random.randint(low=0, high=len(y_train), size=test_size)\n",
    "\n",
    "y_dev = y_train[rand_test_ints]\n",
    "y_train = np.delete(y_train, rand_test_ints, axis=0)\n",
    "\n",
    "x_dev = input_ids[rand_test_ints]\n",
    "x_train = np.delete(input_ids, rand_test_ints, axis=0)"
   ]
  },
  {
   "cell_type": "code",
   "execution_count": 55,
   "id": "01b45439",
   "metadata": {},
   "outputs": [
    {
     "data": {
      "text/plain": [
       "(torch.Size([47595, 32]), (47595,))"
      ]
     },
     "execution_count": 55,
     "metadata": {},
     "output_type": "execute_result"
    }
   ],
   "source": [
    "x_train.shape, y_train.shape"
   ]
  },
  {
   "cell_type": "code",
   "execution_count": 56,
   "id": "r0QubjyjciPD",
   "metadata": {
    "colab": {
     "base_uri": "https://localhost:8080/"
    },
    "id": "r0QubjyjciPD",
    "outputId": "1ddb901a-55fe-4777-d727-275eb965c19f"
   },
   "outputs": [
    {
     "data": {
      "text/plain": [
       "((47595,), (15263,))"
      ]
     },
     "execution_count": 56,
     "metadata": {},
     "output_type": "execute_result"
    }
   ],
   "source": [
    "y_train.shape, y_dev.shape"
   ]
  },
  {
   "cell_type": "code",
   "execution_count": 127,
   "id": "46c2218f",
   "metadata": {},
   "outputs": [
    {
     "name": "stdout",
     "output_type": "stream",
     "text": [
      "tensor([[  101, 17503,  2482,  ...,     0,     0,     0],\n",
      "        [  101, 17503,  2482,  ...,     0,     0,     0],\n",
      "        [  101, 17503,  2482,  ...,     0,     0,     0],\n",
      "        ...,\n",
      "        [  101, 10930, 13687,  ...,     0,     0,     0],\n",
      "        [  101, 10930, 13687,  ...,     0,     0,     0],\n",
      "        [  101,  2061, 12644,  ...,     0,     0,     0]], dtype=torch.int32)\n",
      "tensor([[  101,  5490,  6692,  ...,     0,     0,     0],\n",
      "        [  101,  6151, 13355,  ...,     0,     0,     0],\n",
      "        [  101,  2002,  4502,  ...,     0,     0,     0],\n",
      "        ...,\n",
      "        [  101, 26947, 16940,  ...,     0,     0,     0],\n",
      "        [  101, 17503,  8840,  ...,     0,     0,     0],\n",
      "        [  101,  2152,  3694,  ...,     0,     0,     0]], dtype=torch.int32)\n"
     ]
    }
   ],
   "source": [
    "print(x_train)\n",
    "print(x_dev)"
   ]
  },
  {
   "cell_type": "markdown",
   "id": "d3151444",
   "metadata": {
    "id": "d3151444"
   },
   "source": [
    "# Classifying"
   ]
  },
  {
   "cell_type": "code",
   "execution_count": 221,
   "id": "8b12d119",
   "metadata": {},
   "outputs": [],
   "source": [
    "x_train_min, x_train_max = x_train.min(), x_train.max()\n",
    "new_min, new_max = 0, 1"
   ]
  },
  {
   "cell_type": "code",
   "execution_count": 222,
   "id": "eb5b4489",
   "metadata": {},
   "outputs": [],
   "source": [
    "x_train_new = (x_train - x_train_min)/(x_train_max - x_train_min)*(new_max - new_min) + new_min"
   ]
  },
  {
   "cell_type": "code",
   "execution_count": 223,
   "id": "bba4d199",
   "metadata": {},
   "outputs": [
    {
     "name": "stdout",
     "output_type": "stream",
     "text": [
      "tensor([[0.0034, 0.5911, 0.0838,  ..., 0.0000, 0.0000, 0.0000],\n",
      "        [0.0034, 0.5911, 0.0838,  ..., 0.0000, 0.0000, 0.0000],\n",
      "        [0.0034, 0.5911, 0.0838,  ..., 0.0000, 0.0000, 0.0000],\n",
      "        ...,\n",
      "        [0.0034, 0.3691, 0.4622,  ..., 0.0000, 0.0000, 0.0000],\n",
      "        [0.0034, 0.3691, 0.4622,  ..., 0.0000, 0.0000, 0.0000],\n",
      "        [0.0034, 0.0696, 0.4270,  ..., 0.0000, 0.0000, 0.0000]])\n"
     ]
    }
   ],
   "source": [
    "print(x_train_new)"
   ]
  },
  {
   "cell_type": "code",
   "execution_count": 224,
   "id": "7538f99a",
   "metadata": {},
   "outputs": [
    {
     "name": "stdout",
     "output_type": "stream",
     "text": [
      "tensor([[0.0034, 0.1854, 0.2260,  ..., 0.0000, 0.0000, 0.0000],\n",
      "        [0.0034, 0.2077, 0.4510,  ..., 0.0000, 0.0000, 0.0000],\n",
      "        [0.0034, 0.0676, 0.1520,  ..., 0.0000, 0.0000, 0.0000],\n",
      "        ...,\n",
      "        [0.0034, 0.9101, 0.5721,  ..., 0.0000, 0.0000, 0.0000],\n",
      "        [0.0034, 0.5911, 0.2985,  ..., 0.0000, 0.0000, 0.0000],\n",
      "        [0.0034, 0.0727, 0.1248,  ..., 0.0000, 0.0000, 0.0000]])\n"
     ]
    }
   ],
   "source": [
    "x_dev_min, x_dev_max = x_dev.min(), x_dev.max()\n",
    "new_min, new_max = 0, 1\n",
    "x_dev_new = (x_dev - x_dev_min)/(x_dev_max - x_dev_min)*(new_max - new_min) + new_min\n",
    "print(x_dev_new)"
   ]
  },
  {
   "cell_type": "code",
   "execution_count": 225,
   "id": "36a4c90b",
   "metadata": {},
   "outputs": [
    {
     "name": "stdout",
     "output_type": "stream",
     "text": [
      "29\n"
     ]
    }
   ],
   "source": [
    "print(y_train[2243])"
   ]
  },
  {
   "cell_type": "code",
   "execution_count": 249,
   "id": "e8eb6948",
   "metadata": {},
   "outputs": [
    {
     "name": "stdout",
     "output_type": "stream",
     "text": [
      "Epoch: 1 \tTraining Loss: 3.932424 \tValidation Loss: 3.839116\n",
      "Epoch: 11 \tTraining Loss: 3.405326 \tValidation Loss: 3.277974\n",
      "Epoch: 21 \tTraining Loss: 2.931941 \tValidation Loss: 2.774156\n",
      "Epoch: 31 \tTraining Loss: 2.519391 \tValidation Loss: 2.340442\n",
      "Epoch: 41 \tTraining Loss: 2.171152 \tValidation Loss: 1.981102\n",
      "Epoch: 51 \tTraining Loss: 1.884058 \tValidation Loss: 1.689255\n",
      "Epoch: 61 \tTraining Loss: 1.647837 \tValidation Loss: 1.453737\n",
      "Epoch: 71 \tTraining Loss: 1.457565 \tValidation Loss: 1.262982\n",
      "Epoch: 81 \tTraining Loss: 1.300345 \tValidation Loss: 1.107306\n",
      "Epoch: 91 \tTraining Loss: 1.167340 \tValidation Loss: 0.979279\n",
      "Epoch: 101 \tTraining Loss: 1.056738 \tValidation Loss: 0.873340\n",
      "Epoch: 111 \tTraining Loss: 0.967240 \tValidation Loss: 0.785135\n",
      "Epoch: 121 \tTraining Loss: 0.888168 \tValidation Loss: 0.711252\n",
      "Epoch: 131 \tTraining Loss: 0.821056 \tValidation Loss: 0.648999\n",
      "Epoch: 141 \tTraining Loss: 0.763151 \tValidation Loss: 0.596192\n",
      "Epoch: 151 \tTraining Loss: 0.715479 \tValidation Loss: 0.551019\n",
      "Epoch: 161 \tTraining Loss: 0.673376 \tValidation Loss: 0.513646\n",
      "Epoch: 171 \tTraining Loss: 0.636462 \tValidation Loss: 0.479269\n",
      "Epoch: 181 \tTraining Loss: 0.601485 \tValidation Loss: 0.449400\n",
      "Epoch: 191 \tTraining Loss: 0.574896 \tValidation Loss: 0.423752\n",
      "Epoch: 201 \tTraining Loss: 0.544015 \tValidation Loss: 0.400433\n",
      "Epoch: 211 \tTraining Loss: 0.517781 \tValidation Loss: 0.379705\n",
      "Epoch: 221 \tTraining Loss: 0.498972 \tValidation Loss: 0.361087\n",
      "Epoch: 231 \tTraining Loss: 0.479310 \tValidation Loss: 0.344057\n",
      "Epoch: 241 \tTraining Loss: 0.463260 \tValidation Loss: 0.331286\n",
      "Epoch: 251 \tTraining Loss: 0.445817 \tValidation Loss: 0.317146\n",
      "Epoch: 261 \tTraining Loss: 0.435609 \tValidation Loss: 0.306077\n",
      "Epoch: 271 \tTraining Loss: 0.419149 \tValidation Loss: 0.294092\n",
      "Epoch: 281 \tTraining Loss: 0.406741 \tValidation Loss: 0.283082\n",
      "Epoch: 291 \tTraining Loss: 0.395236 \tValidation Loss: 0.272870\n"
     ]
    }
   ],
   "source": [
    "import torch\n",
    "from torch.utils.data import DataLoader, Dataset\n",
    "from torch.utils.data.sampler import SubsetRandomSampler\n",
    "import torch.nn as nn\n",
    "import torch.nn.functional as F\n",
    "\n",
    "# define the NN architecture\n",
    "class Net(nn.Module):\n",
    "    def __init__(self):\n",
    "        super(Net, self).__init__()\n",
    "        hidden_1 = 200\n",
    "        hidden_2 = 100\n",
    "        self.fc1 = nn.Linear(32, hidden_1)\n",
    "        self.fc2 = nn.Linear(hidden_1, hidden_2)\n",
    "        self.fc3 = nn.Linear(hidden_2, 50)\n",
    "        self.dropout = nn.Dropout(0.3)\n",
    "\n",
    "    def forward(self, x):\n",
    "        #x = x.view(-1, 300)\n",
    "        x = F.tanh(self.fc1(x))\n",
    "        x = self.dropout(x)\n",
    "        x = F.tanh(self.fc2(x))\n",
    "        x = self.dropout(x)\n",
    "        x = self.fc3(x)\n",
    "        return x\n",
    "\n",
    "model = Net()\n",
    "criterion = nn.CrossEntropyLoss()\n",
    "\n",
    "optimizer =  torch.optim.SGD(model.parameters(), lr=0.1)\n",
    "n_epochs = 300\n",
    "\n",
    "valid_loss_min = np.Inf # set initial \"min\" to infinity\n",
    "\n",
    "#data = torch.Tensor(binaryTrainSet[\"W2V\"])\n",
    "#target = torch.Tensor(binaryTrainSet[\"sentiment\"].astype(int))\n",
    "#target = target.type(torch.LongTensor)\n",
    "\n",
    "data = x_train.type(torch.LongTensor)\n",
    "target = torch.Tensor(y_train)\n",
    "target = target.type(torch.LongTensor)\n",
    "\n",
    "for epoch in range(n_epochs):\n",
    "    train_loss = 0.0\n",
    "    valid_loss = 0.0\n",
    "    \n",
    "    model.train() # prep model for training\n",
    "    optimizer.zero_grad()\n",
    "    output = model(data.float())\n",
    "    #output = output.type(torch.LongTensor)\n",
    "    loss = criterion(output, target)\n",
    "    loss.backward()\n",
    "    optimizer.step()\n",
    "    train_loss += loss.item()*data.size(0)\n",
    "        \n",
    "    model.eval() # prep model for evaluation\n",
    "    output = model(data.float())\n",
    "    loss = criterion(output, target)\n",
    "    valid_loss += loss.item()*data.size(0)\n",
    "        \n",
    "    train_loss = train_loss/len(data)\n",
    "    valid_loss = valid_loss/len(data)\n",
    "    \n",
    "    if epoch % 10 == 0:\n",
    "        print('Epoch: {} \\tTraining Loss: {:.6f} \\tValidation Loss: {:.6f}'.format(\n",
    "            epoch+1, \n",
    "            train_loss,\n",
    "            valid_loss\n",
    "            ))\n",
    "    \n",
    "    if valid_loss <= valid_loss_min:\n",
    "        torch.save(model.state_dict(), 'model.pt')\n",
    "        valid_loss_min = valid_loss\n",
    "        "
   ]
  },
  {
   "cell_type": "code",
   "execution_count": 252,
   "id": "759ba38b",
   "metadata": {},
   "outputs": [
    {
     "name": "stdout",
     "output_type": "stream",
     "text": [
      "tensor([[0.0034, 0.1854, 0.2260,  ..., 0.0000, 0.0000, 0.0000],\n",
      "        [0.0034, 0.2077, 0.4510,  ..., 0.0000, 0.0000, 0.0000],\n",
      "        [0.0034, 0.0676, 0.1520,  ..., 0.0000, 0.0000, 0.0000],\n",
      "        ...,\n",
      "        [0.0034, 0.9101, 0.5721,  ..., 0.0000, 0.0000, 0.0000],\n",
      "        [0.0034, 0.5911, 0.2985,  ..., 0.0000, 0.0000, 0.0000],\n",
      "        [0.0034, 0.0727, 0.1248,  ..., 0.0000, 0.0000, 0.0000]])\n",
      "13\n"
     ]
    }
   ],
   "source": [
    "model.load_state_dict(torch.load('model.pt'))\n",
    "#testdata = x_dev_new\n",
    "print(testdata)\n",
    "outputs = model(testdata.float())\n",
    "_, predicted = torch.max(outputs.data, 1) \n",
    "predictions = np.array(predicted)\n",
    "\n",
    "print(predictions[8])"
   ]
  },
  {
   "cell_type": "code",
   "execution_count": 251,
   "id": "74f26b8d",
   "metadata": {},
   "outputs": [
    {
     "name": "stdout",
     "output_type": "stream",
     "text": [
      "0.44892878202188297\n"
     ]
    }
   ],
   "source": [
    "c = 0\n",
    "accurate = 0\n",
    "for i in y_dev:\n",
    "    if i == predictions[c]:\n",
    "        accurate += 1\n",
    "    c += 1\n",
    "\n",
    "print(accurate/c)"
   ]
  },
  {
   "cell_type": "code",
   "execution_count": null,
   "id": "a6a3835c",
   "metadata": {},
   "outputs": [],
   "source": []
  }
 ],
 "metadata": {
  "colab": {
   "collapsed_sections": [],
   "name": "BERT Encoding.ipynb",
   "provenance": []
  },
  "kernelspec": {
   "display_name": "Python 3",
   "language": "python",
   "name": "python3"
  },
  "language_info": {
   "codemirror_mode": {
    "name": "ipython",
    "version": 3
   },
   "file_extension": ".py",
   "mimetype": "text/x-python",
   "name": "python",
   "nbconvert_exporter": "python",
   "pygments_lexer": "ipython3",
   "version": "3.8.8"
  },
  "widgets": {
   "application/vnd.jupyter.widget-state+json": {
    "05f55e899ed449fca354ae8cdffb3014": {
     "model_module": "@jupyter-widgets/base",
     "model_module_version": "1.2.0",
     "model_name": "LayoutModel",
     "state": {
      "_model_module": "@jupyter-widgets/base",
      "_model_module_version": "1.2.0",
      "_model_name": "LayoutModel",
      "_view_count": null,
      "_view_module": "@jupyter-widgets/base",
      "_view_module_version": "1.2.0",
      "_view_name": "LayoutView",
      "align_content": null,
      "align_items": null,
      "align_self": null,
      "border": null,
      "bottom": null,
      "display": null,
      "flex": null,
      "flex_flow": null,
      "grid_area": null,
      "grid_auto_columns": null,
      "grid_auto_flow": null,
      "grid_auto_rows": null,
      "grid_column": null,
      "grid_gap": null,
      "grid_row": null,
      "grid_template_areas": null,
      "grid_template_columns": null,
      "grid_template_rows": null,
      "height": null,
      "justify_content": null,
      "justify_items": null,
      "left": null,
      "margin": null,
      "max_height": null,
      "max_width": null,
      "min_height": null,
      "min_width": null,
      "object_fit": null,
      "object_position": null,
      "order": null,
      "overflow": null,
      "overflow_x": null,
      "overflow_y": null,
      "padding": null,
      "right": null,
      "top": null,
      "visibility": null,
      "width": null
     }
    },
    "070aab1f0fd24b03bf44a89738f66c59": {
     "model_module": "@jupyter-widgets/controls",
     "model_module_version": "1.5.0",
     "model_name": "HTMLModel",
     "state": {
      "_dom_classes": [],
      "_model_module": "@jupyter-widgets/controls",
      "_model_module_version": "1.5.0",
      "_model_name": "HTMLModel",
      "_view_count": null,
      "_view_module": "@jupyter-widgets/controls",
      "_view_module_version": "1.5.0",
      "_view_name": "HTMLView",
      "description": "",
      "description_tooltip": null,
      "layout": "IPY_MODEL_88121874c982424ba8d72fda14bb4096",
      "placeholder": "​",
      "style": "IPY_MODEL_b51d5dad91b34980b185da1387fc989e",
      "value": " 455k/455k [00:00&lt;00:00, 675kB/s]"
     }
    },
    "08c05aa2e5dc463a908915ef34ac9633": {
     "model_module": "@jupyter-widgets/base",
     "model_module_version": "1.2.0",
     "model_name": "LayoutModel",
     "state": {
      "_model_module": "@jupyter-widgets/base",
      "_model_module_version": "1.2.0",
      "_model_name": "LayoutModel",
      "_view_count": null,
      "_view_module": "@jupyter-widgets/base",
      "_view_module_version": "1.2.0",
      "_view_name": "LayoutView",
      "align_content": null,
      "align_items": null,
      "align_self": null,
      "border": null,
      "bottom": null,
      "display": null,
      "flex": null,
      "flex_flow": null,
      "grid_area": null,
      "grid_auto_columns": null,
      "grid_auto_flow": null,
      "grid_auto_rows": null,
      "grid_column": null,
      "grid_gap": null,
      "grid_row": null,
      "grid_template_areas": null,
      "grid_template_columns": null,
      "grid_template_rows": null,
      "height": null,
      "justify_content": null,
      "justify_items": null,
      "left": null,
      "margin": null,
      "max_height": null,
      "max_width": null,
      "min_height": null,
      "min_width": null,
      "object_fit": null,
      "object_position": null,
      "order": null,
      "overflow": null,
      "overflow_x": null,
      "overflow_y": null,
      "padding": null,
      "right": null,
      "top": null,
      "visibility": null,
      "width": null
     }
    },
    "0e322de3fc7d481fa2889282d1febed8": {
     "model_module": "@jupyter-widgets/controls",
     "model_module_version": "1.5.0",
     "model_name": "FloatProgressModel",
     "state": {
      "_dom_classes": [],
      "_model_module": "@jupyter-widgets/controls",
      "_model_module_version": "1.5.0",
      "_model_name": "FloatProgressModel",
      "_view_count": null,
      "_view_module": "@jupyter-widgets/controls",
      "_view_module_version": "1.5.0",
      "_view_name": "ProgressView",
      "bar_style": "success",
      "description": "",
      "description_tooltip": null,
      "layout": "IPY_MODEL_dbd4c5acdabb4cd4b33a65b89316bed9",
      "max": 570,
      "min": 0,
      "orientation": "horizontal",
      "style": "IPY_MODEL_6a9bad6c23ef4936abddfde22eff1449",
      "value": 570
     }
    },
    "12bf244fbd9941d59ead7d9936f0276f": {
     "model_module": "@jupyter-widgets/controls",
     "model_module_version": "1.5.0",
     "model_name": "ProgressStyleModel",
     "state": {
      "_model_module": "@jupyter-widgets/controls",
      "_model_module_version": "1.5.0",
      "_model_name": "ProgressStyleModel",
      "_view_count": null,
      "_view_module": "@jupyter-widgets/base",
      "_view_module_version": "1.2.0",
      "_view_name": "StyleView",
      "bar_color": null,
      "description_width": ""
     }
    },
    "181c0ad4d87e41218b071de0e3c5e9d0": {
     "model_module": "@jupyter-widgets/base",
     "model_module_version": "1.2.0",
     "model_name": "LayoutModel",
     "state": {
      "_model_module": "@jupyter-widgets/base",
      "_model_module_version": "1.2.0",
      "_model_name": "LayoutModel",
      "_view_count": null,
      "_view_module": "@jupyter-widgets/base",
      "_view_module_version": "1.2.0",
      "_view_name": "LayoutView",
      "align_content": null,
      "align_items": null,
      "align_self": null,
      "border": null,
      "bottom": null,
      "display": null,
      "flex": null,
      "flex_flow": null,
      "grid_area": null,
      "grid_auto_columns": null,
      "grid_auto_flow": null,
      "grid_auto_rows": null,
      "grid_column": null,
      "grid_gap": null,
      "grid_row": null,
      "grid_template_areas": null,
      "grid_template_columns": null,
      "grid_template_rows": null,
      "height": null,
      "justify_content": null,
      "justify_items": null,
      "left": null,
      "margin": null,
      "max_height": null,
      "max_width": null,
      "min_height": null,
      "min_width": null,
      "object_fit": null,
      "object_position": null,
      "order": null,
      "overflow": null,
      "overflow_x": null,
      "overflow_y": null,
      "padding": null,
      "right": null,
      "top": null,
      "visibility": null,
      "width": null
     }
    },
    "1fbad6c685c04771b8fe01032ae83140": {
     "model_module": "@jupyter-widgets/base",
     "model_module_version": "1.2.0",
     "model_name": "LayoutModel",
     "state": {
      "_model_module": "@jupyter-widgets/base",
      "_model_module_version": "1.2.0",
      "_model_name": "LayoutModel",
      "_view_count": null,
      "_view_module": "@jupyter-widgets/base",
      "_view_module_version": "1.2.0",
      "_view_name": "LayoutView",
      "align_content": null,
      "align_items": null,
      "align_self": null,
      "border": null,
      "bottom": null,
      "display": null,
      "flex": null,
      "flex_flow": null,
      "grid_area": null,
      "grid_auto_columns": null,
      "grid_auto_flow": null,
      "grid_auto_rows": null,
      "grid_column": null,
      "grid_gap": null,
      "grid_row": null,
      "grid_template_areas": null,
      "grid_template_columns": null,
      "grid_template_rows": null,
      "height": null,
      "justify_content": null,
      "justify_items": null,
      "left": null,
      "margin": null,
      "max_height": null,
      "max_width": null,
      "min_height": null,
      "min_width": null,
      "object_fit": null,
      "object_position": null,
      "order": null,
      "overflow": null,
      "overflow_x": null,
      "overflow_y": null,
      "padding": null,
      "right": null,
      "top": null,
      "visibility": null,
      "width": null
     }
    },
    "218d3c8c5ff24044ae2b5247b640dc6a": {
     "model_module": "@jupyter-widgets/controls",
     "model_module_version": "1.5.0",
     "model_name": "HTMLModel",
     "state": {
      "_dom_classes": [],
      "_model_module": "@jupyter-widgets/controls",
      "_model_module_version": "1.5.0",
      "_model_name": "HTMLModel",
      "_view_count": null,
      "_view_module": "@jupyter-widgets/controls",
      "_view_module_version": "1.5.0",
      "_view_name": "HTMLView",
      "description": "",
      "description_tooltip": null,
      "layout": "IPY_MODEL_3c7129ef5e5e49d3a3c1b4ac9efe8750",
      "placeholder": "​",
      "style": "IPY_MODEL_3d13458e10ba4a459f51d31d0e381a8f",
      "value": " 420M/420M [00:12&lt;00:00, 35.1MB/s]"
     }
    },
    "25de0a3d06d14eceabdd364a445177d5": {
     "model_module": "@jupyter-widgets/controls",
     "model_module_version": "1.5.0",
     "model_name": "HBoxModel",
     "state": {
      "_dom_classes": [],
      "_model_module": "@jupyter-widgets/controls",
      "_model_module_version": "1.5.0",
      "_model_name": "HBoxModel",
      "_view_count": null,
      "_view_module": "@jupyter-widgets/controls",
      "_view_module_version": "1.5.0",
      "_view_name": "HBoxView",
      "box_style": "",
      "children": [
       "IPY_MODEL_4b70b8d9979647db87c53187f3af3437",
       "IPY_MODEL_0e322de3fc7d481fa2889282d1febed8",
       "IPY_MODEL_6c90429c501646438a2f3d68f2481b1d"
      ],
      "layout": "IPY_MODEL_5a64630820584d4490571e6bda8a40f0"
     }
    },
    "2a912fc260984a1c812778af1b7891d3": {
     "model_module": "@jupyter-widgets/controls",
     "model_module_version": "1.5.0",
     "model_name": "HBoxModel",
     "state": {
      "_dom_classes": [],
      "_model_module": "@jupyter-widgets/controls",
      "_model_module_version": "1.5.0",
      "_model_name": "HBoxModel",
      "_view_count": null,
      "_view_module": "@jupyter-widgets/controls",
      "_view_module_version": "1.5.0",
      "_view_name": "HBoxView",
      "box_style": "",
      "children": [
       "IPY_MODEL_494bb25d015442058e55ee67af3c783c",
       "IPY_MODEL_4584cf0cf517467a830792cabc62a26e",
       "IPY_MODEL_e662402daeef47a4808dc5b5dc3c5130"
      ],
      "layout": "IPY_MODEL_1fbad6c685c04771b8fe01032ae83140"
     }
    },
    "3425052da44a447c9b12d42d5d8f7bb8": {
     "model_module": "@jupyter-widgets/base",
     "model_module_version": "1.2.0",
     "model_name": "LayoutModel",
     "state": {
      "_model_module": "@jupyter-widgets/base",
      "_model_module_version": "1.2.0",
      "_model_name": "LayoutModel",
      "_view_count": null,
      "_view_module": "@jupyter-widgets/base",
      "_view_module_version": "1.2.0",
      "_view_name": "LayoutView",
      "align_content": null,
      "align_items": null,
      "align_self": null,
      "border": null,
      "bottom": null,
      "display": null,
      "flex": null,
      "flex_flow": null,
      "grid_area": null,
      "grid_auto_columns": null,
      "grid_auto_flow": null,
      "grid_auto_rows": null,
      "grid_column": null,
      "grid_gap": null,
      "grid_row": null,
      "grid_template_areas": null,
      "grid_template_columns": null,
      "grid_template_rows": null,
      "height": null,
      "justify_content": null,
      "justify_items": null,
      "left": null,
      "margin": null,
      "max_height": null,
      "max_width": null,
      "min_height": null,
      "min_width": null,
      "object_fit": null,
      "object_position": null,
      "order": null,
      "overflow": null,
      "overflow_x": null,
      "overflow_y": null,
      "padding": null,
      "right": null,
      "top": null,
      "visibility": null,
      "width": null
     }
    },
    "3c7129ef5e5e49d3a3c1b4ac9efe8750": {
     "model_module": "@jupyter-widgets/base",
     "model_module_version": "1.2.0",
     "model_name": "LayoutModel",
     "state": {
      "_model_module": "@jupyter-widgets/base",
      "_model_module_version": "1.2.0",
      "_model_name": "LayoutModel",
      "_view_count": null,
      "_view_module": "@jupyter-widgets/base",
      "_view_module_version": "1.2.0",
      "_view_name": "LayoutView",
      "align_content": null,
      "align_items": null,
      "align_self": null,
      "border": null,
      "bottom": null,
      "display": null,
      "flex": null,
      "flex_flow": null,
      "grid_area": null,
      "grid_auto_columns": null,
      "grid_auto_flow": null,
      "grid_auto_rows": null,
      "grid_column": null,
      "grid_gap": null,
      "grid_row": null,
      "grid_template_areas": null,
      "grid_template_columns": null,
      "grid_template_rows": null,
      "height": null,
      "justify_content": null,
      "justify_items": null,
      "left": null,
      "margin": null,
      "max_height": null,
      "max_width": null,
      "min_height": null,
      "min_width": null,
      "object_fit": null,
      "object_position": null,
      "order": null,
      "overflow": null,
      "overflow_x": null,
      "overflow_y": null,
      "padding": null,
      "right": null,
      "top": null,
      "visibility": null,
      "width": null
     }
    },
    "3d13458e10ba4a459f51d31d0e381a8f": {
     "model_module": "@jupyter-widgets/controls",
     "model_module_version": "1.5.0",
     "model_name": "DescriptionStyleModel",
     "state": {
      "_model_module": "@jupyter-widgets/controls",
      "_model_module_version": "1.5.0",
      "_model_name": "DescriptionStyleModel",
      "_view_count": null,
      "_view_module": "@jupyter-widgets/base",
      "_view_module_version": "1.2.0",
      "_view_name": "StyleView",
      "description_width": ""
     }
    },
    "3e46ae0f539343e9a15a4d2f0993c298": {
     "model_module": "@jupyter-widgets/controls",
     "model_module_version": "1.5.0",
     "model_name": "HTMLModel",
     "state": {
      "_dom_classes": [],
      "_model_module": "@jupyter-widgets/controls",
      "_model_module_version": "1.5.0",
      "_model_name": "HTMLModel",
      "_view_count": null,
      "_view_module": "@jupyter-widgets/controls",
      "_view_module_version": "1.5.0",
      "_view_name": "HTMLView",
      "description": "",
      "description_tooltip": null,
      "layout": "IPY_MODEL_d53e5b33610b4e3ca01143b85ebd8e6d",
      "placeholder": "​",
      "style": "IPY_MODEL_a5b35620c0ff4fb2816ee71d8777f94e",
      "value": "Downloading: 100%"
     }
    },
    "4098a6253f3047dda5c3ba48e369ff4a": {
     "model_module": "@jupyter-widgets/controls",
     "model_module_version": "1.5.0",
     "model_name": "HTMLModel",
     "state": {
      "_dom_classes": [],
      "_model_module": "@jupyter-widgets/controls",
      "_model_module_version": "1.5.0",
      "_model_name": "HTMLModel",
      "_view_count": null,
      "_view_module": "@jupyter-widgets/controls",
      "_view_module_version": "1.5.0",
      "_view_name": "HTMLView",
      "description": "",
      "description_tooltip": null,
      "layout": "IPY_MODEL_83e26819424440a5b082a4df08d02179",
      "placeholder": "​",
      "style": "IPY_MODEL_c2d1b57aeac24a27a50506d9a35e3833",
      "value": "Downloading: 100%"
     }
    },
    "4584cf0cf517467a830792cabc62a26e": {
     "model_module": "@jupyter-widgets/controls",
     "model_module_version": "1.5.0",
     "model_name": "FloatProgressModel",
     "state": {
      "_dom_classes": [],
      "_model_module": "@jupyter-widgets/controls",
      "_model_module_version": "1.5.0",
      "_model_name": "FloatProgressModel",
      "_view_count": null,
      "_view_module": "@jupyter-widgets/controls",
      "_view_module_version": "1.5.0",
      "_view_name": "ProgressView",
      "bar_style": "success",
      "description": "",
      "description_tooltip": null,
      "layout": "IPY_MODEL_e41a14792e7545f391bfc1fabde2e40a",
      "max": 28,
      "min": 0,
      "orientation": "horizontal",
      "style": "IPY_MODEL_ec36cee5c33c4267987c6a2293a29773",
      "value": 28
     }
    },
    "494bb25d015442058e55ee67af3c783c": {
     "model_module": "@jupyter-widgets/controls",
     "model_module_version": "1.5.0",
     "model_name": "HTMLModel",
     "state": {
      "_dom_classes": [],
      "_model_module": "@jupyter-widgets/controls",
      "_model_module_version": "1.5.0",
      "_model_name": "HTMLModel",
      "_view_count": null,
      "_view_module": "@jupyter-widgets/controls",
      "_view_module_version": "1.5.0",
      "_view_name": "HTMLView",
      "description": "",
      "description_tooltip": null,
      "layout": "IPY_MODEL_a9e34fd77b3b49c4a7904ebbfe7d8add",
      "placeholder": "​",
      "style": "IPY_MODEL_5345868b456a4c5ea3c019bd0d2897d9",
      "value": "Downloading: 100%"
     }
    },
    "4b70b8d9979647db87c53187f3af3437": {
     "model_module": "@jupyter-widgets/controls",
     "model_module_version": "1.5.0",
     "model_name": "HTMLModel",
     "state": {
      "_dom_classes": [],
      "_model_module": "@jupyter-widgets/controls",
      "_model_module_version": "1.5.0",
      "_model_name": "HTMLModel",
      "_view_count": null,
      "_view_module": "@jupyter-widgets/controls",
      "_view_module_version": "1.5.0",
      "_view_name": "HTMLView",
      "description": "",
      "description_tooltip": null,
      "layout": "IPY_MODEL_08c05aa2e5dc463a908915ef34ac9633",
      "placeholder": "​",
      "style": "IPY_MODEL_a8f68380bbdc42068de09f563916d9ef",
      "value": "Downloading: 100%"
     }
    },
    "51e8eb2f9b8e4f099d7b0e1f0adc678f": {
     "model_module": "@jupyter-widgets/controls",
     "model_module_version": "1.5.0",
     "model_name": "FloatProgressModel",
     "state": {
      "_dom_classes": [],
      "_model_module": "@jupyter-widgets/controls",
      "_model_module_version": "1.5.0",
      "_model_name": "FloatProgressModel",
      "_view_count": null,
      "_view_module": "@jupyter-widgets/controls",
      "_view_module_version": "1.5.0",
      "_view_name": "ProgressView",
      "bar_style": "success",
      "description": "",
      "description_tooltip": null,
      "layout": "IPY_MODEL_9d5649e025654316aad3ddc5c314bdda",
      "max": 440473133,
      "min": 0,
      "orientation": "horizontal",
      "style": "IPY_MODEL_cd3261ab21934a8eb109d557967c2b9e",
      "value": 440473133
     }
    },
    "5345868b456a4c5ea3c019bd0d2897d9": {
     "model_module": "@jupyter-widgets/controls",
     "model_module_version": "1.5.0",
     "model_name": "DescriptionStyleModel",
     "state": {
      "_model_module": "@jupyter-widgets/controls",
      "_model_module_version": "1.5.0",
      "_model_name": "DescriptionStyleModel",
      "_view_count": null,
      "_view_module": "@jupyter-widgets/base",
      "_view_module_version": "1.2.0",
      "_view_name": "StyleView",
      "description_width": ""
     }
    },
    "541ca218ff1a46158461980a0fb9b818": {
     "model_module": "@jupyter-widgets/controls",
     "model_module_version": "1.5.0",
     "model_name": "FloatProgressModel",
     "state": {
      "_dom_classes": [],
      "_model_module": "@jupyter-widgets/controls",
      "_model_module_version": "1.5.0",
      "_model_name": "FloatProgressModel",
      "_view_count": null,
      "_view_module": "@jupyter-widgets/controls",
      "_view_module_version": "1.5.0",
      "_view_name": "ProgressView",
      "bar_style": "success",
      "description": "",
      "description_tooltip": null,
      "layout": "IPY_MODEL_6e686086fd8f4bffbfc351f888d9fe44",
      "max": 231508,
      "min": 0,
      "orientation": "horizontal",
      "style": "IPY_MODEL_a3ba6207aa1c4d10a66352dfa2073296",
      "value": 231508
     }
    },
    "5a64630820584d4490571e6bda8a40f0": {
     "model_module": "@jupyter-widgets/base",
     "model_module_version": "1.2.0",
     "model_name": "LayoutModel",
     "state": {
      "_model_module": "@jupyter-widgets/base",
      "_model_module_version": "1.2.0",
      "_model_name": "LayoutModel",
      "_view_count": null,
      "_view_module": "@jupyter-widgets/base",
      "_view_module_version": "1.2.0",
      "_view_name": "LayoutView",
      "align_content": null,
      "align_items": null,
      "align_self": null,
      "border": null,
      "bottom": null,
      "display": null,
      "flex": null,
      "flex_flow": null,
      "grid_area": null,
      "grid_auto_columns": null,
      "grid_auto_flow": null,
      "grid_auto_rows": null,
      "grid_column": null,
      "grid_gap": null,
      "grid_row": null,
      "grid_template_areas": null,
      "grid_template_columns": null,
      "grid_template_rows": null,
      "height": null,
      "justify_content": null,
      "justify_items": null,
      "left": null,
      "margin": null,
      "max_height": null,
      "max_width": null,
      "min_height": null,
      "min_width": null,
      "object_fit": null,
      "object_position": null,
      "order": null,
      "overflow": null,
      "overflow_x": null,
      "overflow_y": null,
      "padding": null,
      "right": null,
      "top": null,
      "visibility": null,
      "width": null
     }
    },
    "61ffbed5eeb3472d87ccc0fadbe1dee7": {
     "model_module": "@jupyter-widgets/base",
     "model_module_version": "1.2.0",
     "model_name": "LayoutModel",
     "state": {
      "_model_module": "@jupyter-widgets/base",
      "_model_module_version": "1.2.0",
      "_model_name": "LayoutModel",
      "_view_count": null,
      "_view_module": "@jupyter-widgets/base",
      "_view_module_version": "1.2.0",
      "_view_name": "LayoutView",
      "align_content": null,
      "align_items": null,
      "align_self": null,
      "border": null,
      "bottom": null,
      "display": null,
      "flex": null,
      "flex_flow": null,
      "grid_area": null,
      "grid_auto_columns": null,
      "grid_auto_flow": null,
      "grid_auto_rows": null,
      "grid_column": null,
      "grid_gap": null,
      "grid_row": null,
      "grid_template_areas": null,
      "grid_template_columns": null,
      "grid_template_rows": null,
      "height": null,
      "justify_content": null,
      "justify_items": null,
      "left": null,
      "margin": null,
      "max_height": null,
      "max_width": null,
      "min_height": null,
      "min_width": null,
      "object_fit": null,
      "object_position": null,
      "order": null,
      "overflow": null,
      "overflow_x": null,
      "overflow_y": null,
      "padding": null,
      "right": null,
      "top": null,
      "visibility": null,
      "width": null
     }
    },
    "663cb24ae7af492093e8811cf88579dc": {
     "model_module": "@jupyter-widgets/controls",
     "model_module_version": "1.5.0",
     "model_name": "HBoxModel",
     "state": {
      "_dom_classes": [],
      "_model_module": "@jupyter-widgets/controls",
      "_model_module_version": "1.5.0",
      "_model_name": "HBoxModel",
      "_view_count": null,
      "_view_module": "@jupyter-widgets/controls",
      "_view_module_version": "1.5.0",
      "_view_name": "HBoxView",
      "box_style": "",
      "children": [
       "IPY_MODEL_3e46ae0f539343e9a15a4d2f0993c298",
       "IPY_MODEL_9dc77c16027e4c9693ab00bcb9810ad3",
       "IPY_MODEL_070aab1f0fd24b03bf44a89738f66c59"
      ],
      "layout": "IPY_MODEL_e4bacfb95cd347bdb184742e8fc5901b"
     }
    },
    "6a9bad6c23ef4936abddfde22eff1449": {
     "model_module": "@jupyter-widgets/controls",
     "model_module_version": "1.5.0",
     "model_name": "ProgressStyleModel",
     "state": {
      "_model_module": "@jupyter-widgets/controls",
      "_model_module_version": "1.5.0",
      "_model_name": "ProgressStyleModel",
      "_view_count": null,
      "_view_module": "@jupyter-widgets/base",
      "_view_module_version": "1.2.0",
      "_view_name": "StyleView",
      "bar_color": null,
      "description_width": ""
     }
    },
    "6c90429c501646438a2f3d68f2481b1d": {
     "model_module": "@jupyter-widgets/controls",
     "model_module_version": "1.5.0",
     "model_name": "HTMLModel",
     "state": {
      "_dom_classes": [],
      "_model_module": "@jupyter-widgets/controls",
      "_model_module_version": "1.5.0",
      "_model_name": "HTMLModel",
      "_view_count": null,
      "_view_module": "@jupyter-widgets/controls",
      "_view_module_version": "1.5.0",
      "_view_name": "HTMLView",
      "description": "",
      "description_tooltip": null,
      "layout": "IPY_MODEL_7ef26b9d233b4735b31f64ef37787ade",
      "placeholder": "​",
      "style": "IPY_MODEL_721e2c4c70004790b9e3878bbbff7600",
      "value": " 570/570 [00:00&lt;00:00, 8.67kB/s]"
     }
    },
    "6e686086fd8f4bffbfc351f888d9fe44": {
     "model_module": "@jupyter-widgets/base",
     "model_module_version": "1.2.0",
     "model_name": "LayoutModel",
     "state": {
      "_model_module": "@jupyter-widgets/base",
      "_model_module_version": "1.2.0",
      "_model_name": "LayoutModel",
      "_view_count": null,
      "_view_module": "@jupyter-widgets/base",
      "_view_module_version": "1.2.0",
      "_view_name": "LayoutView",
      "align_content": null,
      "align_items": null,
      "align_self": null,
      "border": null,
      "bottom": null,
      "display": null,
      "flex": null,
      "flex_flow": null,
      "grid_area": null,
      "grid_auto_columns": null,
      "grid_auto_flow": null,
      "grid_auto_rows": null,
      "grid_column": null,
      "grid_gap": null,
      "grid_row": null,
      "grid_template_areas": null,
      "grid_template_columns": null,
      "grid_template_rows": null,
      "height": null,
      "justify_content": null,
      "justify_items": null,
      "left": null,
      "margin": null,
      "max_height": null,
      "max_width": null,
      "min_height": null,
      "min_width": null,
      "object_fit": null,
      "object_position": null,
      "order": null,
      "overflow": null,
      "overflow_x": null,
      "overflow_y": null,
      "padding": null,
      "right": null,
      "top": null,
      "visibility": null,
      "width": null
     }
    },
    "721e2c4c70004790b9e3878bbbff7600": {
     "model_module": "@jupyter-widgets/controls",
     "model_module_version": "1.5.0",
     "model_name": "DescriptionStyleModel",
     "state": {
      "_model_module": "@jupyter-widgets/controls",
      "_model_module_version": "1.5.0",
      "_model_name": "DescriptionStyleModel",
      "_view_count": null,
      "_view_module": "@jupyter-widgets/base",
      "_view_module_version": "1.2.0",
      "_view_name": "StyleView",
      "description_width": ""
     }
    },
    "7ef26b9d233b4735b31f64ef37787ade": {
     "model_module": "@jupyter-widgets/base",
     "model_module_version": "1.2.0",
     "model_name": "LayoutModel",
     "state": {
      "_model_module": "@jupyter-widgets/base",
      "_model_module_version": "1.2.0",
      "_model_name": "LayoutModel",
      "_view_count": null,
      "_view_module": "@jupyter-widgets/base",
      "_view_module_version": "1.2.0",
      "_view_name": "LayoutView",
      "align_content": null,
      "align_items": null,
      "align_self": null,
      "border": null,
      "bottom": null,
      "display": null,
      "flex": null,
      "flex_flow": null,
      "grid_area": null,
      "grid_auto_columns": null,
      "grid_auto_flow": null,
      "grid_auto_rows": null,
      "grid_column": null,
      "grid_gap": null,
      "grid_row": null,
      "grid_template_areas": null,
      "grid_template_columns": null,
      "grid_template_rows": null,
      "height": null,
      "justify_content": null,
      "justify_items": null,
      "left": null,
      "margin": null,
      "max_height": null,
      "max_width": null,
      "min_height": null,
      "min_width": null,
      "object_fit": null,
      "object_position": null,
      "order": null,
      "overflow": null,
      "overflow_x": null,
      "overflow_y": null,
      "padding": null,
      "right": null,
      "top": null,
      "visibility": null,
      "width": null
     }
    },
    "81c552dc044a4a94ba063754c4ae2119": {
     "model_module": "@jupyter-widgets/controls",
     "model_module_version": "1.5.0",
     "model_name": "DescriptionStyleModel",
     "state": {
      "_model_module": "@jupyter-widgets/controls",
      "_model_module_version": "1.5.0",
      "_model_name": "DescriptionStyleModel",
      "_view_count": null,
      "_view_module": "@jupyter-widgets/base",
      "_view_module_version": "1.2.0",
      "_view_name": "StyleView",
      "description_width": ""
     }
    },
    "83e26819424440a5b082a4df08d02179": {
     "model_module": "@jupyter-widgets/base",
     "model_module_version": "1.2.0",
     "model_name": "LayoutModel",
     "state": {
      "_model_module": "@jupyter-widgets/base",
      "_model_module_version": "1.2.0",
      "_model_name": "LayoutModel",
      "_view_count": null,
      "_view_module": "@jupyter-widgets/base",
      "_view_module_version": "1.2.0",
      "_view_name": "LayoutView",
      "align_content": null,
      "align_items": null,
      "align_self": null,
      "border": null,
      "bottom": null,
      "display": null,
      "flex": null,
      "flex_flow": null,
      "grid_area": null,
      "grid_auto_columns": null,
      "grid_auto_flow": null,
      "grid_auto_rows": null,
      "grid_column": null,
      "grid_gap": null,
      "grid_row": null,
      "grid_template_areas": null,
      "grid_template_columns": null,
      "grid_template_rows": null,
      "height": null,
      "justify_content": null,
      "justify_items": null,
      "left": null,
      "margin": null,
      "max_height": null,
      "max_width": null,
      "min_height": null,
      "min_width": null,
      "object_fit": null,
      "object_position": null,
      "order": null,
      "overflow": null,
      "overflow_x": null,
      "overflow_y": null,
      "padding": null,
      "right": null,
      "top": null,
      "visibility": null,
      "width": null
     }
    },
    "88121874c982424ba8d72fda14bb4096": {
     "model_module": "@jupyter-widgets/base",
     "model_module_version": "1.2.0",
     "model_name": "LayoutModel",
     "state": {
      "_model_module": "@jupyter-widgets/base",
      "_model_module_version": "1.2.0",
      "_model_name": "LayoutModel",
      "_view_count": null,
      "_view_module": "@jupyter-widgets/base",
      "_view_module_version": "1.2.0",
      "_view_name": "LayoutView",
      "align_content": null,
      "align_items": null,
      "align_self": null,
      "border": null,
      "bottom": null,
      "display": null,
      "flex": null,
      "flex_flow": null,
      "grid_area": null,
      "grid_auto_columns": null,
      "grid_auto_flow": null,
      "grid_auto_rows": null,
      "grid_column": null,
      "grid_gap": null,
      "grid_row": null,
      "grid_template_areas": null,
      "grid_template_columns": null,
      "grid_template_rows": null,
      "height": null,
      "justify_content": null,
      "justify_items": null,
      "left": null,
      "margin": null,
      "max_height": null,
      "max_width": null,
      "min_height": null,
      "min_width": null,
      "object_fit": null,
      "object_position": null,
      "order": null,
      "overflow": null,
      "overflow_x": null,
      "overflow_y": null,
      "padding": null,
      "right": null,
      "top": null,
      "visibility": null,
      "width": null
     }
    },
    "9454c6ef88f14f35a577667106b0f6ee": {
     "model_module": "@jupyter-widgets/controls",
     "model_module_version": "1.5.0",
     "model_name": "HBoxModel",
     "state": {
      "_dom_classes": [],
      "_model_module": "@jupyter-widgets/controls",
      "_model_module_version": "1.5.0",
      "_model_name": "HBoxModel",
      "_view_count": null,
      "_view_module": "@jupyter-widgets/controls",
      "_view_module_version": "1.5.0",
      "_view_name": "HBoxView",
      "box_style": "",
      "children": [
       "IPY_MODEL_4098a6253f3047dda5c3ba48e369ff4a",
       "IPY_MODEL_541ca218ff1a46158461980a0fb9b818",
       "IPY_MODEL_e4dfd965b1be40e7a42acb52cecb8e1d"
      ],
      "layout": "IPY_MODEL_181c0ad4d87e41218b071de0e3c5e9d0"
     }
    },
    "96eb2c55eabd4e719a543c15282f8907": {
     "model_module": "@jupyter-widgets/controls",
     "model_module_version": "1.5.0",
     "model_name": "HTMLModel",
     "state": {
      "_dom_classes": [],
      "_model_module": "@jupyter-widgets/controls",
      "_model_module_version": "1.5.0",
      "_model_name": "HTMLModel",
      "_view_count": null,
      "_view_module": "@jupyter-widgets/controls",
      "_view_module_version": "1.5.0",
      "_view_name": "HTMLView",
      "description": "",
      "description_tooltip": null,
      "layout": "IPY_MODEL_61ffbed5eeb3472d87ccc0fadbe1dee7",
      "placeholder": "​",
      "style": "IPY_MODEL_ddf4a8d5270a49e1842eb1c857c0d9cc",
      "value": "Downloading: 100%"
     }
    },
    "9d5649e025654316aad3ddc5c314bdda": {
     "model_module": "@jupyter-widgets/base",
     "model_module_version": "1.2.0",
     "model_name": "LayoutModel",
     "state": {
      "_model_module": "@jupyter-widgets/base",
      "_model_module_version": "1.2.0",
      "_model_name": "LayoutModel",
      "_view_count": null,
      "_view_module": "@jupyter-widgets/base",
      "_view_module_version": "1.2.0",
      "_view_name": "LayoutView",
      "align_content": null,
      "align_items": null,
      "align_self": null,
      "border": null,
      "bottom": null,
      "display": null,
      "flex": null,
      "flex_flow": null,
      "grid_area": null,
      "grid_auto_columns": null,
      "grid_auto_flow": null,
      "grid_auto_rows": null,
      "grid_column": null,
      "grid_gap": null,
      "grid_row": null,
      "grid_template_areas": null,
      "grid_template_columns": null,
      "grid_template_rows": null,
      "height": null,
      "justify_content": null,
      "justify_items": null,
      "left": null,
      "margin": null,
      "max_height": null,
      "max_width": null,
      "min_height": null,
      "min_width": null,
      "object_fit": null,
      "object_position": null,
      "order": null,
      "overflow": null,
      "overflow_x": null,
      "overflow_y": null,
      "padding": null,
      "right": null,
      "top": null,
      "visibility": null,
      "width": null
     }
    },
    "9dc77c16027e4c9693ab00bcb9810ad3": {
     "model_module": "@jupyter-widgets/controls",
     "model_module_version": "1.5.0",
     "model_name": "FloatProgressModel",
     "state": {
      "_dom_classes": [],
      "_model_module": "@jupyter-widgets/controls",
      "_model_module_version": "1.5.0",
      "_model_name": "FloatProgressModel",
      "_view_count": null,
      "_view_module": "@jupyter-widgets/controls",
      "_view_module_version": "1.5.0",
      "_view_name": "ProgressView",
      "bar_style": "success",
      "description": "",
      "description_tooltip": null,
      "layout": "IPY_MODEL_3425052da44a447c9b12d42d5d8f7bb8",
      "max": 466062,
      "min": 0,
      "orientation": "horizontal",
      "style": "IPY_MODEL_12bf244fbd9941d59ead7d9936f0276f",
      "value": 466062
     }
    },
    "a3ba6207aa1c4d10a66352dfa2073296": {
     "model_module": "@jupyter-widgets/controls",
     "model_module_version": "1.5.0",
     "model_name": "ProgressStyleModel",
     "state": {
      "_model_module": "@jupyter-widgets/controls",
      "_model_module_version": "1.5.0",
      "_model_name": "ProgressStyleModel",
      "_view_count": null,
      "_view_module": "@jupyter-widgets/base",
      "_view_module_version": "1.2.0",
      "_view_name": "StyleView",
      "bar_color": null,
      "description_width": ""
     }
    },
    "a5b35620c0ff4fb2816ee71d8777f94e": {
     "model_module": "@jupyter-widgets/controls",
     "model_module_version": "1.5.0",
     "model_name": "DescriptionStyleModel",
     "state": {
      "_model_module": "@jupyter-widgets/controls",
      "_model_module_version": "1.5.0",
      "_model_name": "DescriptionStyleModel",
      "_view_count": null,
      "_view_module": "@jupyter-widgets/base",
      "_view_module_version": "1.2.0",
      "_view_name": "StyleView",
      "description_width": ""
     }
    },
    "a8f68380bbdc42068de09f563916d9ef": {
     "model_module": "@jupyter-widgets/controls",
     "model_module_version": "1.5.0",
     "model_name": "DescriptionStyleModel",
     "state": {
      "_model_module": "@jupyter-widgets/controls",
      "_model_module_version": "1.5.0",
      "_model_name": "DescriptionStyleModel",
      "_view_count": null,
      "_view_module": "@jupyter-widgets/base",
      "_view_module_version": "1.2.0",
      "_view_name": "StyleView",
      "description_width": ""
     }
    },
    "a9e34fd77b3b49c4a7904ebbfe7d8add": {
     "model_module": "@jupyter-widgets/base",
     "model_module_version": "1.2.0",
     "model_name": "LayoutModel",
     "state": {
      "_model_module": "@jupyter-widgets/base",
      "_model_module_version": "1.2.0",
      "_model_name": "LayoutModel",
      "_view_count": null,
      "_view_module": "@jupyter-widgets/base",
      "_view_module_version": "1.2.0",
      "_view_name": "LayoutView",
      "align_content": null,
      "align_items": null,
      "align_self": null,
      "border": null,
      "bottom": null,
      "display": null,
      "flex": null,
      "flex_flow": null,
      "grid_area": null,
      "grid_auto_columns": null,
      "grid_auto_flow": null,
      "grid_auto_rows": null,
      "grid_column": null,
      "grid_gap": null,
      "grid_row": null,
      "grid_template_areas": null,
      "grid_template_columns": null,
      "grid_template_rows": null,
      "height": null,
      "justify_content": null,
      "justify_items": null,
      "left": null,
      "margin": null,
      "max_height": null,
      "max_width": null,
      "min_height": null,
      "min_width": null,
      "object_fit": null,
      "object_position": null,
      "order": null,
      "overflow": null,
      "overflow_x": null,
      "overflow_y": null,
      "padding": null,
      "right": null,
      "top": null,
      "visibility": null,
      "width": null
     }
    },
    "abe9f46e05bf432baa9dc89a7e6aea26": {
     "model_module": "@jupyter-widgets/controls",
     "model_module_version": "1.5.0",
     "model_name": "HBoxModel",
     "state": {
      "_dom_classes": [],
      "_model_module": "@jupyter-widgets/controls",
      "_model_module_version": "1.5.0",
      "_model_name": "HBoxModel",
      "_view_count": null,
      "_view_module": "@jupyter-widgets/controls",
      "_view_module_version": "1.5.0",
      "_view_name": "HBoxView",
      "box_style": "",
      "children": [
       "IPY_MODEL_96eb2c55eabd4e719a543c15282f8907",
       "IPY_MODEL_51e8eb2f9b8e4f099d7b0e1f0adc678f",
       "IPY_MODEL_218d3c8c5ff24044ae2b5247b640dc6a"
      ],
      "layout": "IPY_MODEL_d1de95517762416e85be138d474eff1a"
     }
    },
    "b51d5dad91b34980b185da1387fc989e": {
     "model_module": "@jupyter-widgets/controls",
     "model_module_version": "1.5.0",
     "model_name": "DescriptionStyleModel",
     "state": {
      "_model_module": "@jupyter-widgets/controls",
      "_model_module_version": "1.5.0",
      "_model_name": "DescriptionStyleModel",
      "_view_count": null,
      "_view_module": "@jupyter-widgets/base",
      "_view_module_version": "1.2.0",
      "_view_name": "StyleView",
      "description_width": ""
     }
    },
    "b567961cba074b508690ec90c9c57c8e": {
     "model_module": "@jupyter-widgets/base",
     "model_module_version": "1.2.0",
     "model_name": "LayoutModel",
     "state": {
      "_model_module": "@jupyter-widgets/base",
      "_model_module_version": "1.2.0",
      "_model_name": "LayoutModel",
      "_view_count": null,
      "_view_module": "@jupyter-widgets/base",
      "_view_module_version": "1.2.0",
      "_view_name": "LayoutView",
      "align_content": null,
      "align_items": null,
      "align_self": null,
      "border": null,
      "bottom": null,
      "display": null,
      "flex": null,
      "flex_flow": null,
      "grid_area": null,
      "grid_auto_columns": null,
      "grid_auto_flow": null,
      "grid_auto_rows": null,
      "grid_column": null,
      "grid_gap": null,
      "grid_row": null,
      "grid_template_areas": null,
      "grid_template_columns": null,
      "grid_template_rows": null,
      "height": null,
      "justify_content": null,
      "justify_items": null,
      "left": null,
      "margin": null,
      "max_height": null,
      "max_width": null,
      "min_height": null,
      "min_width": null,
      "object_fit": null,
      "object_position": null,
      "order": null,
      "overflow": null,
      "overflow_x": null,
      "overflow_y": null,
      "padding": null,
      "right": null,
      "top": null,
      "visibility": null,
      "width": null
     }
    },
    "c2d1b57aeac24a27a50506d9a35e3833": {
     "model_module": "@jupyter-widgets/controls",
     "model_module_version": "1.5.0",
     "model_name": "DescriptionStyleModel",
     "state": {
      "_model_module": "@jupyter-widgets/controls",
      "_model_module_version": "1.5.0",
      "_model_name": "DescriptionStyleModel",
      "_view_count": null,
      "_view_module": "@jupyter-widgets/base",
      "_view_module_version": "1.2.0",
      "_view_name": "StyleView",
      "description_width": ""
     }
    },
    "cd3261ab21934a8eb109d557967c2b9e": {
     "model_module": "@jupyter-widgets/controls",
     "model_module_version": "1.5.0",
     "model_name": "ProgressStyleModel",
     "state": {
      "_model_module": "@jupyter-widgets/controls",
      "_model_module_version": "1.5.0",
      "_model_name": "ProgressStyleModel",
      "_view_count": null,
      "_view_module": "@jupyter-widgets/base",
      "_view_module_version": "1.2.0",
      "_view_name": "StyleView",
      "bar_color": null,
      "description_width": ""
     }
    },
    "d1de95517762416e85be138d474eff1a": {
     "model_module": "@jupyter-widgets/base",
     "model_module_version": "1.2.0",
     "model_name": "LayoutModel",
     "state": {
      "_model_module": "@jupyter-widgets/base",
      "_model_module_version": "1.2.0",
      "_model_name": "LayoutModel",
      "_view_count": null,
      "_view_module": "@jupyter-widgets/base",
      "_view_module_version": "1.2.0",
      "_view_name": "LayoutView",
      "align_content": null,
      "align_items": null,
      "align_self": null,
      "border": null,
      "bottom": null,
      "display": null,
      "flex": null,
      "flex_flow": null,
      "grid_area": null,
      "grid_auto_columns": null,
      "grid_auto_flow": null,
      "grid_auto_rows": null,
      "grid_column": null,
      "grid_gap": null,
      "grid_row": null,
      "grid_template_areas": null,
      "grid_template_columns": null,
      "grid_template_rows": null,
      "height": null,
      "justify_content": null,
      "justify_items": null,
      "left": null,
      "margin": null,
      "max_height": null,
      "max_width": null,
      "min_height": null,
      "min_width": null,
      "object_fit": null,
      "object_position": null,
      "order": null,
      "overflow": null,
      "overflow_x": null,
      "overflow_y": null,
      "padding": null,
      "right": null,
      "top": null,
      "visibility": null,
      "width": null
     }
    },
    "d53e5b33610b4e3ca01143b85ebd8e6d": {
     "model_module": "@jupyter-widgets/base",
     "model_module_version": "1.2.0",
     "model_name": "LayoutModel",
     "state": {
      "_model_module": "@jupyter-widgets/base",
      "_model_module_version": "1.2.0",
      "_model_name": "LayoutModel",
      "_view_count": null,
      "_view_module": "@jupyter-widgets/base",
      "_view_module_version": "1.2.0",
      "_view_name": "LayoutView",
      "align_content": null,
      "align_items": null,
      "align_self": null,
      "border": null,
      "bottom": null,
      "display": null,
      "flex": null,
      "flex_flow": null,
      "grid_area": null,
      "grid_auto_columns": null,
      "grid_auto_flow": null,
      "grid_auto_rows": null,
      "grid_column": null,
      "grid_gap": null,
      "grid_row": null,
      "grid_template_areas": null,
      "grid_template_columns": null,
      "grid_template_rows": null,
      "height": null,
      "justify_content": null,
      "justify_items": null,
      "left": null,
      "margin": null,
      "max_height": null,
      "max_width": null,
      "min_height": null,
      "min_width": null,
      "object_fit": null,
      "object_position": null,
      "order": null,
      "overflow": null,
      "overflow_x": null,
      "overflow_y": null,
      "padding": null,
      "right": null,
      "top": null,
      "visibility": null,
      "width": null
     }
    },
    "d83d9aaa163d405f96df8ed263781f1a": {
     "model_module": "@jupyter-widgets/controls",
     "model_module_version": "1.5.0",
     "model_name": "DescriptionStyleModel",
     "state": {
      "_model_module": "@jupyter-widgets/controls",
      "_model_module_version": "1.5.0",
      "_model_name": "DescriptionStyleModel",
      "_view_count": null,
      "_view_module": "@jupyter-widgets/base",
      "_view_module_version": "1.2.0",
      "_view_name": "StyleView",
      "description_width": ""
     }
    },
    "dbd4c5acdabb4cd4b33a65b89316bed9": {
     "model_module": "@jupyter-widgets/base",
     "model_module_version": "1.2.0",
     "model_name": "LayoutModel",
     "state": {
      "_model_module": "@jupyter-widgets/base",
      "_model_module_version": "1.2.0",
      "_model_name": "LayoutModel",
      "_view_count": null,
      "_view_module": "@jupyter-widgets/base",
      "_view_module_version": "1.2.0",
      "_view_name": "LayoutView",
      "align_content": null,
      "align_items": null,
      "align_self": null,
      "border": null,
      "bottom": null,
      "display": null,
      "flex": null,
      "flex_flow": null,
      "grid_area": null,
      "grid_auto_columns": null,
      "grid_auto_flow": null,
      "grid_auto_rows": null,
      "grid_column": null,
      "grid_gap": null,
      "grid_row": null,
      "grid_template_areas": null,
      "grid_template_columns": null,
      "grid_template_rows": null,
      "height": null,
      "justify_content": null,
      "justify_items": null,
      "left": null,
      "margin": null,
      "max_height": null,
      "max_width": null,
      "min_height": null,
      "min_width": null,
      "object_fit": null,
      "object_position": null,
      "order": null,
      "overflow": null,
      "overflow_x": null,
      "overflow_y": null,
      "padding": null,
      "right": null,
      "top": null,
      "visibility": null,
      "width": null
     }
    },
    "ddf4a8d5270a49e1842eb1c857c0d9cc": {
     "model_module": "@jupyter-widgets/controls",
     "model_module_version": "1.5.0",
     "model_name": "DescriptionStyleModel",
     "state": {
      "_model_module": "@jupyter-widgets/controls",
      "_model_module_version": "1.5.0",
      "_model_name": "DescriptionStyleModel",
      "_view_count": null,
      "_view_module": "@jupyter-widgets/base",
      "_view_module_version": "1.2.0",
      "_view_name": "StyleView",
      "description_width": ""
     }
    },
    "e41a14792e7545f391bfc1fabde2e40a": {
     "model_module": "@jupyter-widgets/base",
     "model_module_version": "1.2.0",
     "model_name": "LayoutModel",
     "state": {
      "_model_module": "@jupyter-widgets/base",
      "_model_module_version": "1.2.0",
      "_model_name": "LayoutModel",
      "_view_count": null,
      "_view_module": "@jupyter-widgets/base",
      "_view_module_version": "1.2.0",
      "_view_name": "LayoutView",
      "align_content": null,
      "align_items": null,
      "align_self": null,
      "border": null,
      "bottom": null,
      "display": null,
      "flex": null,
      "flex_flow": null,
      "grid_area": null,
      "grid_auto_columns": null,
      "grid_auto_flow": null,
      "grid_auto_rows": null,
      "grid_column": null,
      "grid_gap": null,
      "grid_row": null,
      "grid_template_areas": null,
      "grid_template_columns": null,
      "grid_template_rows": null,
      "height": null,
      "justify_content": null,
      "justify_items": null,
      "left": null,
      "margin": null,
      "max_height": null,
      "max_width": null,
      "min_height": null,
      "min_width": null,
      "object_fit": null,
      "object_position": null,
      "order": null,
      "overflow": null,
      "overflow_x": null,
      "overflow_y": null,
      "padding": null,
      "right": null,
      "top": null,
      "visibility": null,
      "width": null
     }
    },
    "e4bacfb95cd347bdb184742e8fc5901b": {
     "model_module": "@jupyter-widgets/base",
     "model_module_version": "1.2.0",
     "model_name": "LayoutModel",
     "state": {
      "_model_module": "@jupyter-widgets/base",
      "_model_module_version": "1.2.0",
      "_model_name": "LayoutModel",
      "_view_count": null,
      "_view_module": "@jupyter-widgets/base",
      "_view_module_version": "1.2.0",
      "_view_name": "LayoutView",
      "align_content": null,
      "align_items": null,
      "align_self": null,
      "border": null,
      "bottom": null,
      "display": null,
      "flex": null,
      "flex_flow": null,
      "grid_area": null,
      "grid_auto_columns": null,
      "grid_auto_flow": null,
      "grid_auto_rows": null,
      "grid_column": null,
      "grid_gap": null,
      "grid_row": null,
      "grid_template_areas": null,
      "grid_template_columns": null,
      "grid_template_rows": null,
      "height": null,
      "justify_content": null,
      "justify_items": null,
      "left": null,
      "margin": null,
      "max_height": null,
      "max_width": null,
      "min_height": null,
      "min_width": null,
      "object_fit": null,
      "object_position": null,
      "order": null,
      "overflow": null,
      "overflow_x": null,
      "overflow_y": null,
      "padding": null,
      "right": null,
      "top": null,
      "visibility": null,
      "width": null
     }
    },
    "e4dfd965b1be40e7a42acb52cecb8e1d": {
     "model_module": "@jupyter-widgets/controls",
     "model_module_version": "1.5.0",
     "model_name": "HTMLModel",
     "state": {
      "_dom_classes": [],
      "_model_module": "@jupyter-widgets/controls",
      "_model_module_version": "1.5.0",
      "_model_name": "HTMLModel",
      "_view_count": null,
      "_view_module": "@jupyter-widgets/controls",
      "_view_module_version": "1.5.0",
      "_view_name": "HTMLView",
      "description": "",
      "description_tooltip": null,
      "layout": "IPY_MODEL_b567961cba074b508690ec90c9c57c8e",
      "placeholder": "​",
      "style": "IPY_MODEL_d83d9aaa163d405f96df8ed263781f1a",
      "value": " 226k/226k [00:00&lt;00:00, 326kB/s]"
     }
    },
    "e662402daeef47a4808dc5b5dc3c5130": {
     "model_module": "@jupyter-widgets/controls",
     "model_module_version": "1.5.0",
     "model_name": "HTMLModel",
     "state": {
      "_dom_classes": [],
      "_model_module": "@jupyter-widgets/controls",
      "_model_module_version": "1.5.0",
      "_model_name": "HTMLModel",
      "_view_count": null,
      "_view_module": "@jupyter-widgets/controls",
      "_view_module_version": "1.5.0",
      "_view_name": "HTMLView",
      "description": "",
      "description_tooltip": null,
      "layout": "IPY_MODEL_05f55e899ed449fca354ae8cdffb3014",
      "placeholder": "​",
      "style": "IPY_MODEL_81c552dc044a4a94ba063754c4ae2119",
      "value": " 28.0/28.0 [00:00&lt;00:00, 490B/s]"
     }
    },
    "ec36cee5c33c4267987c6a2293a29773": {
     "model_module": "@jupyter-widgets/controls",
     "model_module_version": "1.5.0",
     "model_name": "ProgressStyleModel",
     "state": {
      "_model_module": "@jupyter-widgets/controls",
      "_model_module_version": "1.5.0",
      "_model_name": "ProgressStyleModel",
      "_view_count": null,
      "_view_module": "@jupyter-widgets/base",
      "_view_module_version": "1.2.0",
      "_view_name": "StyleView",
      "bar_color": null,
      "description_width": ""
     }
    }
   }
  }
 },
 "nbformat": 4,
 "nbformat_minor": 5
}
