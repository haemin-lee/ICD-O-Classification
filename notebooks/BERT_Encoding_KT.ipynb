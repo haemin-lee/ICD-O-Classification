{
 "cells": [
  {
   "cell_type": "code",
   "execution_count": 61,
   "metadata": {
    "executionInfo": {
     "elapsed": 5624,
     "status": "ok",
     "timestamp": 1638210064202,
     "user": {
      "displayName": "Hardi Rathod",
      "photoUrl": "https://lh3.googleusercontent.com/a/default-user=s64",
      "userId": "00206677079172259404"
     },
     "user_tz": 480
    },
    "id": "aea91b51"
   },
   "outputs": [],
   "source": [
    "import numpy as np\n",
    "import pandas as pd\n",
    "import math\n",
    "import torch\n",
    "import transformers as ppb\n",
    "import warnings\n",
    "import re\n",
    "warnings.filterwarnings('ignore')"
   ]
  },
  {
   "cell_type": "code",
   "execution_count": 62,
   "metadata": {
    "executionInfo": {
     "elapsed": 1274,
     "status": "ok",
     "timestamp": 1638210065449,
     "user": {
      "displayName": "Hardi Rathod",
      "photoUrl": "https://lh3.googleusercontent.com/a/default-user=s64",
      "userId": "00206677079172259404"
     },
     "user_tz": 480
    },
    "id": "23abf4c7"
   },
   "outputs": [],
   "source": [
    "dfs = pd.read_excel(\"nlp_path_data.xlsx\")\n",
    "#dfs = dfs.rename(columns={'10000194': 'numbers', 'S19-09556': 'code', \"Invasive carcinoma of no special type (invasive ductal carcinoma, not otherwise ...\": \"descriptions\"})"
   ]
  },
  {
   "cell_type": "code",
   "execution_count": 63,
   "metadata": {
    "colab": {
     "base_uri": "https://localhost:8080/",
     "height": 206
    },
    "executionInfo": {
     "elapsed": 91,
     "status": "ok",
     "timestamp": 1638210065453,
     "user": {
      "displayName": "Hardi Rathod",
      "photoUrl": "https://lh3.googleusercontent.com/a/default-user=s64",
      "userId": "00206677079172259404"
     },
     "user_tz": 480
    },
    "id": "45de3aa1",
    "outputId": "c2c1d339-8557-492b-9343-ab3ab5eaa0a9"
   },
   "outputs": [
    {
     "data": {
      "text/html": [
       "<div>\n",
       "<style scoped>\n",
       "    .dataframe tbody tr th:only-of-type {\n",
       "        vertical-align: middle;\n",
       "    }\n",
       "\n",
       "    .dataframe tbody tr th {\n",
       "        vertical-align: top;\n",
       "    }\n",
       "\n",
       "    .dataframe thead th {\n",
       "        text-align: right;\n",
       "    }\n",
       "</style>\n",
       "<table border=\"1\" class=\"dataframe\">\n",
       "  <thead>\n",
       "    <tr style=\"text-align: right;\">\n",
       "      <th></th>\n",
       "      <th>Dx</th>\n",
       "      <th>Code</th>\n",
       "    </tr>\n",
       "  </thead>\n",
       "  <tbody>\n",
       "    <tr>\n",
       "      <th>0</th>\n",
       "      <td>Adenocarcinoma</td>\n",
       "      <td>8140</td>\n",
       "    </tr>\n",
       "    <tr>\n",
       "      <th>1</th>\n",
       "      <td>Adenocarcinoma</td>\n",
       "      <td>8140</td>\n",
       "    </tr>\n",
       "    <tr>\n",
       "      <th>2</th>\n",
       "      <td>Adenocarcinoma</td>\n",
       "      <td>8140</td>\n",
       "    </tr>\n",
       "    <tr>\n",
       "      <th>3</th>\n",
       "      <td>Adenocarcinoma</td>\n",
       "      <td>8140</td>\n",
       "    </tr>\n",
       "    <tr>\n",
       "      <th>4</th>\n",
       "      <td>Adenocarcinoma</td>\n",
       "      <td>8140</td>\n",
       "    </tr>\n",
       "  </tbody>\n",
       "</table>\n",
       "</div>"
      ],
      "text/plain": [
       "               Dx  Code\n",
       "0  Adenocarcinoma  8140\n",
       "1  Adenocarcinoma  8140\n",
       "2  Adenocarcinoma  8140\n",
       "3  Adenocarcinoma  8140\n",
       "4  Adenocarcinoma  8140"
      ]
     },
     "execution_count": 63,
     "metadata": {},
     "output_type": "execute_result"
    }
   ],
   "source": [
    "dfs.head()"
   ]
  },
  {
   "cell_type": "code",
   "execution_count": 64,
   "metadata": {
    "colab": {
     "base_uri": "https://localhost:8080/"
    },
    "executionInfo": {
     "elapsed": 87,
     "status": "ok",
     "timestamp": 1638210065457,
     "user": {
      "displayName": "Hardi Rathod",
      "photoUrl": "https://lh3.googleusercontent.com/a/default-user=s64",
      "userId": "00206677079172259404"
     },
     "user_tz": 480
    },
    "id": "S8X_wKpi7BzY",
    "outputId": "29cdcac7-cb08-4dcf-e1d0-aa2e62701115"
   },
   "outputs": [
    {
     "name": "stdout",
     "output_type": "stream",
     "text": [
      "117\n"
     ]
    }
   ],
   "source": [
    "np.unique(dfs[\"Code\"])\n",
    "print(len(np.unique(dfs[\"Code\"])))"
   ]
  },
  {
   "cell_type": "code",
   "execution_count": 65,
   "metadata": {
    "colab": {
     "base_uri": "https://localhost:8080/"
    },
    "executionInfo": {
     "elapsed": 77,
     "status": "ok",
     "timestamp": 1638210065462,
     "user": {
      "displayName": "Hardi Rathod",
      "photoUrl": "https://lh3.googleusercontent.com/a/default-user=s64",
      "userId": "00206677079172259404"
     },
     "user_tz": 480
    },
    "id": "M-UphtojAcga",
    "outputId": "582f8d50-8b00-4123-cf48-2dddac60abc1"
   },
   "outputs": [
    {
     "data": {
      "text/plain": [
       "8500    1563\n",
       "8140     827\n",
       "8550     796\n",
       "8070     325\n",
       "8120     294\n",
       "        ... \n",
       "8815       1\n",
       "9020       1\n",
       "8840       1\n",
       "8900       1\n",
       "9064       1\n",
       "Name: Code, Length: 117, dtype: int64"
      ]
     },
     "execution_count": 65,
     "metadata": {},
     "output_type": "execute_result"
    }
   ],
   "source": [
    "dfs[\"Code\"].value_counts()"
   ]
  },
  {
   "cell_type": "code",
   "execution_count": 66,
   "metadata": {
    "colab": {
     "base_uri": "https://localhost:8080/"
    },
    "executionInfo": {
     "elapsed": 76,
     "status": "ok",
     "timestamp": 1638210065469,
     "user": {
      "displayName": "Hardi Rathod",
      "photoUrl": "https://lh3.googleusercontent.com/a/default-user=s64",
      "userId": "00206677079172259404"
     },
     "user_tz": 480
    },
    "id": "UwHxz8KvBdsd",
    "outputId": "346e9377-aa40-486c-fc51-c5446e8d6d9f"
   },
   "outputs": [
    {
     "data": {
      "text/plain": [
       "array([8000, 8010, 8020, 8050, 8070, 8071, 8072, 8085, 8120, 8130, 8140,\n",
       "       8144, 8150, 8170, 8230, 8240, 8250, 8252, 8260, 8310, 8312, 8317,\n",
       "       8335, 8340, 8380, 8441, 8442, 8461, 8480, 8500, 8510, 8520, 8522,\n",
       "       8550, 8575, 8720, 8721, 8742, 8743, 8744, 8745, 8802, 8850, 8858,\n",
       "       8890, 8936, 9061, 9070, 9071])"
      ]
     },
     "execution_count": 66,
     "metadata": {},
     "output_type": "execute_result"
    }
   ],
   "source": [
    "# Codes we actually want to use:\n",
    "df_grouped = dfs.groupby([\"Code\"]).count().reset_index()\n",
    "codes = df_grouped[df_grouped[\"Dx\"] > 10][\"Code\"].values\n",
    "codes"
   ]
  },
  {
   "cell_type": "code",
   "execution_count": 67,
   "metadata": {
    "colab": {
     "base_uri": "https://localhost:8080/",
     "height": 424
    },
    "executionInfo": {
     "elapsed": 72,
     "status": "ok",
     "timestamp": 1638210065474,
     "user": {
      "displayName": "Hardi Rathod",
      "photoUrl": "https://lh3.googleusercontent.com/a/default-user=s64",
      "userId": "00206677079172259404"
     },
     "user_tz": 480
    },
    "id": "heS1cLVRCyvA",
    "outputId": "e0151760-ef36-4a53-ce87-da1987cdc087"
   },
   "outputs": [
    {
     "data": {
      "text/html": [
       "<div>\n",
       "<style scoped>\n",
       "    .dataframe tbody tr th:only-of-type {\n",
       "        vertical-align: middle;\n",
       "    }\n",
       "\n",
       "    .dataframe tbody tr th {\n",
       "        vertical-align: top;\n",
       "    }\n",
       "\n",
       "    .dataframe thead th {\n",
       "        text-align: right;\n",
       "    }\n",
       "</style>\n",
       "<table border=\"1\" class=\"dataframe\">\n",
       "  <thead>\n",
       "    <tr style=\"text-align: right;\">\n",
       "      <th></th>\n",
       "      <th>Dx</th>\n",
       "      <th>Code</th>\n",
       "    </tr>\n",
       "  </thead>\n",
       "  <tbody>\n",
       "    <tr>\n",
       "      <th>0</th>\n",
       "      <td>Adenocarcinoma</td>\n",
       "      <td>8140</td>\n",
       "    </tr>\n",
       "    <tr>\n",
       "      <th>1</th>\n",
       "      <td>Adenocarcinoma</td>\n",
       "      <td>8140</td>\n",
       "    </tr>\n",
       "    <tr>\n",
       "      <th>2</th>\n",
       "      <td>Adenocarcinoma</td>\n",
       "      <td>8140</td>\n",
       "    </tr>\n",
       "    <tr>\n",
       "      <th>3</th>\n",
       "      <td>Adenocarcinoma</td>\n",
       "      <td>8140</td>\n",
       "    </tr>\n",
       "    <tr>\n",
       "      <th>4</th>\n",
       "      <td>Adenocarcinoma</td>\n",
       "      <td>8140</td>\n",
       "    </tr>\n",
       "    <tr>\n",
       "      <th>...</th>\n",
       "      <td>...</td>\n",
       "      <td>...</td>\n",
       "    </tr>\n",
       "    <tr>\n",
       "      <th>6792</th>\n",
       "      <td>Squamous Cell Carcinoma and Variants</td>\n",
       "      <td>8070</td>\n",
       "    </tr>\n",
       "    <tr>\n",
       "      <th>6793</th>\n",
       "      <td>Squamous cell carcinoma, conventional</td>\n",
       "      <td>8070</td>\n",
       "    </tr>\n",
       "    <tr>\n",
       "      <th>6794</th>\n",
       "      <td>Ductal carcinoma in situ</td>\n",
       "      <td>8500</td>\n",
       "    </tr>\n",
       "    <tr>\n",
       "      <th>6795</th>\n",
       "      <td>Serous carcinoma</td>\n",
       "      <td>8441</td>\n",
       "    </tr>\n",
       "    <tr>\n",
       "      <th>6796</th>\n",
       "      <td>Acinar adenocarcinoma</td>\n",
       "      <td>8550</td>\n",
       "    </tr>\n",
       "  </tbody>\n",
       "</table>\n",
       "<p>6508 rows × 2 columns</p>\n",
       "</div>"
      ],
      "text/plain": [
       "                                         Dx  Code\n",
       "0                            Adenocarcinoma  8140\n",
       "1                            Adenocarcinoma  8140\n",
       "2                            Adenocarcinoma  8140\n",
       "3                            Adenocarcinoma  8140\n",
       "4                            Adenocarcinoma  8140\n",
       "...                                     ...   ...\n",
       "6792   Squamous Cell Carcinoma and Variants  8070\n",
       "6793  Squamous cell carcinoma, conventional  8070\n",
       "6794               Ductal carcinoma in situ  8500\n",
       "6795                       Serous carcinoma  8441\n",
       "6796                  Acinar adenocarcinoma  8550\n",
       "\n",
       "[6508 rows x 2 columns]"
      ]
     },
     "execution_count": 67,
     "metadata": {},
     "output_type": "execute_result"
    }
   ],
   "source": [
    "dfs = dfs[dfs[\"Code\"].isin(codes)]\n",
    "dfs"
   ]
  },
  {
   "cell_type": "code",
   "execution_count": 68,
   "metadata": {
    "colab": {
     "base_uri": "https://localhost:8080/"
    },
    "executionInfo": {
     "elapsed": 71,
     "status": "ok",
     "timestamp": 1638210065477,
     "user": {
      "displayName": "Hardi Rathod",
      "photoUrl": "https://lh3.googleusercontent.com/a/default-user=s64",
      "userId": "00206677079172259404"
     },
     "user_tz": 480
    },
    "id": "lO6H4fVcFkTb",
    "outputId": "b8a9b6da-113d-4eac-c0b2-48d9d32e92e7"
   },
   "outputs": [
    {
     "data": {
      "text/plain": [
       "8500    1563\n",
       "8140     827\n",
       "8550     796\n",
       "8070     325\n",
       "8120     294\n",
       "8312     237\n",
       "8050     213\n",
       "8743     204\n",
       "8441     184\n",
       "8380     181\n",
       "8520     174\n",
       "8000     173\n",
       "8480     118\n",
       "8130     115\n",
       "8720      96\n",
       "8010      85\n",
       "8522      71\n",
       "8936      70\n",
       "8260      66\n",
       "8150      58\n",
       "8721      47\n",
       "8240      47\n",
       "8071      46\n",
       "8744      44\n",
       "8340      38\n",
       "8850      34\n",
       "8742      31\n",
       "8170      27\n",
       "8745      26\n",
       "8072      25\n",
       "8317      24\n",
       "8461      20\n",
       "8230      19\n",
       "9061      19\n",
       "8802      18\n",
       "8575      17\n",
       "8858      16\n",
       "8250      15\n",
       "8252      15\n",
       "8020      15\n",
       "8442      14\n",
       "8890      14\n",
       "8085      13\n",
       "8335      13\n",
       "9070      13\n",
       "8310      13\n",
       "9071      12\n",
       "8510      12\n",
       "8144      11\n",
       "Name: Code, dtype: int64"
      ]
     },
     "execution_count": 68,
     "metadata": {},
     "output_type": "execute_result"
    }
   ],
   "source": [
    "dfs[\"Code\"].value_counts()"
   ]
  },
  {
   "cell_type": "markdown",
   "metadata": {
    "id": "07776dde"
   },
   "source": [
    "# Preprocessing:"
   ]
  },
  {
   "cell_type": "code",
   "execution_count": 69,
   "metadata": {
    "executionInfo": {
     "elapsed": 63,
     "status": "ok",
     "timestamp": 1638210065479,
     "user": {
      "displayName": "Hardi Rathod",
      "photoUrl": "https://lh3.googleusercontent.com/a/default-user=s64",
      "userId": "00206677079172259404"
     },
     "user_tz": 480
    },
    "id": "DQVFGs-dPzRp"
   },
   "outputs": [],
   "source": [
    "#remove non-alphabetical characters, lower case, puctuation, extra spaces. \n",
    "dfs[\"Dx\"] = dfs[\"Dx\"].str.lower()\n",
    "dfs[\"Dx\"] = dfs[\"Dx\"].replace(r'[^a-z|\\s]', '', regex=True)\n",
    "dfs[\"Dx\"] = dfs[\"Dx\"].replace(r'\\s\\s+', ' ', regex=True)\n"
   ]
  },
  {
   "cell_type": "markdown",
   "metadata": {
    "id": "4c588e66"
   },
   "source": [
    "# BERT Embedding"
   ]
  },
  {
   "cell_type": "code",
   "execution_count": 70,
   "metadata": {
    "colab": {
     "base_uri": "https://localhost:8080/",
     "height": 249,
     "referenced_widgets": [
      "17c3564645fd436d9e0eefdfac2b1c1f",
      "e2b1512bea1542e2b1063c406bef02c1",
      "d0cd16ea52a54d0aad93fe82a27ba6af",
      "90c049d7f57d4d50a51c8c31a3089b45",
      "4886090d2bc74b60b3d8baa10e51ca69",
      "c44ae8b41296493da149cd6a6666430a",
      "f86af6605eeb4987b2b91a7ff52eb19f",
      "175463e4e176408aae7f9b1fe0e100cd",
      "a010a73969b14ae4b2910aafc6719a79",
      "0b9475ba68e14162a2a6a5b0fb50029f",
      "ac0d765b7c424f5a8704ae9081c68db9",
      "7b58c53f27294832bd168adefd9be794",
      "9a888039d1524999922726813fec4502",
      "f22b7f363ead405c9b227eb09d235efe",
      "d21667ebf42148db98092af3f6efaa3c",
      "a41115acb220424d8ff89997fc513fc8",
      "852e2dd09d3c4462af50ce3075750ad2",
      "00d7be27fe784e6bbe3e79c388351547",
      "e07c73c828f841a1a3e85ef7034b6573",
      "a85bcdfbdb5e41f2bfcc39cc1bd359d5",
      "7a40ed74cfa0409abb06b4ec90e528f5",
      "bfca9f518079498aad7d142a80c6acb4",
      "ec53beef383d48fab5cd070badbc38d2",
      "9f25191cd6cf4e5b843ed7c66efb93d3",
      "cacd79348e8f43f9840d2e15fcd6f349",
      "9d8a078456be4006a86293d3c0e5f320",
      "1bd454a3d8bf4068b80d2072498d1d0e",
      "9dba667b9c294e66a4b698645bea13b7",
      "f2f1482075a84089a5de3d1bb042ea8c",
      "306b1fc9a25a400e84e42dddfbb8ab66",
      "61f0c0997afc4738ac22ecec3bccb36a",
      "00d9325b997e4f9cb00391f19d8f6be4",
      "4fe59b5ce455491d8c8834c82941dc67",
      "69007f52e46e4838a74706ec5fd95f81",
      "e85a71b1183246cdae9317299ed504d9",
      "4b6b4654e3234925bd351c257b72e326",
      "2bee3f5753684be8b1a13ca6d62089f6",
      "6a53b9b1616b49b3ae23022cb204c6f1",
      "ac4c73ea7a514cbd86877079427491b0",
      "022ed50d03394bfe9a199b80469684d8",
      "d6fe53e1f515483eb7ac57d238341c22",
      "5d488fbbac6344a9875348b1baa39ffb",
      "92d7e06b4e79434dbab7e83bff1c4260",
      "0192b50917de4a698760fdb88e7fa06e",
      "26e79ae174b34446b27f391f14cf2ff4",
      "684cea1f81044ed48d116203edf69aab",
      "58b0901640214528976e933796579eb5",
      "3bd609c5e870444090d9645fcecb6acd",
      "97f583946e5a40789398ea0273a53dea",
      "334695602b0a43acbeff1a3701c94ab4",
      "7ba73347e9a349f9b7066067ce29a11f",
      "a8acfe8aff2246ffaff13a013227a6dd",
      "eaf7fa80e5a146eb8f4ea1b25959bb36",
      "c5bb803b32194a6f8240f2aeefe9f094",
      "a0916b29f41e43d5821b5a0df7c24a8d"
     ]
    },
    "executionInfo": {
     "elapsed": 21632,
     "status": "ok",
     "timestamp": 1638210087050,
     "user": {
      "displayName": "Hardi Rathod",
      "photoUrl": "https://lh3.googleusercontent.com/a/default-user=s64",
      "userId": "00206677079172259404"
     },
     "user_tz": 480
    },
    "id": "w-SQomcWQfxy",
    "outputId": "058dcad8-472b-4b37-a155-22e927b7cbb1"
   },
   "outputs": [
    {
     "name": "stderr",
     "output_type": "stream",
     "text": [
      "Some weights of the model checkpoint at bert-base-uncased were not used when initializing BertModel: ['cls.seq_relationship.bias', 'cls.predictions.bias', 'cls.predictions.transform.LayerNorm.weight', 'cls.seq_relationship.weight', 'cls.predictions.transform.LayerNorm.bias', 'cls.predictions.decoder.weight', 'cls.predictions.transform.dense.bias', 'cls.predictions.transform.dense.weight']\n",
      "- This IS expected if you are initializing BertModel from the checkpoint of a model trained on another task or with another architecture (e.g. initializing a BertForSequenceClassification model from a BertForPreTraining model).\n",
      "- This IS NOT expected if you are initializing BertModel from the checkpoint of a model that you expect to be exactly identical (initializing a BertForSequenceClassification model from a BertForSequenceClassification model).\n"
     ]
    }
   ],
   "source": [
    "#Load the pretrained bert model\n",
    "model_class, tokenizer_class, pretrained_weights = (ppb.BertModel, ppb.BertTokenizer, 'bert-base-uncased')\n",
    "\n",
    "# Load pretrained model/tokenizer\n",
    "tokenizer = tokenizer_class.from_pretrained(pretrained_weights)\n",
    "model = model_class.from_pretrained(pretrained_weights)\n"
   ]
  },
  {
   "cell_type": "code",
   "execution_count": null,
   "metadata": {
    "executionInfo": {
     "elapsed": 97,
     "status": "ok",
     "timestamp": 1638210087052,
     "user": {
      "displayName": "Hardi Rathod",
      "photoUrl": "https://lh3.googleusercontent.com/a/default-user=s64",
      "userId": "00206677079172259404"
     },
     "user_tz": 480
    },
    "id": "4ttEyLm0RJeE"
   },
   "outputs": [],
   "source": []
  },
  {
   "cell_type": "code",
   "execution_count": 71,
   "metadata": {
    "colab": {
     "base_uri": "https://localhost:8080/",
     "height": 424
    },
    "executionInfo": {
     "elapsed": 93,
     "status": "ok",
     "timestamp": 1638210087056,
     "user": {
      "displayName": "Hardi Rathod",
      "photoUrl": "https://lh3.googleusercontent.com/a/default-user=s64",
      "userId": "00206677079172259404"
     },
     "user_tz": 480
    },
    "id": "HUHYCAP6Tzmc",
    "outputId": "de6c0025-b2d1-4a1f-a4d5-2465edf9593d"
   },
   "outputs": [
    {
     "data": {
      "text/html": [
       "<div>\n",
       "<style scoped>\n",
       "    .dataframe tbody tr th:only-of-type {\n",
       "        vertical-align: middle;\n",
       "    }\n",
       "\n",
       "    .dataframe tbody tr th {\n",
       "        vertical-align: top;\n",
       "    }\n",
       "\n",
       "    .dataframe thead th {\n",
       "        text-align: right;\n",
       "    }\n",
       "</style>\n",
       "<table border=\"1\" class=\"dataframe\">\n",
       "  <thead>\n",
       "    <tr style=\"text-align: right;\">\n",
       "      <th></th>\n",
       "      <th>Dx</th>\n",
       "      <th>Code</th>\n",
       "    </tr>\n",
       "  </thead>\n",
       "  <tbody>\n",
       "    <tr>\n",
       "      <th>0</th>\n",
       "      <td>adenocarcinoma</td>\n",
       "      <td>8140</td>\n",
       "    </tr>\n",
       "    <tr>\n",
       "      <th>1</th>\n",
       "      <td>adenocarcinoma</td>\n",
       "      <td>8140</td>\n",
       "    </tr>\n",
       "    <tr>\n",
       "      <th>2</th>\n",
       "      <td>adenocarcinoma</td>\n",
       "      <td>8140</td>\n",
       "    </tr>\n",
       "    <tr>\n",
       "      <th>3</th>\n",
       "      <td>adenocarcinoma</td>\n",
       "      <td>8140</td>\n",
       "    </tr>\n",
       "    <tr>\n",
       "      <th>4</th>\n",
       "      <td>adenocarcinoma</td>\n",
       "      <td>8140</td>\n",
       "    </tr>\n",
       "    <tr>\n",
       "      <th>...</th>\n",
       "      <td>...</td>\n",
       "      <td>...</td>\n",
       "    </tr>\n",
       "    <tr>\n",
       "      <th>6792</th>\n",
       "      <td>squamous cell carcinoma and variants</td>\n",
       "      <td>8070</td>\n",
       "    </tr>\n",
       "    <tr>\n",
       "      <th>6793</th>\n",
       "      <td>squamous cell carcinoma conventional</td>\n",
       "      <td>8070</td>\n",
       "    </tr>\n",
       "    <tr>\n",
       "      <th>6794</th>\n",
       "      <td>ductal carcinoma in situ</td>\n",
       "      <td>8500</td>\n",
       "    </tr>\n",
       "    <tr>\n",
       "      <th>6795</th>\n",
       "      <td>serous carcinoma</td>\n",
       "      <td>8441</td>\n",
       "    </tr>\n",
       "    <tr>\n",
       "      <th>6796</th>\n",
       "      <td>acinar adenocarcinoma</td>\n",
       "      <td>8550</td>\n",
       "    </tr>\n",
       "  </tbody>\n",
       "</table>\n",
       "<p>6508 rows × 2 columns</p>\n",
       "</div>"
      ],
      "text/plain": [
       "                                        Dx  Code\n",
       "0                           adenocarcinoma  8140\n",
       "1                           adenocarcinoma  8140\n",
       "2                           adenocarcinoma  8140\n",
       "3                           adenocarcinoma  8140\n",
       "4                           adenocarcinoma  8140\n",
       "...                                    ...   ...\n",
       "6792  squamous cell carcinoma and variants  8070\n",
       "6793  squamous cell carcinoma conventional  8070\n",
       "6794              ductal carcinoma in situ  8500\n",
       "6795                      serous carcinoma  8441\n",
       "6796                 acinar adenocarcinoma  8550\n",
       "\n",
       "[6508 rows x 2 columns]"
      ]
     },
     "execution_count": 71,
     "metadata": {},
     "output_type": "execute_result"
    }
   ],
   "source": [
    "dfs"
   ]
  },
  {
   "cell_type": "code",
   "execution_count": 72,
   "metadata": {
    "colab": {
     "base_uri": "https://localhost:8080/"
    },
    "executionInfo": {
     "elapsed": 88,
     "status": "ok",
     "timestamp": 1638210087058,
     "user": {
      "displayName": "Hardi Rathod",
      "photoUrl": "https://lh3.googleusercontent.com/a/default-user=s64",
      "userId": "00206677079172259404"
     },
     "user_tz": 480
    },
    "id": "igvSKaaVRvwZ",
    "outputId": "4fb5a991-32d6-41e1-f1dd-33feb1ed7324"
   },
   "outputs": [
    {
     "data": {
      "text/plain": [
       "{8070: 0,\n",
       " 8071: 1,\n",
       " 8072: 2,\n",
       " 8461: 3,\n",
       " 8335: 4,\n",
       " 8720: 5,\n",
       " 8721: 6,\n",
       " 8850: 7,\n",
       " 8340: 8,\n",
       " 8085: 9,\n",
       " 8858: 10,\n",
       " 8480: 11,\n",
       " 8742: 12,\n",
       " 8743: 13,\n",
       " 8744: 14,\n",
       " 8745: 15,\n",
       " 8230: 16,\n",
       " 8240: 17,\n",
       " 8500: 18,\n",
       " 8120: 19,\n",
       " 8890: 20,\n",
       " 8250: 21,\n",
       " 8380: 22,\n",
       " 8252: 23,\n",
       " 8510: 24,\n",
       " 8000: 25,\n",
       " 8130: 26,\n",
       " 8260: 27,\n",
       " 8520: 28,\n",
       " 8010: 29,\n",
       " 8522: 30,\n",
       " 8140: 31,\n",
       " 8144: 32,\n",
       " 8020: 33,\n",
       " 8150: 34,\n",
       " 8802: 35,\n",
       " 9061: 36,\n",
       " 8550: 37,\n",
       " 8936: 38,\n",
       " 8170: 39,\n",
       " 9070: 40,\n",
       " 9071: 41,\n",
       " 8050: 42,\n",
       " 8310: 43,\n",
       " 8312: 44,\n",
       " 8441: 45,\n",
       " 8442: 46,\n",
       " 8317: 47,\n",
       " 8575: 48}"
      ]
     },
     "execution_count": 72,
     "metadata": {},
     "output_type": "execute_result"
    }
   ],
   "source": [
    "#icd_codes = dfs[\"preprocessed_ICD_codes\"]\n",
    "icd_codes_d = {}\n",
    "for i, code in sorted(enumerate(set(dfs[\"Code\"]))):\n",
    "  icd_codes_d[code] = i\n",
    "icd_codes_d"
   ]
  },
  {
   "cell_type": "code",
   "execution_count": 73,
   "metadata": {
    "colab": {
     "base_uri": "https://localhost:8080/"
    },
    "executionInfo": {
     "elapsed": 81,
     "status": "ok",
     "timestamp": 1638210087060,
     "user": {
      "displayName": "Hardi Rathod",
      "photoUrl": "https://lh3.googleusercontent.com/a/default-user=s64",
      "userId": "00206677079172259404"
     },
     "user_tz": 480
    },
    "id": "JdlAd_HTTAhO",
    "outputId": "693ccf6d-7766-4ec6-ab67-ecb7f75d6ff9"
   },
   "outputs": [
    {
     "data": {
      "text/plain": [
       "0       31\n",
       "1       31\n",
       "2       31\n",
       "3       31\n",
       "4       31\n",
       "        ..\n",
       "6792     0\n",
       "6793     0\n",
       "6794    18\n",
       "6795    45\n",
       "6796    37\n",
       "Name: Code_n, Length: 6508, dtype: int64"
      ]
     },
     "execution_count": 73,
     "metadata": {},
     "output_type": "execute_result"
    }
   ],
   "source": [
    "dfs['Code_n'] = dfs['Code'].apply(lambda x: icd_codes_d[x])\n",
    "dfs['Code_n']"
   ]
  },
  {
   "cell_type": "code",
   "execution_count": 74,
   "metadata": {
    "colab": {
     "base_uri": "https://localhost:8080/",
     "height": 424
    },
    "executionInfo": {
     "elapsed": 77,
     "status": "ok",
     "timestamp": 1638210087064,
     "user": {
      "displayName": "Hardi Rathod",
      "photoUrl": "https://lh3.googleusercontent.com/a/default-user=s64",
      "userId": "00206677079172259404"
     },
     "user_tz": 480
    },
    "id": "vfoqDQHESlPx",
    "outputId": "73ebe807-4151-4b9a-e256-bfabbbb8bacb"
   },
   "outputs": [
    {
     "data": {
      "text/html": [
       "<div>\n",
       "<style scoped>\n",
       "    .dataframe tbody tr th:only-of-type {\n",
       "        vertical-align: middle;\n",
       "    }\n",
       "\n",
       "    .dataframe tbody tr th {\n",
       "        vertical-align: top;\n",
       "    }\n",
       "\n",
       "    .dataframe thead th {\n",
       "        text-align: right;\n",
       "    }\n",
       "</style>\n",
       "<table border=\"1\" class=\"dataframe\">\n",
       "  <thead>\n",
       "    <tr style=\"text-align: right;\">\n",
       "      <th></th>\n",
       "      <th>Dx</th>\n",
       "      <th>Code</th>\n",
       "      <th>Code_n</th>\n",
       "    </tr>\n",
       "  </thead>\n",
       "  <tbody>\n",
       "    <tr>\n",
       "      <th>0</th>\n",
       "      <td>adenocarcinoma</td>\n",
       "      <td>8140</td>\n",
       "      <td>31</td>\n",
       "    </tr>\n",
       "    <tr>\n",
       "      <th>1</th>\n",
       "      <td>adenocarcinoma</td>\n",
       "      <td>8140</td>\n",
       "      <td>31</td>\n",
       "    </tr>\n",
       "    <tr>\n",
       "      <th>2</th>\n",
       "      <td>adenocarcinoma</td>\n",
       "      <td>8140</td>\n",
       "      <td>31</td>\n",
       "    </tr>\n",
       "    <tr>\n",
       "      <th>3</th>\n",
       "      <td>adenocarcinoma</td>\n",
       "      <td>8140</td>\n",
       "      <td>31</td>\n",
       "    </tr>\n",
       "    <tr>\n",
       "      <th>4</th>\n",
       "      <td>adenocarcinoma</td>\n",
       "      <td>8140</td>\n",
       "      <td>31</td>\n",
       "    </tr>\n",
       "    <tr>\n",
       "      <th>...</th>\n",
       "      <td>...</td>\n",
       "      <td>...</td>\n",
       "      <td>...</td>\n",
       "    </tr>\n",
       "    <tr>\n",
       "      <th>6792</th>\n",
       "      <td>squamous cell carcinoma and variants</td>\n",
       "      <td>8070</td>\n",
       "      <td>0</td>\n",
       "    </tr>\n",
       "    <tr>\n",
       "      <th>6793</th>\n",
       "      <td>squamous cell carcinoma conventional</td>\n",
       "      <td>8070</td>\n",
       "      <td>0</td>\n",
       "    </tr>\n",
       "    <tr>\n",
       "      <th>6794</th>\n",
       "      <td>ductal carcinoma in situ</td>\n",
       "      <td>8500</td>\n",
       "      <td>18</td>\n",
       "    </tr>\n",
       "    <tr>\n",
       "      <th>6795</th>\n",
       "      <td>serous carcinoma</td>\n",
       "      <td>8441</td>\n",
       "      <td>45</td>\n",
       "    </tr>\n",
       "    <tr>\n",
       "      <th>6796</th>\n",
       "      <td>acinar adenocarcinoma</td>\n",
       "      <td>8550</td>\n",
       "      <td>37</td>\n",
       "    </tr>\n",
       "  </tbody>\n",
       "</table>\n",
       "<p>6508 rows × 3 columns</p>\n",
       "</div>"
      ],
      "text/plain": [
       "                                        Dx  Code  Code_n\n",
       "0                           adenocarcinoma  8140      31\n",
       "1                           adenocarcinoma  8140      31\n",
       "2                           adenocarcinoma  8140      31\n",
       "3                           adenocarcinoma  8140      31\n",
       "4                           adenocarcinoma  8140      31\n",
       "...                                    ...   ...     ...\n",
       "6792  squamous cell carcinoma and variants  8070       0\n",
       "6793  squamous cell carcinoma conventional  8070       0\n",
       "6794              ductal carcinoma in situ  8500      18\n",
       "6795                      serous carcinoma  8441      45\n",
       "6796                 acinar adenocarcinoma  8550      37\n",
       "\n",
       "[6508 rows x 3 columns]"
      ]
     },
     "execution_count": 74,
     "metadata": {},
     "output_type": "execute_result"
    }
   ],
   "source": [
    "dfs"
   ]
  },
  {
   "cell_type": "code",
   "execution_count": 75,
   "metadata": {
    "executionInfo": {
     "elapsed": 75,
     "status": "ok",
     "timestamp": 1638210087067,
     "user": {
      "displayName": "Hardi Rathod",
      "photoUrl": "https://lh3.googleusercontent.com/a/default-user=s64",
      "userId": "00206677079172259404"
     },
     "user_tz": 480
    },
    "id": "XWLhwU_DUJ80"
   },
   "outputs": [],
   "source": [
    "from sklearn.model_selection import train_test_split\n",
    "\n",
    "train, test = train_test_split(dfs, test_size=0.2)"
   ]
  },
  {
   "cell_type": "code",
   "execution_count": 76,
   "metadata": {
    "colab": {
     "base_uri": "https://localhost:8080/",
     "height": 424
    },
    "executionInfo": {
     "elapsed": 77,
     "status": "ok",
     "timestamp": 1638210087070,
     "user": {
      "displayName": "Hardi Rathod",
      "photoUrl": "https://lh3.googleusercontent.com/a/default-user=s64",
      "userId": "00206677079172259404"
     },
     "user_tz": 480
    },
    "id": "5I3-aj74UdDl",
    "outputId": "d4916ce1-7b35-4af5-c3ae-91449ed3328a"
   },
   "outputs": [
    {
     "data": {
      "text/html": [
       "<div>\n",
       "<style scoped>\n",
       "    .dataframe tbody tr th:only-of-type {\n",
       "        vertical-align: middle;\n",
       "    }\n",
       "\n",
       "    .dataframe tbody tr th {\n",
       "        vertical-align: top;\n",
       "    }\n",
       "\n",
       "    .dataframe thead th {\n",
       "        text-align: right;\n",
       "    }\n",
       "</style>\n",
       "<table border=\"1\" class=\"dataframe\">\n",
       "  <thead>\n",
       "    <tr style=\"text-align: right;\">\n",
       "      <th></th>\n",
       "      <th>Dx</th>\n",
       "      <th>Code</th>\n",
       "      <th>Code_n</th>\n",
       "    </tr>\n",
       "  </thead>\n",
       "  <tbody>\n",
       "    <tr>\n",
       "      <th>0</th>\n",
       "      <td>acinar adenocarcinoma</td>\n",
       "      <td>8550</td>\n",
       "      <td>37</td>\n",
       "    </tr>\n",
       "    <tr>\n",
       "      <th>1</th>\n",
       "      <td>squamous cell carcinoma usual type</td>\n",
       "      <td>8070</td>\n",
       "      <td>0</td>\n",
       "    </tr>\n",
       "    <tr>\n",
       "      <th>2</th>\n",
       "      <td>invasive carcinoma of no special type invasive...</td>\n",
       "      <td>8500</td>\n",
       "      <td>18</td>\n",
       "    </tr>\n",
       "    <tr>\n",
       "      <th>3</th>\n",
       "      <td>adenocarcinoma</td>\n",
       "      <td>8140</td>\n",
       "      <td>31</td>\n",
       "    </tr>\n",
       "    <tr>\n",
       "      <th>4</th>\n",
       "      <td>invasive adenocarcinoma acinar predominant</td>\n",
       "      <td>8140</td>\n",
       "      <td>31</td>\n",
       "    </tr>\n",
       "    <tr>\n",
       "      <th>...</th>\n",
       "      <td>...</td>\n",
       "      <td>...</td>\n",
       "      <td>...</td>\n",
       "    </tr>\n",
       "    <tr>\n",
       "      <th>5201</th>\n",
       "      <td>adenocarcinoma</td>\n",
       "      <td>8140</td>\n",
       "      <td>31</td>\n",
       "    </tr>\n",
       "    <tr>\n",
       "      <th>5202</th>\n",
       "      <td>endometrioid carcinoma nos</td>\n",
       "      <td>8380</td>\n",
       "      <td>22</td>\n",
       "    </tr>\n",
       "    <tr>\n",
       "      <th>5203</th>\n",
       "      <td>melanoma in situ superficial spreading type lo...</td>\n",
       "      <td>8743</td>\n",
       "      <td>13</td>\n",
       "    </tr>\n",
       "    <tr>\n",
       "      <th>5204</th>\n",
       "      <td>melanoma in situ lentigo maligna type</td>\n",
       "      <td>8720</td>\n",
       "      <td>5</td>\n",
       "    </tr>\n",
       "    <tr>\n",
       "      <th>5205</th>\n",
       "      <td>acinar adenocarcinoma</td>\n",
       "      <td>8550</td>\n",
       "      <td>37</td>\n",
       "    </tr>\n",
       "  </tbody>\n",
       "</table>\n",
       "<p>5206 rows × 3 columns</p>\n",
       "</div>"
      ],
      "text/plain": [
       "                                                     Dx  Code  Code_n\n",
       "0                                 acinar adenocarcinoma  8550      37\n",
       "1                    squamous cell carcinoma usual type  8070       0\n",
       "2     invasive carcinoma of no special type invasive...  8500      18\n",
       "3                                        adenocarcinoma  8140      31\n",
       "4            invasive adenocarcinoma acinar predominant  8140      31\n",
       "...                                                 ...   ...     ...\n",
       "5201                                     adenocarcinoma  8140      31\n",
       "5202                         endometrioid carcinoma nos  8380      22\n",
       "5203  melanoma in situ superficial spreading type lo...  8743      13\n",
       "5204              melanoma in situ lentigo maligna type  8720       5\n",
       "5205                              acinar adenocarcinoma  8550      37\n",
       "\n",
       "[5206 rows x 3 columns]"
      ]
     },
     "execution_count": 76,
     "metadata": {},
     "output_type": "execute_result"
    }
   ],
   "source": [
    "train = train.reset_index(drop = True)\n",
    "train"
   ]
  },
  {
   "cell_type": "code",
   "execution_count": 77,
   "metadata": {
    "colab": {
     "base_uri": "https://localhost:8080/",
     "height": 424
    },
    "executionInfo": {
     "elapsed": 78,
     "status": "ok",
     "timestamp": 1638210087073,
     "user": {
      "displayName": "Hardi Rathod",
      "photoUrl": "https://lh3.googleusercontent.com/a/default-user=s64",
      "userId": "00206677079172259404"
     },
     "user_tz": 480
    },
    "id": "sGLxRH9IUfmT",
    "outputId": "314157e5-8ffe-4919-e6f8-2fd9646fa84b"
   },
   "outputs": [
    {
     "data": {
      "text/html": [
       "<div>\n",
       "<style scoped>\n",
       "    .dataframe tbody tr th:only-of-type {\n",
       "        vertical-align: middle;\n",
       "    }\n",
       "\n",
       "    .dataframe tbody tr th {\n",
       "        vertical-align: top;\n",
       "    }\n",
       "\n",
       "    .dataframe thead th {\n",
       "        text-align: right;\n",
       "    }\n",
       "</style>\n",
       "<table border=\"1\" class=\"dataframe\">\n",
       "  <thead>\n",
       "    <tr style=\"text-align: right;\">\n",
       "      <th></th>\n",
       "      <th>Dx</th>\n",
       "      <th>Code</th>\n",
       "      <th>Code_n</th>\n",
       "    </tr>\n",
       "  </thead>\n",
       "  <tbody>\n",
       "    <tr>\n",
       "      <th>0</th>\n",
       "      <td>invasive carcinoma with mixed ductal and lobul...</td>\n",
       "      <td>8522</td>\n",
       "      <td>30</td>\n",
       "    </tr>\n",
       "    <tr>\n",
       "      <th>1</th>\n",
       "      <td>papillary carcinoma classic usual conventional</td>\n",
       "      <td>8050</td>\n",
       "      <td>42</td>\n",
       "    </tr>\n",
       "    <tr>\n",
       "      <th>2</th>\n",
       "      <td>adenocarcinoma</td>\n",
       "      <td>8140</td>\n",
       "      <td>31</td>\n",
       "    </tr>\n",
       "    <tr>\n",
       "      <th>3</th>\n",
       "      <td>adenocarcinoma</td>\n",
       "      <td>8140</td>\n",
       "      <td>31</td>\n",
       "    </tr>\n",
       "    <tr>\n",
       "      <th>4</th>\n",
       "      <td>serous carcinoma</td>\n",
       "      <td>8441</td>\n",
       "      <td>45</td>\n",
       "    </tr>\n",
       "    <tr>\n",
       "      <th>...</th>\n",
       "      <td>...</td>\n",
       "      <td>...</td>\n",
       "      <td>...</td>\n",
       "    </tr>\n",
       "    <tr>\n",
       "      <th>1297</th>\n",
       "      <td>atypical lipomatous tumor well differentiated ...</td>\n",
       "      <td>8850</td>\n",
       "      <td>7</td>\n",
       "    </tr>\n",
       "    <tr>\n",
       "      <th>1298</th>\n",
       "      <td>melanoma in situ lentigo maligna type</td>\n",
       "      <td>8720</td>\n",
       "      <td>5</td>\n",
       "    </tr>\n",
       "    <tr>\n",
       "      <th>1299</th>\n",
       "      <td>papillary urothelial carcinoma noninvasive</td>\n",
       "      <td>8130</td>\n",
       "      <td>26</td>\n",
       "    </tr>\n",
       "    <tr>\n",
       "      <th>1300</th>\n",
       "      <td>squamous cell carcinoma and variants</td>\n",
       "      <td>8070</td>\n",
       "      <td>0</td>\n",
       "    </tr>\n",
       "    <tr>\n",
       "      <th>1301</th>\n",
       "      <td>acinar adenocarcinoma</td>\n",
       "      <td>8550</td>\n",
       "      <td>37</td>\n",
       "    </tr>\n",
       "  </tbody>\n",
       "</table>\n",
       "<p>1302 rows × 3 columns</p>\n",
       "</div>"
      ],
      "text/plain": [
       "                                                     Dx  Code  Code_n\n",
       "0     invasive carcinoma with mixed ductal and lobul...  8522      30\n",
       "1        papillary carcinoma classic usual conventional  8050      42\n",
       "2                                        adenocarcinoma  8140      31\n",
       "3                                        adenocarcinoma  8140      31\n",
       "4                                      serous carcinoma  8441      45\n",
       "...                                                 ...   ...     ...\n",
       "1297  atypical lipomatous tumor well differentiated ...  8850       7\n",
       "1298              melanoma in situ lentigo maligna type  8720       5\n",
       "1299         papillary urothelial carcinoma noninvasive  8130      26\n",
       "1300               squamous cell carcinoma and variants  8070       0\n",
       "1301                              acinar adenocarcinoma  8550      37\n",
       "\n",
       "[1302 rows x 3 columns]"
      ]
     },
     "execution_count": 77,
     "metadata": {},
     "output_type": "execute_result"
    }
   ],
   "source": [
    "test = test.reset_index(drop = True)\n",
    "test"
   ]
  },
  {
   "cell_type": "code",
   "execution_count": 78,
   "metadata": {
    "colab": {
     "base_uri": "https://localhost:8080/"
    },
    "executionInfo": {
     "elapsed": 392,
     "status": "ok",
     "timestamp": 1638210087390,
     "user": {
      "displayName": "Hardi Rathod",
      "photoUrl": "https://lh3.googleusercontent.com/a/default-user=s64",
      "userId": "00206677079172259404"
     },
     "user_tz": 480
    },
    "id": "__Ow89cHVoQp",
    "outputId": "b3c60f7f-7d19-4d07-c7f0-9af5002b9cda"
   },
   "outputs": [
    {
     "name": "stdout",
     "output_type": "stream",
     "text": [
      "(1302, 34)\n",
      "tensor([  101,  6643,  8197, 24435,  2482, 21081,  2863,  4438,  5156,  7511,\n",
      "          102,     0,     0,     0,     0,     0,     0,     0,     0,     0,\n",
      "            0,     0,     0,     0,     0,     0,     0,     0,     0,     0,\n",
      "            0,     0,     0,     0])\n",
      "papillary carcinoma classic usual conventional\n"
     ]
    }
   ],
   "source": [
    "#pad everything to the same size! Set to the length of the largest input\n",
    "tokenized = test[\"Dx\"].apply((lambda x: tokenizer.encode(x, add_special_tokens=True)))\n",
    "# Set manually \n",
    "max_len = 34\n",
    "\n",
    "padded = np.array([i + [0]*(max_len-len(i)) for i in tokenized.values])\n",
    "#implement the attention mask\n",
    "attention_mask = np.where(padded != 0, 1, 0)\n",
    "print(attention_mask.shape)\n",
    "input_ids = torch.tensor(padded)\n",
    "index = 1\n",
    "print(input_ids[index])\n",
    "print(test[\"Dx\"][index])"
   ]
  },
  {
   "cell_type": "code",
   "execution_count": 79,
   "metadata": {
    "colab": {
     "base_uri": "https://localhost:8080/"
    },
    "executionInfo": {
     "elapsed": 72,
     "status": "ok",
     "timestamp": 1638210087392,
     "user": {
      "displayName": "Hardi Rathod",
      "photoUrl": "https://lh3.googleusercontent.com/a/default-user=s64",
      "userId": "00206677079172259404"
     },
     "user_tz": 480
    },
    "id": "rskJ6JOiWRaI",
    "outputId": "1953db41-90a0-4d7e-b7ed-1057c6e4e5c1"
   },
   "outputs": [
    {
     "data": {
      "text/plain": [
       "(torch.Size([1302, 34]), (1302,))"
      ]
     },
     "execution_count": 79,
     "metadata": {},
     "output_type": "execute_result"
    }
   ],
   "source": [
    "x_test = input_ids\n",
    "y_test = test['Code_n'].values\n",
    "x_test.shape, y_test.shape"
   ]
  },
  {
   "cell_type": "code",
   "execution_count": 80,
   "metadata": {
    "executionInfo": {
     "elapsed": 66,
     "status": "ok",
     "timestamp": 1638210087393,
     "user": {
      "displayName": "Hardi Rathod",
      "photoUrl": "https://lh3.googleusercontent.com/a/default-user=s64",
      "userId": "00206677079172259404"
     },
     "user_tz": 480
    },
    "id": "mFd6eSXQYhyH"
   },
   "outputs": [],
   "source": [
    "test_data = []\n",
    "for i in range(len(x_test)):\n",
    "    test_data.append([x_test[i], y_test[i]])"
   ]
  },
  {
   "cell_type": "code",
   "execution_count": 81,
   "metadata": {
    "executionInfo": {
     "elapsed": 70,
     "status": "ok",
     "timestamp": 1638210087398,
     "user": {
      "displayName": "Hardi Rathod",
      "photoUrl": "https://lh3.googleusercontent.com/a/default-user=s64",
      "userId": "00206677079172259404"
     },
     "user_tz": 480
    },
    "id": "GYJF9EthUhNx"
   },
   "outputs": [],
   "source": [
    "dfs = train"
   ]
  },
  {
   "cell_type": "markdown",
   "metadata": {
    "id": "XTojYE8AUK9E"
   },
   "source": [
    "## Upsampling"
   ]
  },
  {
   "cell_type": "code",
   "execution_count": 82,
   "metadata": {
    "colab": {
     "base_uri": "https://localhost:8080/"
    },
    "executionInfo": {
     "elapsed": 72,
     "status": "ok",
     "timestamp": 1638210087400,
     "user": {
      "displayName": "Hardi Rathod",
      "photoUrl": "https://lh3.googleusercontent.com/a/default-user=s64",
      "userId": "00206677079172259404"
     },
     "user_tz": 480
    },
    "id": "EQ5fUkWIZkh_",
    "outputId": "06c68f5e-c2a7-4d1c-d387-6ebbe329b5f1"
   },
   "outputs": [
    {
     "data": {
      "text/plain": [
       "8500    1257\n",
       "8140     663\n",
       "8550     621\n",
       "8070     274\n",
       "8120     232\n",
       "8312     197\n",
       "8050     173\n",
       "8743     160\n",
       "8441     147\n",
       "8000     144\n",
       "8380     141\n",
       "8520     137\n",
       "8480      91\n",
       "8130      82\n",
       "8720      79\n",
       "8010      71\n",
       "8936      53\n",
       "8522      53\n",
       "8260      49\n",
       "8150      45\n",
       "8240      40\n",
       "8744      38\n",
       "8721      38\n",
       "8071      36\n",
       "8340      33\n",
       "8850      28\n",
       "8742      24\n",
       "8170      22\n",
       "8072      21\n",
       "8745      19\n",
       "8317      18\n",
       "8461      16\n",
       "8230      15\n",
       "8802      15\n",
       "8575      15\n",
       "9061      14\n",
       "8858      14\n",
       "8442      13\n",
       "8890      13\n",
       "8250      13\n",
       "9070      12\n",
       "8252      12\n",
       "8335      11\n",
       "8310      11\n",
       "8020      11\n",
       "8085       9\n",
       "9071       9\n",
       "8144       9\n",
       "8510       8\n",
       "Name: Code, dtype: int64"
      ]
     },
     "execution_count": 82,
     "metadata": {},
     "output_type": "execute_result"
    }
   ],
   "source": [
    "dfs['Code'].value_counts()"
   ]
  },
  {
   "cell_type": "code",
   "execution_count": 83,
   "metadata": {
    "colab": {
     "base_uri": "https://localhost:8080/",
     "height": 424
    },
    "executionInfo": {
     "elapsed": 42,
     "status": "ok",
     "timestamp": 1638210087402,
     "user": {
      "displayName": "Hardi Rathod",
      "photoUrl": "https://lh3.googleusercontent.com/a/default-user=s64",
      "userId": "00206677079172259404"
     },
     "user_tz": 480
    },
    "id": "GU_A55VvEBXR",
    "outputId": "936ec72c-1599-44df-ea4c-d1d306fa8387"
   },
   "outputs": [
    {
     "data": {
      "text/html": [
       "<div>\n",
       "<style scoped>\n",
       "    .dataframe tbody tr th:only-of-type {\n",
       "        vertical-align: middle;\n",
       "    }\n",
       "\n",
       "    .dataframe tbody tr th {\n",
       "        vertical-align: top;\n",
       "    }\n",
       "\n",
       "    .dataframe thead th {\n",
       "        text-align: right;\n",
       "    }\n",
       "</style>\n",
       "<table border=\"1\" class=\"dataframe\">\n",
       "  <thead>\n",
       "    <tr style=\"text-align: right;\">\n",
       "      <th></th>\n",
       "      <th>Dx</th>\n",
       "      <th>Code</th>\n",
       "      <th>Code_n</th>\n",
       "    </tr>\n",
       "  </thead>\n",
       "  <tbody>\n",
       "    <tr>\n",
       "      <th>2</th>\n",
       "      <td>invasive carcinoma of no special type invasive...</td>\n",
       "      <td>8500</td>\n",
       "      <td>18</td>\n",
       "    </tr>\n",
       "    <tr>\n",
       "      <th>11</th>\n",
       "      <td>invasive carcinoma of no special type invasive...</td>\n",
       "      <td>8500</td>\n",
       "      <td>18</td>\n",
       "    </tr>\n",
       "    <tr>\n",
       "      <th>16</th>\n",
       "      <td>microinvasive carcinoma</td>\n",
       "      <td>8500</td>\n",
       "      <td>18</td>\n",
       "    </tr>\n",
       "    <tr>\n",
       "      <th>24</th>\n",
       "      <td>invasive carcinoma of no special type ductal</td>\n",
       "      <td>8500</td>\n",
       "      <td>18</td>\n",
       "    </tr>\n",
       "    <tr>\n",
       "      <th>28</th>\n",
       "      <td>invasive carcinoma of no special type invasive...</td>\n",
       "      <td>8500</td>\n",
       "      <td>18</td>\n",
       "    </tr>\n",
       "    <tr>\n",
       "      <th>...</th>\n",
       "      <td>...</td>\n",
       "      <td>...</td>\n",
       "      <td>...</td>\n",
       "    </tr>\n",
       "    <tr>\n",
       "      <th>3453</th>\n",
       "      <td>yolk sac tumor endodermal sinus tumor</td>\n",
       "      <td>9071</td>\n",
       "      <td>41</td>\n",
       "    </tr>\n",
       "    <tr>\n",
       "      <th>2345</th>\n",
       "      <td>somatically derived yolk sac tumor</td>\n",
       "      <td>9071</td>\n",
       "      <td>41</td>\n",
       "    </tr>\n",
       "    <tr>\n",
       "      <th>2434</th>\n",
       "      <td>yolk sac tumor postpubertal type specify perce...</td>\n",
       "      <td>9071</td>\n",
       "      <td>41</td>\n",
       "    </tr>\n",
       "    <tr>\n",
       "      <th>2434</th>\n",
       "      <td>yolk sac tumor postpubertal type specify perce...</td>\n",
       "      <td>9071</td>\n",
       "      <td>41</td>\n",
       "    </tr>\n",
       "    <tr>\n",
       "      <th>2345</th>\n",
       "      <td>somatically derived yolk sac tumor</td>\n",
       "      <td>9071</td>\n",
       "      <td>41</td>\n",
       "    </tr>\n",
       "  </tbody>\n",
       "</table>\n",
       "<p>61593 rows × 3 columns</p>\n",
       "</div>"
      ],
      "text/plain": [
       "                                                     Dx  Code  Code_n\n",
       "2     invasive carcinoma of no special type invasive...  8500      18\n",
       "11    invasive carcinoma of no special type invasive...  8500      18\n",
       "16                              microinvasive carcinoma  8500      18\n",
       "24         invasive carcinoma of no special type ductal  8500      18\n",
       "28    invasive carcinoma of no special type invasive...  8500      18\n",
       "...                                                 ...   ...     ...\n",
       "3453              yolk sac tumor endodermal sinus tumor  9071      41\n",
       "2345                 somatically derived yolk sac tumor  9071      41\n",
       "2434  yolk sac tumor postpubertal type specify perce...  9071      41\n",
       "2434  yolk sac tumor postpubertal type specify perce...  9071      41\n",
       "2345                 somatically derived yolk sac tumor  9071      41\n",
       "\n",
       "[61593 rows x 3 columns]"
      ]
     },
     "execution_count": 83,
     "metadata": {},
     "output_type": "execute_result"
    }
   ],
   "source": [
    "### Upsample for Class balance:\n",
    "from sklearn.utils import resample\n",
    "\n",
    "df_majority = dfs[dfs.loc[:,\"Code\"]==8500]\n",
    "max_len = len(df_majority)\n",
    "for code in codes:\n",
    "  if code != 8500:\n",
    "    df_minority = dfs[dfs.loc[:,\"Code\"]==code]\n",
    "    upsampled_minority = resample(df_minority, replace=True, n_samples=max_len)\n",
    "    df_majority = pd.concat([df_majority, upsampled_minority])\n",
    "\n",
    "df_majority"
   ]
  },
  {
   "cell_type": "code",
   "execution_count": 84,
   "metadata": {
    "colab": {
     "base_uri": "https://localhost:8080/"
    },
    "executionInfo": {
     "elapsed": 42,
     "status": "ok",
     "timestamp": 1638210087403,
     "user": {
      "displayName": "Hardi Rathod",
      "photoUrl": "https://lh3.googleusercontent.com/a/default-user=s64",
      "userId": "00206677079172259404"
     },
     "user_tz": 480
    },
    "id": "qZi5L0g9FXap",
    "outputId": "3c9c7db9-a962-4794-96e7-7bc3cd4e835e"
   },
   "outputs": [
    {
     "data": {
      "text/plain": [
       "8340    1257\n",
       "8050    1257\n",
       "8310    1257\n",
       "8144    1257\n",
       "8240    1257\n",
       "8720    1257\n",
       "8721    1257\n",
       "8150    1257\n",
       "8850    1257\n",
       "Name: Code, dtype: int64"
      ]
     },
     "execution_count": 84,
     "metadata": {},
     "output_type": "execute_result"
    }
   ],
   "source": [
    "#Proof of upsample working:\n",
    "df_majority[\"Code\"].value_counts()[1:10]"
   ]
  },
  {
   "cell_type": "code",
   "execution_count": 85,
   "metadata": {
    "executionInfo": {
     "elapsed": 38,
     "status": "ok",
     "timestamp": 1638210087405,
     "user": {
      "displayName": "Hardi Rathod",
      "photoUrl": "https://lh3.googleusercontent.com/a/default-user=s64",
      "userId": "00206677079172259404"
     },
     "user_tz": 480
    },
    "id": "Z6lDYMmPATsy"
   },
   "outputs": [],
   "source": [
    "### How many Codes do we want??? 1) 117 2) grouped version"
   ]
  },
  {
   "cell_type": "code",
   "execution_count": 86,
   "metadata": {
    "executionInfo": {
     "elapsed": 38,
     "status": "ok",
     "timestamp": 1638210087406,
     "user": {
      "displayName": "Hardi Rathod",
      "photoUrl": "https://lh3.googleusercontent.com/a/default-user=s64",
      "userId": "00206677079172259404"
     },
     "user_tz": 480
    },
    "id": "Jb60aC85GGTm"
   },
   "outputs": [],
   "source": [
    "df_upsampled = df_majority.copy()"
   ]
  },
  {
   "cell_type": "code",
   "execution_count": 87,
   "metadata": {
    "colab": {
     "base_uri": "https://localhost:8080/",
     "height": 53
    },
    "executionInfo": {
     "elapsed": 38,
     "status": "ok",
     "timestamp": 1638210087407,
     "user": {
      "displayName": "Hardi Rathod",
      "photoUrl": "https://lh3.googleusercontent.com/a/default-user=s64",
      "userId": "00206677079172259404"
     },
     "user_tz": 480
    },
    "id": "bWBBg1qRG4D9",
    "outputId": "6dbf7061-7d43-48cf-a596-9e3b95ad42c2"
   },
   "outputs": [
    {
     "data": {
      "text/plain": [
       "'\\n#remove non-alphabetical characters, lower case, puctuation, extra spaces. \\ndf_upsampled[\"Dx\"] = df_upsampled[\"Dx\"].str.lower()\\ndf_upsampled[\"Dx\"] = df_upsampled[\"Dx\"].replace(r\\'[^a-z|\\\\s]\\', \\'\\', regex=True)\\ndf_upsampled[\"Dx\"] = df_upsampled[\"Dx\"].replace(r\\'\\\\s\\\\s+\\', \\' \\', regex=True)\\n'"
      ]
     },
     "execution_count": 87,
     "metadata": {},
     "output_type": "execute_result"
    }
   ],
   "source": [
    "'''\n",
    "#remove non-alphabetical characters, lower case, puctuation, extra spaces. \n",
    "df_upsampled[\"Dx\"] = df_upsampled[\"Dx\"].str.lower()\n",
    "df_upsampled[\"Dx\"] = df_upsampled[\"Dx\"].replace(r'[^a-z|\\s]', '', regex=True)\n",
    "df_upsampled[\"Dx\"] = df_upsampled[\"Dx\"].replace(r'\\s\\s+', ' ', regex=True)\n",
    "'''"
   ]
  },
  {
   "cell_type": "code",
   "execution_count": 88,
   "metadata": {
    "colab": {
     "base_uri": "https://localhost:8080/"
    },
    "executionInfo": {
     "elapsed": 38,
     "status": "ok",
     "timestamp": 1638210087408,
     "user": {
      "displayName": "Hardi Rathod",
      "photoUrl": "https://lh3.googleusercontent.com/a/default-user=s64",
      "userId": "00206677079172259404"
     },
     "user_tz": 480
    },
    "id": "3E5ZnenoHXIy",
    "outputId": "eaf3f097-470e-4a49-8534-333ce6dd2c98"
   },
   "outputs": [
    {
     "data": {
      "text/plain": [
       "2       invasive carcinoma of no special type invasive...\n",
       "11      invasive carcinoma of no special type invasive...\n",
       "16                                microinvasive carcinoma\n",
       "24           invasive carcinoma of no special type ductal\n",
       "28      invasive carcinoma of no special type invasive...\n",
       "                              ...                        \n",
       "3453                yolk sac tumor endodermal sinus tumor\n",
       "2345                   somatically derived yolk sac tumor\n",
       "2434    yolk sac tumor postpubertal type specify perce...\n",
       "2434    yolk sac tumor postpubertal type specify perce...\n",
       "2345                   somatically derived yolk sac tumor\n",
       "Name: Dx, Length: 61593, dtype: object"
      ]
     },
     "execution_count": 88,
     "metadata": {},
     "output_type": "execute_result"
    }
   ],
   "source": [
    "df_upsampled[\"Dx\"]"
   ]
  },
  {
   "cell_type": "code",
   "execution_count": 89,
   "metadata": {
    "colab": {
     "base_uri": "https://localhost:8080/",
     "height": 206
    },
    "executionInfo": {
     "elapsed": 35,
     "status": "ok",
     "timestamp": 1638210087409,
     "user": {
      "displayName": "Hardi Rathod",
      "photoUrl": "https://lh3.googleusercontent.com/a/default-user=s64",
      "userId": "00206677079172259404"
     },
     "user_tz": 480
    },
    "id": "Ah93XTTQH8la",
    "outputId": "df8042e0-1532-4f16-d997-dad8071624e9"
   },
   "outputs": [
    {
     "data": {
      "text/html": [
       "<div>\n",
       "<style scoped>\n",
       "    .dataframe tbody tr th:only-of-type {\n",
       "        vertical-align: middle;\n",
       "    }\n",
       "\n",
       "    .dataframe tbody tr th {\n",
       "        vertical-align: top;\n",
       "    }\n",
       "\n",
       "    .dataframe thead th {\n",
       "        text-align: right;\n",
       "    }\n",
       "</style>\n",
       "<table border=\"1\" class=\"dataframe\">\n",
       "  <thead>\n",
       "    <tr style=\"text-align: right;\">\n",
       "      <th></th>\n",
       "      <th>Dx</th>\n",
       "      <th>Code</th>\n",
       "      <th>Code_n</th>\n",
       "    </tr>\n",
       "  </thead>\n",
       "  <tbody>\n",
       "    <tr>\n",
       "      <th>2</th>\n",
       "      <td>invasive carcinoma of no special type invasive...</td>\n",
       "      <td>8500</td>\n",
       "      <td>18</td>\n",
       "    </tr>\n",
       "    <tr>\n",
       "      <th>11</th>\n",
       "      <td>invasive carcinoma of no special type invasive...</td>\n",
       "      <td>8500</td>\n",
       "      <td>18</td>\n",
       "    </tr>\n",
       "    <tr>\n",
       "      <th>16</th>\n",
       "      <td>microinvasive carcinoma</td>\n",
       "      <td>8500</td>\n",
       "      <td>18</td>\n",
       "    </tr>\n",
       "    <tr>\n",
       "      <th>24</th>\n",
       "      <td>invasive carcinoma of no special type ductal</td>\n",
       "      <td>8500</td>\n",
       "      <td>18</td>\n",
       "    </tr>\n",
       "    <tr>\n",
       "      <th>28</th>\n",
       "      <td>invasive carcinoma of no special type invasive...</td>\n",
       "      <td>8500</td>\n",
       "      <td>18</td>\n",
       "    </tr>\n",
       "  </tbody>\n",
       "</table>\n",
       "</div>"
      ],
      "text/plain": [
       "                                                   Dx  Code  Code_n\n",
       "2   invasive carcinoma of no special type invasive...  8500      18\n",
       "11  invasive carcinoma of no special type invasive...  8500      18\n",
       "16                            microinvasive carcinoma  8500      18\n",
       "24       invasive carcinoma of no special type ductal  8500      18\n",
       "28  invasive carcinoma of no special type invasive...  8500      18"
      ]
     },
     "execution_count": 89,
     "metadata": {},
     "output_type": "execute_result"
    }
   ],
   "source": [
    "df_upsampled.head()"
   ]
  },
  {
   "cell_type": "code",
   "execution_count": 90,
   "metadata": {
    "colab": {
     "base_uri": "https://localhost:8080/",
     "height": 420
    },
    "executionInfo": {
     "elapsed": 585,
     "status": "ok",
     "timestamp": 1638210087961,
     "user": {
      "displayName": "Hardi Rathod",
      "photoUrl": "https://lh3.googleusercontent.com/a/default-user=s64",
      "userId": "00206677079172259404"
     },
     "user_tz": 480
    },
    "id": "MQbMp0WgZ-D-",
    "outputId": "23b09839-c15d-4524-ee47-881d80c5e7ee"
   },
   "outputs": [
    {
     "data": {
      "image/png": "[encoded data removed]",
      "text/plain": [
       "<Figure size 720x432 with 1 Axes>"
      ]
     },
     "metadata": {
      "needs_background": "light"
     },
     "output_type": "display_data"
    }
   ],
   "source": [
    "import matplotlib.pyplot as plt\n",
    "fig, ax = plt.subplots(figsize=(10,6))\n",
    "df_upsampled['Code'].value_counts().plot(ax=ax, kind='bar')\n",
    "ax.set_xlabel(\"ICD_Code\")\n",
    "ax.set_ylabel(\"Value Counts\")\n",
    "ax.set_title(\"Value Counts Across ICD Codes\");"
   ]
  },
  {
   "cell_type": "code",
   "execution_count": 91,
   "metadata": {
    "colab": {
     "base_uri": "https://localhost:8080/",
     "height": 53
    },
    "executionInfo": {
     "elapsed": 20,
     "status": "ok",
     "timestamp": 1638210087965,
     "user": {
      "displayName": "Hardi Rathod",
      "photoUrl": "https://lh3.googleusercontent.com/a/default-user=s64",
      "userId": "00206677079172259404"
     },
     "user_tz": 480
    },
    "id": "ce6332f8",
    "outputId": "05010ed8-cbb1-4b57-efa4-d050bff14d0c"
   },
   "outputs": [
    {
     "data": {
      "text/plain": [
       "\"\\n#Load the pretrained bert model\\nmodel_class, tokenizer_class, pretrained_weights = (ppb.BertModel, ppb.BertTokenizer, 'bert-base-uncased')\\n\\n# Load pretrained model/tokenizer\\ntokenizer = tokenizer_class.from_pretrained(pretrained_weights)\\nmodel = model_class.from_pretrained(pretrained_weights)\\n\""
      ]
     },
     "execution_count": 91,
     "metadata": {},
     "output_type": "execute_result"
    }
   ],
   "source": [
    "'''\n",
    "#Load the pretrained bert model\n",
    "model_class, tokenizer_class, pretrained_weights = (ppb.BertModel, ppb.BertTokenizer, 'bert-base-uncased')\n",
    "\n",
    "# Load pretrained model/tokenizer\n",
    "tokenizer = tokenizer_class.from_pretrained(pretrained_weights)\n",
    "model = model_class.from_pretrained(pretrained_weights)\n",
    "'''"
   ]
  },
  {
   "cell_type": "code",
   "execution_count": 92,
   "metadata": {
    "executionInfo": {
     "elapsed": 18,
     "status": "ok",
     "timestamp": 1638210087966,
     "user": {
      "displayName": "Hardi Rathod",
      "photoUrl": "https://lh3.googleusercontent.com/a/default-user=s64",
      "userId": "00206677079172259404"
     },
     "user_tz": 480
    },
    "id": "-6UlA-rBUeXh"
   },
   "outputs": [],
   "source": [
    "#df_upsampled.iloc[1392]"
   ]
  },
  {
   "cell_type": "code",
   "execution_count": 93,
   "metadata": {
    "executionInfo": {
     "elapsed": 21545,
     "status": "ok",
     "timestamp": 1638210109493,
     "user": {
      "displayName": "Hardi Rathod",
      "photoUrl": "https://lh3.googleusercontent.com/a/default-user=s64",
      "userId": "00206677079172259404"
     },
     "user_tz": 480
    },
    "id": "5ae72936"
   },
   "outputs": [],
   "source": [
    "tokenized = df_upsampled[\"Dx\"].apply((lambda x: tokenizer.encode(x, add_special_tokens=True)))"
   ]
  },
  {
   "cell_type": "code",
   "execution_count": 94,
   "metadata": {
    "colab": {
     "base_uri": "https://localhost:8080/"
    },
    "executionInfo": {
     "elapsed": 147,
     "status": "ok",
     "timestamp": 1638210109504,
     "user": {
      "displayName": "Hardi Rathod",
      "photoUrl": "https://lh3.googleusercontent.com/a/default-user=s64",
      "userId": "00206677079172259404"
     },
     "user_tz": 480
    },
    "id": "BxtwWtreWSFe",
    "outputId": "4b043749-f8e5-4c2b-8d31-30d7f646fef1"
   },
   "outputs": [
    {
     "data": {
      "text/plain": [
       "[101, 13866, 13656, 2062, 2084, 4642, 1999, 4602, 9812, 102]"
      ]
     },
     "execution_count": 94,
     "metadata": {},
     "output_type": "execute_result"
    }
   ],
   "source": [
    "tokenized.iloc[1392]"
   ]
  },
  {
   "cell_type": "code",
   "execution_count": 95,
   "metadata": {
    "executionInfo": {
     "elapsed": 103,
     "status": "ok",
     "timestamp": 1638210109506,
     "user": {
      "displayName": "Hardi Rathod",
      "photoUrl": "https://lh3.googleusercontent.com/a/default-user=s64",
      "userId": "00206677079172259404"
     },
     "user_tz": 480
    },
    "id": "25e953e5"
   },
   "outputs": [],
   "source": [
    "#pad everything to the same size! Set to the length of the largest input\n",
    "max_len = 0\n",
    "for i in tokenized.values:\n",
    "    if len(i) > max_len:\n",
    "        max_len = len(i)\n",
    "\n",
    "padded = np.array([i + [0]*(max_len-len(i)) for i in tokenized.values])"
   ]
  },
  {
   "cell_type": "code",
   "execution_count": 96,
   "metadata": {
    "colab": {
     "base_uri": "https://localhost:8080/"
    },
    "executionInfo": {
     "elapsed": 102,
     "status": "ok",
     "timestamp": 1638210109508,
     "user": {
      "displayName": "Hardi Rathod",
      "photoUrl": "https://lh3.googleusercontent.com/a/default-user=s64",
      "userId": "00206677079172259404"
     },
     "user_tz": 480
    },
    "id": "6c62616b",
    "outputId": "903a284c-5493-4c07-8668-49f23454f84c"
   },
   "outputs": [
    {
     "data": {
      "text/plain": [
       "(61593, 34)"
      ]
     },
     "execution_count": 96,
     "metadata": {},
     "output_type": "execute_result"
    }
   ],
   "source": [
    "#implement the attention mask\n",
    "attention_mask = np.where(padded != 0, 1, 0)\n",
    "attention_mask.shape"
   ]
  },
  {
   "cell_type": "code",
   "execution_count": 97,
   "metadata": {
    "executionInfo": {
     "elapsed": 1042,
     "status": "ok",
     "timestamp": 1638210110472,
     "user": {
      "displayName": "Hardi Rathod",
      "photoUrl": "https://lh3.googleusercontent.com/a/default-user=s64",
      "userId": "00206677079172259404"
     },
     "user_tz": 480
    },
    "id": "77cb29eb"
   },
   "outputs": [],
   "source": [
    "input_ids = torch.tensor(padded)"
   ]
  },
  {
   "cell_type": "code",
   "execution_count": 98,
   "metadata": {
    "colab": {
     "base_uri": "https://localhost:8080/"
    },
    "executionInfo": {
     "elapsed": 521,
     "status": "ok",
     "timestamp": 1638210110476,
     "user": {
      "displayName": "Hardi Rathod",
      "photoUrl": "https://lh3.googleusercontent.com/a/default-user=s64",
      "userId": "00206677079172259404"
     },
     "user_tz": 480
    },
    "id": "b84b6dc9",
    "outputId": "cb60498c-39fd-4634-c911-8c2257831119"
   },
   "outputs": [
    {
     "name": "stdout",
     "output_type": "stream",
     "text": [
      "61593\n",
      "61593\n"
     ]
    }
   ],
   "source": [
    "#input_ids is the embedding of the sentence\n",
    "print(len(input_ids))\n",
    "print(len(df_upsampled))"
   ]
  },
  {
   "cell_type": "code",
   "execution_count": 99,
   "metadata": {
    "colab": {
     "base_uri": "https://localhost:8080/"
    },
    "executionInfo": {
     "elapsed": 70,
     "status": "ok",
     "timestamp": 1638210110481,
     "user": {
      "displayName": "Hardi Rathod",
      "photoUrl": "https://lh3.googleusercontent.com/a/default-user=s64",
      "userId": "00206677079172259404"
     },
     "user_tz": 480
    },
    "id": "535b9f1d",
    "outputId": "fd71a75c-399c-4460-9584-514c06a3c117"
   },
   "outputs": [
    {
     "name": "stdout",
     "output_type": "stream",
     "text": [
      "tensor([  101, 17503,  2482, 21081,  2863,  1997,  2053,  2569,  2828, 17503,\n",
      "        23245,  2389,  2482, 21081,  2863,  2025,  4728,   102,     0,     0,\n",
      "            0,     0,     0,     0,     0,     0,     0,     0,     0,     0,\n",
      "            0,     0,     0,     0])\n",
      "1    squamous cell carcinoma usual type\n",
      "1    squamous cell carcinoma usual type\n",
      "1    squamous cell carcinoma usual type\n",
      "1    squamous cell carcinoma usual type\n",
      "1    squamous cell carcinoma usual type\n",
      "1    squamous cell carcinoma usual type\n",
      "Name: Dx, dtype: object\n"
     ]
    }
   ],
   "source": [
    "index = 1\n",
    "print(input_ids[index])\n",
    "print(df_upsampled[\"Dx\"][index])"
   ]
  },
  {
   "cell_type": "code",
   "execution_count": 100,
   "metadata": {
    "executionInfo": {
     "elapsed": 60,
     "status": "ok",
     "timestamp": 1638210110483,
     "user": {
      "displayName": "Hardi Rathod",
      "photoUrl": "https://lh3.googleusercontent.com/a/default-user=s64",
      "userId": "00206677079172259404"
     },
     "user_tz": 480
    },
    "id": "4Jk4y5nwZb9f"
   },
   "outputs": [],
   "source": [
    "### Have to encode 0-9 each of the ICD Codes: "
   ]
  },
  {
   "cell_type": "code",
   "execution_count": 101,
   "metadata": {
    "colab": {
     "base_uri": "https://localhost:8080/"
    },
    "executionInfo": {
     "elapsed": 60,
     "status": "ok",
     "timestamp": 1638210110485,
     "user": {
      "displayName": "Hardi Rathod",
      "photoUrl": "https://lh3.googleusercontent.com/a/default-user=s64",
      "userId": "00206677079172259404"
     },
     "user_tz": 480
    },
    "id": "nR2LTXq7ae06",
    "outputId": "3b948b92-ea38-4885-b38d-939389e8f50b"
   },
   "outputs": [
    {
     "data": {
      "text/plain": [
       "array([18, 18, 18, ..., 41, 41, 41])"
      ]
     },
     "execution_count": 101,
     "metadata": {},
     "output_type": "execute_result"
    }
   ],
   "source": [
    "#vectorize the Y keys to corresponding values:\n",
    "y_train = df_upsampled[\"Code\"].values\n",
    "y_train = np.vectorize(icd_codes_d.get)(y_train)\n",
    "y_train"
   ]
  },
  {
   "cell_type": "code",
   "execution_count": 102,
   "metadata": {
    "executionInfo": {
     "elapsed": 54,
     "status": "ok",
     "timestamp": 1638210110487,
     "user": {
      "displayName": "Hardi Rathod",
      "photoUrl": "https://lh3.googleusercontent.com/a/default-user=s64",
      "userId": "00206677079172259404"
     },
     "user_tz": 480
    },
    "id": "nzgQN-W9Mu-y"
   },
   "outputs": [],
   "source": [
    "# train, dev, test: "
   ]
  },
  {
   "cell_type": "code",
   "execution_count": 103,
   "metadata": {
    "executionInfo": {
     "elapsed": 54,
     "status": "ok",
     "timestamp": 1638210110488,
     "user": {
      "displayName": "Hardi Rathod",
      "photoUrl": "https://lh3.googleusercontent.com/a/default-user=s64",
      "userId": "00206677079172259404"
     },
     "user_tz": 480
    },
    "id": "Q4lagiQCblrf"
   },
   "outputs": [],
   "source": [
    "# train-test split:\n",
    "test_size = int(np.floor(len(y_train)*.25))\n",
    "rand_test_ints = np.random.randint(low=0, high=len(y_train), size=test_size)\n",
    "\n",
    "y_dev = y_train[rand_test_ints]\n",
    "y_train = np.delete(y_train, rand_test_ints, axis=0)\n",
    "\n",
    "x_dev = input_ids[rand_test_ints]\n",
    "x_train = np.delete(input_ids, rand_test_ints, axis=0)"
   ]
  },
  {
   "cell_type": "code",
   "execution_count": 104,
   "metadata": {
    "colab": {
     "base_uri": "https://localhost:8080/"
    },
    "executionInfo": {
     "elapsed": 55,
     "status": "ok",
     "timestamp": 1638210110490,
     "user": {
      "displayName": "Hardi Rathod",
      "photoUrl": "https://lh3.googleusercontent.com/a/default-user=s64",
      "userId": "00206677079172259404"
     },
     "user_tz": 480
    },
    "id": "r0QubjyjciPD",
    "outputId": "52f15875-1506-4a46-cd95-5bc1d7104b24"
   },
   "outputs": [
    {
     "data": {
      "text/plain": [
       "((47922,), (15398,))"
      ]
     },
     "execution_count": 104,
     "metadata": {},
     "output_type": "execute_result"
    }
   ],
   "source": [
    "y_train.shape, y_dev.shape"
   ]
  },
  {
   "cell_type": "code",
   "execution_count": 105,
   "metadata": {
    "executionInfo": {
     "elapsed": 411,
     "status": "ok",
     "timestamp": 1638210110861,
     "user": {
      "displayName": "Hardi Rathod",
      "photoUrl": "https://lh3.googleusercontent.com/a/default-user=s64",
      "userId": "00206677079172259404"
     },
     "user_tz": 480
    },
    "id": "DLMSLPGsbFMM"
   },
   "outputs": [],
   "source": [
    "#Format X, Y for input into NN: (For Dataloader)\n",
    "train_data = []\n",
    "for i in range(len(x_train)):\n",
    "    train_data.append([x_train[i], y_train[i]])\n",
    "    \n",
    "dev_data = []\n",
    "for i in range(len(x_dev)):\n",
    "    dev_data.append([x_dev[i], y_dev[i]])"
   ]
  },
  {
   "cell_type": "code",
   "execution_count": 106,
   "metadata": {
    "colab": {
     "base_uri": "https://localhost:8080/"
    },
    "executionInfo": {
     "elapsed": 113,
     "status": "ok",
     "timestamp": 1638210110879,
     "user": {
      "displayName": "Hardi Rathod",
      "photoUrl": "https://lh3.googleusercontent.com/a/default-user=s64",
      "userId": "00206677079172259404"
     },
     "user_tz": 480
    },
    "id": "-5z8Je_1dDrt",
    "outputId": "82a722f5-3451-422f-e230-ac9de3538ece"
   },
   "outputs": [
    {
     "data": {
      "text/plain": [
       "torch.Size([15398, 34])"
      ]
     },
     "execution_count": 106,
     "metadata": {},
     "output_type": "execute_result"
    }
   ],
   "source": [
    "x_dev.shape"
   ]
  },
  {
   "cell_type": "markdown",
   "metadata": {
    "id": "d3151444"
   },
   "source": [
    "# Classifying"
   ]
  },
  {
   "cell_type": "code",
   "execution_count": 107,
   "metadata": {
    "executionInfo": {
     "elapsed": 65,
     "status": "ok",
     "timestamp": 1638210110881,
     "user": {
      "displayName": "Hardi Rathod",
      "photoUrl": "https://lh3.googleusercontent.com/a/default-user=s64",
      "userId": "00206677079172259404"
     },
     "user_tz": 480
    },
    "id": "4740f2c9"
   },
   "outputs": [],
   "source": [
    "import torch\n",
    "import torch.nn.functional as F\n",
    "from torch.utils.data import DataLoader\n",
    "from torch.utils.data import TensorDataset\n",
    "from torch import nn"
   ]
  },
  {
   "cell_type": "code",
   "execution_count": 108,
   "metadata": {
    "executionInfo": {
     "elapsed": 68,
     "status": "ok",
     "timestamp": 1638210110885,
     "user": {
      "displayName": "Hardi Rathod",
      "photoUrl": "https://lh3.googleusercontent.com/a/default-user=s64",
      "userId": "00206677079172259404"
     },
     "user_tz": 480
    },
    "id": "ZYja6zQSF6-S"
   },
   "outputs": [],
   "source": [
    "class MLP(nn.Module):\n",
    "\n",
    "    def __init__(self):\n",
    "        super().__init__()\n",
    "\n",
    "        input_dim = 120\n",
    "        hidden_1 = 50\n",
    "        hidden_2 = 10\n",
    "        \n",
    "        self.fc1 = nn.Linear(input_dim, hidden_1)\n",
    "        self.fc2 = nn.Linear(hidden_1, hidden_2)\n",
    "        self.fc3 = nn.Linear(hidden_2, 10)\n",
    "        self.dropout = nn.Dropout(0.2)\n",
    "\n",
    "    def forward(self, x):\n",
    "        x = x.view(-1, 120)\n",
    "        x = F.relu(self.fc1(x))\n",
    "        x = self.dropout(x)\n",
    "        x = F.relu(self.fc2(x))\n",
    "        x = self.dropout(x)\n",
    "        x = self.fc3(x)\n",
    "        return x"
   ]
  },
  {
   "cell_type": "code",
   "execution_count": 109,
   "metadata": {
    "executionInfo": {
     "elapsed": 629,
     "status": "ok",
     "timestamp": 1638211058160,
     "user": {
      "displayName": "Hardi Rathod",
      "photoUrl": "https://lh3.googleusercontent.com/a/default-user=s64",
      "userId": "00206677079172259404"
     },
     "user_tz": 480
    },
    "id": "hSPzDC3JYZrA"
   },
   "outputs": [],
   "source": [
    "class BLSTM(nn.Module):\n",
    "    \n",
    "    def __init__(self):\n",
    "        super().__init__()\n",
    "        \n",
    "        lstm_hidden_dim = 256\n",
    "        lstm_num_layers = 1\n",
    "        linear_output_dim =128\n",
    "        output_dim = 10\n",
    "        \n",
    "        self.lstm = nn.LSTM(input_size=34, hidden_size=256,\n",
    "                          num_layers=1, batch_first=True, bidirectional=True)\n",
    "        self.dropout = nn.Dropout(0.33)\n",
    "        self.linear1 = nn.Linear(512, 128)\n",
    "        self.elu = nn.ELU()\n",
    "        self.linear2 = nn.Linear(128, 49)\n",
    "        \n",
    "        \n",
    "    def forward(self, inputs):\n",
    "        lstm_out, self.hidden = self.lstm(inputs.view(len(inputs), 1, -1))\n",
    "        lstm_out_dropped = self.dropout(lstm_out)\n",
    "        out = self.linear1(lstm_out_dropped.view(len(inputs), -1))\n",
    "        elu_out = self.elu(out)\n",
    "        l2_out = self.linear2(elu_out)\n",
    "        log_probs = F.log_softmax(l2_out, dim=1)\n",
    "        return log_probs"
   ]
  },
  {
   "cell_type": "code",
   "execution_count": 110,
   "metadata": {
    "colab": {
     "base_uri": "https://localhost:8080/"
    },
    "executionInfo": {
     "elapsed": 17,
     "status": "ok",
     "timestamp": 1638211106808,
     "user": {
      "displayName": "Hardi Rathod",
      "photoUrl": "https://lh3.googleusercontent.com/a/default-user=s64",
      "userId": "00206677079172259404"
     },
     "user_tz": 480
    },
    "id": "8QSImaGP_W8s",
    "outputId": "ceac8efc-7195-49c6-df62-e2a045c33d2b"
   },
   "outputs": [
    {
     "data": {
      "text/plain": [
       "47922"
      ]
     },
     "execution_count": 110,
     "metadata": {},
     "output_type": "execute_result"
    }
   ],
   "source": [
    "len(train_data)"
   ]
  },
  {
   "cell_type": "code",
   "execution_count": 111,
   "metadata": {
    "colab": {
     "base_uri": "https://localhost:8080/"
    },
    "executionInfo": {
     "elapsed": 12,
     "status": "ok",
     "timestamp": 1638211125577,
     "user": {
      "displayName": "Hardi Rathod",
      "photoUrl": "https://lh3.googleusercontent.com/a/default-user=s64",
      "userId": "00206677079172259404"
     },
     "user_tz": 480
    },
    "id": "QuGmwehB_cky",
    "outputId": "5771ba46-2b8d-4023-eefa-37a1b691171f"
   },
   "outputs": [
    {
     "data": {
      "text/plain": [
       "(15398, 1302)"
      ]
     },
     "execution_count": 111,
     "metadata": {},
     "output_type": "execute_result"
    }
   ],
   "source": [
    "len(dev_data), len(test_data)"
   ]
  },
  {
   "cell_type": "code",
   "execution_count": null,
   "metadata": {
    "id": "0X7Jf3wM_hKu"
   },
   "outputs": [],
   "source": []
  },
  {
   "cell_type": "code",
   "execution_count": 112,
   "metadata": {
    "colab": {
     "base_uri": "https://localhost:8080/"
    },
    "executionInfo": {
     "elapsed": 331419,
     "status": "ok",
     "timestamp": 1638211480206,
     "user": {
      "displayName": "Hardi Rathod",
      "photoUrl": "https://lh3.googleusercontent.com/a/default-user=s64",
      "userId": "00206677079172259404"
     },
     "user_tz": 480
    },
    "id": "RPHMAgp8ZXkB",
    "outputId": "65a6245a-72ef-41b7-affd-7892e5d99570"
   },
   "outputs": [
    {
     "name": "stdout",
     "output_type": "stream",
     "text": [
      "Epoch-0 lr: 0.001\n",
      "Epoch: 1 \tTraining Loss: 3.013024 \tTest Loss: 2.608394\n",
      "Epoch-1 lr: 0.001\n",
      "Epoch: 2 \tTraining Loss: 1.639790 \tTest Loss: 1.583348\n",
      "Epoch-2 lr: 0.001\n",
      "Epoch: 3 \tTraining Loss: 0.883587 \tTest Loss: 1.021511\n",
      "Epoch-3 lr: 0.001\n",
      "Epoch: 4 \tTraining Loss: 0.576519 \tTest Loss: 0.716939\n",
      "Epoch-4 lr: 0.001\n",
      "Epoch: 5 \tTraining Loss: 0.426901 \tTest Loss: 0.551203\n",
      "Epoch-5 lr: 0.001\n",
      "Epoch: 6 \tTraining Loss: 0.339306 \tTest Loss: 0.432168\n",
      "Epoch-6 lr: 0.001\n",
      "Epoch: 7 \tTraining Loss: 0.279916 \tTest Loss: 0.354717\n",
      "Epoch-7 lr: 0.001\n",
      "Epoch: 8 \tTraining Loss: 0.237744 \tTest Loss: 0.296048\n",
      "Epoch-8 lr: 0.001\n",
      "Epoch: 9 \tTraining Loss: 0.202993 \tTest Loss: 0.252656\n",
      "Epoch-9 lr: 0.001\n",
      "Epoch: 10 \tTraining Loss: 0.178659 \tTest Loss: 0.218593\n",
      "Epoch-10 lr: 0.001\n",
      "Epoch: 11 \tTraining Loss: 0.158452 \tTest Loss: 0.191776\n",
      "Epoch-11 lr: 0.001\n",
      "Epoch: 12 \tTraining Loss: 0.142382 \tTest Loss: 0.168698\n",
      "Epoch-12 lr: 0.001\n",
      "Epoch: 13 \tTraining Loss: 0.128126 \tTest Loss: 0.152889\n",
      "Epoch-13 lr: 0.001\n",
      "Epoch: 14 \tTraining Loss: 0.118025 \tTest Loss: 0.138338\n",
      "Epoch-14 lr: 0.001\n",
      "Epoch: 15 \tTraining Loss: 0.109040 \tTest Loss: 0.125962\n",
      "Epoch-15 lr: 0.001\n",
      "Epoch: 16 \tTraining Loss: 0.101688 \tTest Loss: 0.115365\n",
      "Epoch-16 lr: 0.001\n",
      "Epoch: 17 \tTraining Loss: 0.094845 \tTest Loss: 0.109177\n",
      "Epoch-17 lr: 0.001\n",
      "Epoch: 18 \tTraining Loss: 0.089042 \tTest Loss: 0.103320\n",
      "Epoch-18 lr: 0.001\n",
      "Epoch: 19 \tTraining Loss: 0.087376 \tTest Loss: 0.097633\n",
      "Epoch-19 lr: 0.001\n",
      "Epoch: 20 \tTraining Loss: 0.081727 \tTest Loss: 0.092788\n",
      "All done.\n"
     ]
    }
   ],
   "source": [
    "n_epochs = 20\n",
    "trainloader = torch.utils.data.DataLoader(train_data, batch_size=32, num_workers=1)\n",
    "devloader = torch.utils.data.DataLoader(dev_data, batch_size=32, num_workers=1)\n",
    "blstm = BLSTM()\n",
    "criterion = nn.CrossEntropyLoss(ignore_index=-1, size_average=True) #therefore no need for softmax\n",
    "optimizer = torch.optim.SGD(blstm.parameters(), lr=0.001, momentum=0.7)\n",
    "#scheduler = torch.optim.lr_scheduler.StepLR(optimizer, step_size=3, gamma=0.5)\n",
    "\n",
    "test_loss_min = 10000\n",
    "\n",
    "for epoch in range(n_epochs):\n",
    "    #scheduler.step()\n",
    "    print('Epoch-{0} lr: {1}'.format(epoch, optimizer.param_groups[0]['lr']))\n",
    "    train_loss = 0\n",
    "    test_loss = 0\n",
    "    \n",
    "    blstm.train()\n",
    "    for data, target in trainloader:\n",
    "        # Zero the gradients\n",
    "        optimizer.zero_grad()\n",
    "\n",
    "        # Perform forward pass\n",
    "#         print(data)\n",
    "#         print(target)\n",
    "        #print(torch.cat(data,dim=0).reshape(1,400,316))\n",
    "        #print(torch.cat(data,dim=0).size(0)) I think the problem is here.\n",
    "        #print(data)\n",
    "        output = blstm(data.float())\n",
    "\n",
    "        # Compute loss\n",
    "        loss = criterion(output, target)\n",
    "\n",
    "        # Perform backward pass\n",
    "        loss.backward()\n",
    "\n",
    "        # Perform optimization\n",
    "        optimizer.step()\n",
    "\n",
    "                # Print statistics\n",
    "        #train_loss += loss.item()*torch.cat(data,dim=0).size(0)\n",
    "        train_loss += loss.item()*data.size(0)\n",
    "        \n",
    "    with torch.no_grad():\n",
    "        for data, target in devloader:\n",
    "            output = blstm(data.float())\n",
    "            loss = criterion(output, target)\n",
    "#             test_loss += loss.item()*torch.cat(data,dim=0).size(0)\n",
    "            test_loss += loss.item()*data.size(0)\n",
    "    train_loss = train_loss/len(trainloader.dataset)\n",
    "    test_loss = test_loss/len(devloader.dataset)\n",
    "    \n",
    "    print('Epoch: {} \\tTraining Loss: {:.6f} \\tTest Loss: {:.6f}'.format(\n",
    "        epoch+1, \n",
    "        train_loss,\n",
    "        test_loss\n",
    "        ))\n",
    "    \n",
    "    if test_loss <= test_loss_min:\n",
    "        torch.save(blstm.state_dict(), 'blstm.pt')\n",
    "        test_loss_min = test_loss\n",
    "\n",
    "  # Process is complete.\n",
    "print('All done.')\n"
   ]
  },
  {
   "cell_type": "code",
   "execution_count": 54,
   "metadata": {
    "executionInfo": {
     "elapsed": 554,
     "status": "ok",
     "timestamp": 1638211817266,
     "user": {
      "displayName": "Hardi Rathod",
      "photoUrl": "https://lh3.googleusercontent.com/a/default-user=s64",
      "userId": "00206677079172259404"
     },
     "user_tz": 480
    },
    "id": "rSiq7VjffzJG"
   },
   "outputs": [],
   "source": [
    "# Load in the best model from the given run:\n",
    "blstm = BLSTM()\n",
    "blstm.load_state_dict(torch.load('blstm.pt'))\n"
   ]
  },
  {
   "cell_type": "code",
   "execution_count": 113,
   "metadata": {},
   "outputs": [],
   "source": [
    "testloader = torch.utils.data.DataLoader(test_data, batch_size=1, num_workers=1)"
   ]
  },
  {
   "cell_type": "code",
   "execution_count": 114,
   "metadata": {
    "executionInfo": {
     "elapsed": 515,
     "status": "ok",
     "timestamp": 1638211822592,
     "user": {
      "displayName": "Hardi Rathod",
      "photoUrl": "https://lh3.googleusercontent.com/a/default-user=s64",
      "userId": "00206677079172259404"
     },
     "user_tz": 480
    },
    "id": "YCuC6dd0g08n"
   },
   "outputs": [],
   "source": [
    "# Calculate Accuracy from trained model:\n",
    "def predict(model, dataloader):\n",
    "    prediction_list = []\n",
    "    with torch.no_grad():\n",
    "        for data, target in dataloader:\n",
    "            output = model(data.float())\n",
    "            _, predicted = torch.max(output.data, 1) \n",
    "            prediction_list.append(predicted)\n",
    "    return prediction_list"
   ]
  },
  {
   "cell_type": "code",
   "execution_count": 115,
   "metadata": {
    "executionInfo": {
     "elapsed": 513,
     "status": "ok",
     "timestamp": 1638211826070,
     "user": {
      "displayName": "Hardi Rathod",
      "photoUrl": "https://lh3.googleusercontent.com/a/default-user=s64",
      "userId": "00206677079172259404"
     },
     "user_tz": 480
    },
    "id": "a7x8tg7ihF6x"
   },
   "outputs": [],
   "source": [
    "def accuracy(y_true, y_pred):\n",
    "    score = sum(y_true == y_pred)/len(y_pred)\n",
    "    return score"
   ]
  },
  {
   "cell_type": "code",
   "execution_count": 116,
   "metadata": {
    "executionInfo": {
     "elapsed": 3396,
     "status": "ok",
     "timestamp": 1638211833047,
     "user": {
      "displayName": "Hardi Rathod",
      "photoUrl": "https://lh3.googleusercontent.com/a/default-user=s64",
      "userId": "00206677079172259404"
     },
     "user_tz": 480
    },
    "id": "ULsxLLa7g-gy"
   },
   "outputs": [],
   "source": [
    "predictions = predict(blstm, testloader)\n",
    "predictions = np.array(predictions)"
   ]
  },
  {
   "cell_type": "code",
   "execution_count": 117,
   "metadata": {
    "colab": {
     "base_uri": "https://localhost:8080/"
    },
    "executionInfo": {
     "elapsed": 537,
     "status": "ok",
     "timestamp": 1638211835819,
     "user": {
      "displayName": "Hardi Rathod",
      "photoUrl": "https://lh3.googleusercontent.com/a/default-user=s64",
      "userId": "00206677079172259404"
     },
     "user_tz": 480
    },
    "id": "G4b0ApKdJfKT",
    "outputId": "c2bac1c4-07d4-4456-bf84-f43b2664df12"
   },
   "outputs": [
    {
     "data": {
      "text/plain": [
       "array([ 0,  1,  2,  3,  4,  5,  6,  7,  8,  9, 10, 11, 12, 13, 14, 15, 16,\n",
       "       17, 18, 19, 21, 22, 23, 24, 25, 26, 27, 28, 29, 30, 31, 32, 33, 34,\n",
       "       35, 36, 37, 38, 39, 40, 41, 42, 43, 44, 45, 46, 47, 48])"
      ]
     },
     "execution_count": 117,
     "metadata": {},
     "output_type": "execute_result"
    }
   ],
   "source": [
    "#See what it's actually predicting:\n",
    "np.unique(predictions)"
   ]
  },
  {
   "cell_type": "code",
   "execution_count": 118,
   "metadata": {
    "colab": {
     "base_uri": "https://localhost:8080/"
    },
    "executionInfo": {
     "elapsed": 297,
     "status": "ok",
     "timestamp": 1638211838733,
     "user": {
      "displayName": "Hardi Rathod",
      "photoUrl": "https://lh3.googleusercontent.com/a/default-user=s64",
      "userId": "00206677079172259404"
     },
     "user_tz": 480
    },
    "id": "-nrQeq-whBup",
    "outputId": "e25a6137-bc9d-4803-a841-e6ba17954700"
   },
   "outputs": [
    {
     "name": "stdout",
     "output_type": "stream",
     "text": [
      "Test Accuracy: 0.9715821812596006\n"
     ]
    }
   ],
   "source": [
    "print(\"Test Accuracy:\", accuracy(y_test, predictions))"
   ]
  },
  {
   "cell_type": "code",
   "execution_count": 119,
   "metadata": {
    "colab": {
     "base_uri": "https://localhost:8080/"
    },
    "executionInfo": {
     "elapsed": 144,
     "status": "ok",
     "timestamp": 1638037600752,
     "user": {
      "displayName": "Matthew Brennan",
      "photoUrl": "https://lh3.googleusercontent.com/a-/AOh14GhJR-moAb4l734QV72Mr5BkleEzFNPGkitCL_WI=s64",
      "userId": "04862208396894716240"
     },
     "user_tz": 480
    },
    "id": "Gr8vvky1pZy7",
    "outputId": "9d5135d4-98a8-4498-9142-2a74627f067d"
   },
   "outputs": [
    {
     "name": "stdout",
     "output_type": "stream",
     "text": [
      "              precision    recall  f1-score   support\n",
      "\n",
      "           0       0.98      0.92      0.95        51\n",
      "           1       1.00      1.00      1.00        10\n",
      "           2       1.00      1.00      1.00         4\n",
      "           3       1.00      1.00      1.00         4\n",
      "           4       1.00      1.00      1.00         2\n",
      "           5       0.80      0.94      0.86        17\n",
      "           6       1.00      1.00      1.00         9\n",
      "           7       1.00      1.00      1.00         6\n",
      "           8       0.71      1.00      0.83         5\n",
      "           9       1.00      1.00      1.00         4\n",
      "          10       1.00      1.00      1.00         2\n",
      "          11       0.93      0.96      0.95        27\n",
      "          12       0.88      1.00      0.93         7\n",
      "          13       0.96      1.00      0.98        44\n",
      "          14       0.75      1.00      0.86         6\n",
      "          15       0.70      1.00      0.82         7\n",
      "          16       1.00      1.00      1.00         4\n",
      "          17       0.86      0.86      0.86         7\n",
      "          18       1.00      0.95      0.98       306\n",
      "          19       1.00      0.94      0.97        62\n",
      "          20       0.00      0.00      0.00         1\n",
      "          21       1.00      1.00      1.00         2\n",
      "          22       0.95      0.97      0.96        40\n",
      "          23       0.75      1.00      0.86         3\n",
      "          24       0.75      0.75      0.75         4\n",
      "          25       1.00      0.97      0.98        29\n",
      "          26       1.00      1.00      1.00        33\n",
      "          27       0.94      1.00      0.97        17\n",
      "          28       0.97      1.00      0.99        37\n",
      "          29       0.87      0.93      0.90        14\n",
      "          30       1.00      1.00      1.00        18\n",
      "          31       0.99      0.97      0.98       164\n",
      "          32       0.67      1.00      0.80         2\n",
      "          33       1.00      0.50      0.67         4\n",
      "          34       1.00      1.00      1.00        13\n",
      "          35       1.00      1.00      1.00         3\n",
      "          36       0.83      1.00      0.91         5\n",
      "          37       1.00      1.00      1.00       175\n",
      "          38       1.00      1.00      1.00        17\n",
      "          39       1.00      1.00      1.00         5\n",
      "          40       0.33      1.00      0.50         1\n",
      "          41       0.75      1.00      0.86         3\n",
      "          42       1.00      1.00      1.00        40\n",
      "          43       1.00      1.00      1.00         2\n",
      "          44       0.93      1.00      0.96        40\n",
      "          45       1.00      1.00      1.00        37\n",
      "          46       1.00      1.00      1.00         1\n",
      "          47       1.00      1.00      1.00         6\n",
      "          48       0.50      1.00      0.67         2\n",
      "\n",
      "    accuracy                           0.97      1302\n",
      "   macro avg       0.89      0.95      0.91      1302\n",
      "weighted avg       0.98      0.97      0.97      1302\n",
      "\n"
     ]
    }
   ],
   "source": [
    "from sklearn.metrics import classification_report\n",
    "print(classification_report(y_test, predictions))"
   ]
  },
  {
   "cell_type": "code",
   "execution_count": null,
   "metadata": {
    "id": "MB-rG1gViGeA"
   },
   "outputs": [],
   "source": [
    "### Obviously not good."
   ]
  },
  {
   "cell_type": "code",
   "execution_count": null,
   "metadata": {
    "colab": {
     "base_uri": "https://localhost:8080/"
    },
    "executionInfo": {
     "elapsed": 125,
     "status": "ok",
     "timestamp": 1637618322956,
     "user": {
      "displayName": "Matthew Brennan",
      "photoUrl": "https://lh3.googleusercontent.com/a-/AOh14GhJR-moAb4l734QV72Mr5BkleEzFNPGkitCL_WI=s64",
      "userId": "04862208396894716240"
     },
     "user_tz": 480
    },
    "id": "_pxgUfPjEAop",
    "outputId": "c5731a34-943d-4c22-c870-b763f42b52d9"
   },
   "outputs": [
    {
     "data": {
      "text/plain": [
       "7"
      ]
     },
     "execution_count": 106,
     "metadata": {},
     "output_type": "execute_result"
    }
   ],
   "source": [
    "predictions[0]"
   ]
  },
  {
   "cell_type": "code",
   "execution_count": null,
   "metadata": {
    "colab": {
     "base_uri": "https://localhost:8080/"
    },
    "executionInfo": {
     "elapsed": 163,
     "status": "ok",
     "timestamp": 1637618325006,
     "user": {
      "displayName": "Matthew Brennan",
      "photoUrl": "https://lh3.googleusercontent.com/a-/AOh14GhJR-moAb4l734QV72Mr5BkleEzFNPGkitCL_WI=s64",
      "userId": "04862208396894716240"
     },
     "user_tz": 480
    },
    "id": "Ctwl0ovhEBvx",
    "outputId": "8e1a8bde-95a6-409a-bb7e-43ed37be6019"
   },
   "outputs": [
    {
     "data": {
      "text/plain": [
       "8"
      ]
     },
     "execution_count": 107,
     "metadata": {},
     "output_type": "execute_result"
    }
   ],
   "source": [
    "y_test[0]"
   ]
  },
  {
   "cell_type": "code",
   "execution_count": null,
   "metadata": {
    "colab": {
     "base_uri": "https://localhost:8080/"
    },
    "executionInfo": {
     "elapsed": 129,
     "status": "ok",
     "timestamp": 1637608512463,
     "user": {
      "displayName": "Matthew Brennan",
      "photoUrl": "https://lh3.googleusercontent.com/a-/AOh14GhJR-moAb4l734QV72Mr5BkleEzFNPGkitCL_WI=s64",
      "userId": "04862208396894716240"
     },
     "user_tz": 480
    },
    "id": "Al9gyOdGEEBc",
    "outputId": "88fc8722-7861-4f18-8293-895697963000"
   },
   "outputs": [
    {
     "data": {
      "text/plain": [
       "array(['S18', 'S21', 'S21', ..., 'S19', 'S18', 'S19'], dtype=object)"
      ]
     },
     "execution_count": 56,
     "metadata": {},
     "output_type": "execute_result"
    }
   ],
   "source": [
    "dfs[\"preprocessed_ICD_codes\"].values"
   ]
  },
  {
   "cell_type": "code",
   "execution_count": null,
   "metadata": {
    "colab": {
     "base_uri": "https://localhost:8080/"
    },
    "executionInfo": {
     "elapsed": 354,
     "status": "ok",
     "timestamp": 1637608550643,
     "user": {
      "displayName": "Matthew Brennan",
      "photoUrl": "https://lh3.googleusercontent.com/a-/AOh14GhJR-moAb4l734QV72Mr5BkleEzFNPGkitCL_WI=s64",
      "userId": "04862208396894716240"
     },
     "user_tz": 480
    },
    "id": "bknNSsgXEtnJ",
    "outputId": "1bee46b7-27e5-4620-fa96-d8eed0d600bf"
   },
   "outputs": [
    {
     "data": {
      "text/plain": [
       "{'O17': 0,\n",
       " 'O18': 5,\n",
       " 'O19': 9,\n",
       " 'O20': 6,\n",
       " 'O21': 1,\n",
       " 'S17': 4,\n",
       " 'S18': 7,\n",
       " 'S19': 8,\n",
       " 'S20': 3,\n",
       " 'S21': 2}"
      ]
     },
     "execution_count": 57,
     "metadata": {},
     "output_type": "execute_result"
    }
   ],
   "source": [
    "icd_codes_d"
   ]
  },
  {
   "cell_type": "code",
   "execution_count": null,
   "metadata": {
    "colab": {
     "base_uri": "https://localhost:8080/"
    },
    "executionInfo": {
     "elapsed": 126,
     "status": "ok",
     "timestamp": 1637608707294,
     "user": {
      "displayName": "Matthew Brennan",
      "photoUrl": "https://lh3.googleusercontent.com/a-/AOh14GhJR-moAb4l734QV72Mr5BkleEzFNPGkitCL_WI=s64",
      "userId": "04862208396894716240"
     },
     "user_tz": 480
    },
    "id": "R1gAIgUSE215",
    "outputId": "4c70a6c4-473c-4668-9a9a-cd258a85b534"
   },
   "outputs": [
    {
     "data": {
      "text/plain": [
       "tensor([  101, 17503,  2482, 21081,  2863,  1997,  2053,  2569,  2828,  1006,\n",
       "        23245,  2389,  1010,  2025,  4728,  9675,  1007,   102,     0,     0,\n",
       "            0,     0,     0,     0,     0,     0,     0,     0,     0,     0,\n",
       "            0,     0,     0,     0,     0,     0,     0,     0,     0,     0,\n",
       "            0,     0,     0,     0,     0,     0,     0,     0,     0,     0,\n",
       "            0,     0,     0,     0,     0,     0,     0,     0,     0,     0,\n",
       "            0,     0,     0,     0,     0,     0,     0,     0,     0,     0,\n",
       "            0,     0,     0,     0,     0,     0,     0,     0,     0,     0,\n",
       "            0,     0,     0,     0,     0,     0,     0,     0,     0,     0,\n",
       "            0,     0,     0,     0,     0,     0,     0,     0,     0,     0,\n",
       "            0,     0,     0,     0,     0,     0,     0,     0,     0,     0,\n",
       "            0,     0,     0,     0,     0,     0,     0,     0,     0,     0])"
      ]
     },
     "execution_count": 64,
     "metadata": {},
     "output_type": "execute_result"
    }
   ],
   "source": [
    "x_test[0]"
   ]
  },
  {
   "cell_type": "code",
   "execution_count": null,
   "metadata": {
    "colab": {
     "base_uri": "https://localhost:8080/"
    },
    "executionInfo": {
     "elapsed": 194,
     "status": "ok",
     "timestamp": 1637608717944,
     "user": {
      "displayName": "Matthew Brennan",
      "photoUrl": "https://lh3.googleusercontent.com/a-/AOh14GhJR-moAb4l734QV72Mr5BkleEzFNPGkitCL_WI=s64",
      "userId": "04862208396894716240"
     },
     "user_tz": 480
    },
    "id": "jHYo9ROEFdLa",
    "outputId": "5235a6c1-c7d9-447e-da89-2ec97c5fcae4"
   },
   "outputs": [
    {
     "data": {
      "text/plain": [
       "tensor([  101, 13866,  1024, 13656,  2062,  2084,  4642,  1998,  2625,  2084,\n",
       "         2030,  5020,  2000,  4642,  1999,  4602,  9812,   102,     0,     0,\n",
       "            0,     0,     0,     0,     0,     0,     0,     0,     0,     0,\n",
       "            0,     0,     0,     0,     0,     0,     0,     0,     0,     0,\n",
       "            0,     0,     0,     0,     0,     0,     0,     0,     0,     0,\n",
       "            0,     0,     0,     0,     0,     0,     0,     0,     0,     0,\n",
       "            0,     0,     0,     0,     0,     0,     0,     0,     0,     0,\n",
       "            0,     0,     0,     0,     0,     0,     0,     0,     0,     0,\n",
       "            0,     0,     0,     0,     0,     0,     0,     0,     0,     0,\n",
       "            0,     0,     0,     0,     0,     0,     0,     0,     0,     0,\n",
       "            0,     0,     0,     0,     0,     0,     0,     0,     0,     0,\n",
       "            0,     0,     0,     0,     0,     0,     0,     0,     0,     0])"
      ]
     },
     "execution_count": 65,
     "metadata": {},
     "output_type": "execute_result"
    }
   ],
   "source": [
    "x_test[1]"
   ]
  }
 ],
 "metadata": {
  "colab": {
   "collapsed_sections": [],
   "name": "BERT Encoding.ipynb",
   "provenance": []
  },
  "kernelspec": {
   "display_name": "Python 3",
   "language": "python",
   "name": "python3"
  },
  "language_info": {
   "codemirror_mode": {
    "name": "ipython",
    "version": 3
   },
   "file_extension": ".py",
   "mimetype": "text/x-python",
   "name": "python",
   "nbconvert_exporter": "python",
   "pygments_lexer": "ipython3",
   "version": "3.7.4"
  },
  "widgets": {
   "application/vnd.jupyter.widget-state+json": {
    "00d7be27fe784e6bbe3e79c388351547": {
     "model_module": "@jupyter-widgets/base",
     "model_module_version": "1.2.0",
     "model_name": "LayoutModel",
     "state": {
      "_model_module": "@jupyter-widgets/base",
      "_model_module_version": "1.2.0",
      "_model_name": "LayoutModel",
      "_view_count": null,
      "_view_module": "@jupyter-widgets/base",
      "_view_module_version": "1.2.0",
      "_view_name": "LayoutView",
      "align_content": null,
      "align_items": null,
      "align_self": null,
      "border": null,
      "bottom": null,
      "display": null,
      "flex": null,
      "flex_flow": null,
      "grid_area": null,
      "grid_auto_columns": null,
      "grid_auto_flow": null,
      "grid_auto_rows": null,
      "grid_column": null,
      "grid_gap": null,
      "grid_row": null,
      "grid_template_areas": null,
      "grid_template_columns": null,
      "grid_template_rows": null,
      "height": null,
      "justify_content": null,
      "justify_items": null,
      "left": null,
      "margin": null,
      "max_height": null,
      "max_width": null,
      "min_height": null,
      "min_width": null,
      "object_fit": null,
      "object_position": null,
      "order": null,
      "overflow": null,
      "overflow_x": null,
      "overflow_y": null,
      "padding": null,
      "right": null,
      "top": null,
      "visibility": null,
      "width": null
     }
    },
    "00d9325b997e4f9cb00391f19d8f6be4": {
     "model_module": "@jupyter-widgets/controls",
     "model_module_version": "1.5.0",
     "model_name": "DescriptionStyleModel",
     "state": {
      "_model_module": "@jupyter-widgets/controls",
      "_model_module_version": "1.5.0",
      "_model_name": "DescriptionStyleModel",
      "_view_count": null,
      "_view_module": "@jupyter-widgets/base",
      "_view_module_version": "1.2.0",
      "_view_name": "StyleView",
      "description_width": ""
     }
    },
    "0192b50917de4a698760fdb88e7fa06e": {
     "model_module": "@jupyter-widgets/base",
     "model_module_version": "1.2.0",
     "model_name": "LayoutModel",
     "state": {
      "_model_module": "@jupyter-widgets/base",
      "_model_module_version": "1.2.0",
      "_model_name": "LayoutModel",
      "_view_count": null,
      "_view_module": "@jupyter-widgets/base",
      "_view_module_version": "1.2.0",
      "_view_name": "LayoutView",
      "align_content": null,
      "align_items": null,
      "align_self": null,
      "border": null,
      "bottom": null,
      "display": null,
      "flex": null,
      "flex_flow": null,
      "grid_area": null,
      "grid_auto_columns": null,
      "grid_auto_flow": null,
      "grid_auto_rows": null,
      "grid_column": null,
      "grid_gap": null,
      "grid_row": null,
      "grid_template_areas": null,
      "grid_template_columns": null,
      "grid_template_rows": null,
      "height": null,
      "justify_content": null,
      "justify_items": null,
      "left": null,
      "margin": null,
      "max_height": null,
      "max_width": null,
      "min_height": null,
      "min_width": null,
      "object_fit": null,
      "object_position": null,
      "order": null,
      "overflow": null,
      "overflow_x": null,
      "overflow_y": null,
      "padding": null,
      "right": null,
      "top": null,
      "visibility": null,
      "width": null
     }
    },
    "022ed50d03394bfe9a199b80469684d8": {
     "model_module": "@jupyter-widgets/base",
     "model_module_version": "1.2.0",
     "model_name": "LayoutModel",
     "state": {
      "_model_module": "@jupyter-widgets/base",
      "_model_module_version": "1.2.0",
      "_model_name": "LayoutModel",
      "_view_count": null,
      "_view_module": "@jupyter-widgets/base",
      "_view_module_version": "1.2.0",
      "_view_name": "LayoutView",
      "align_content": null,
      "align_items": null,
      "align_self": null,
      "border": null,
      "bottom": null,
      "display": null,
      "flex": null,
      "flex_flow": null,
      "grid_area": null,
      "grid_auto_columns": null,
      "grid_auto_flow": null,
      "grid_auto_rows": null,
      "grid_column": null,
      "grid_gap": null,
      "grid_row": null,
      "grid_template_areas": null,
      "grid_template_columns": null,
      "grid_template_rows": null,
      "height": null,
      "justify_content": null,
      "justify_items": null,
      "left": null,
      "margin": null,
      "max_height": null,
      "max_width": null,
      "min_height": null,
      "min_width": null,
      "object_fit": null,
      "object_position": null,
      "order": null,
      "overflow": null,
      "overflow_x": null,
      "overflow_y": null,
      "padding": null,
      "right": null,
      "top": null,
      "visibility": null,
      "width": null
     }
    },
    "0b9475ba68e14162a2a6a5b0fb50029f": {
     "model_module": "@jupyter-widgets/controls",
     "model_module_version": "1.5.0",
     "model_name": "DescriptionStyleModel",
     "state": {
      "_model_module": "@jupyter-widgets/controls",
      "_model_module_version": "1.5.0",
      "_model_name": "DescriptionStyleModel",
      "_view_count": null,
      "_view_module": "@jupyter-widgets/base",
      "_view_module_version": "1.2.0",
      "_view_name": "StyleView",
      "description_width": ""
     }
    },
    "175463e4e176408aae7f9b1fe0e100cd": {
     "model_module": "@jupyter-widgets/controls",
     "model_module_version": "1.5.0",
     "model_name": "ProgressStyleModel",
     "state": {
      "_model_module": "@jupyter-widgets/controls",
      "_model_module_version": "1.5.0",
      "_model_name": "ProgressStyleModel",
      "_view_count": null,
      "_view_module": "@jupyter-widgets/base",
      "_view_module_version": "1.2.0",
      "_view_name": "StyleView",
      "bar_color": null,
      "description_width": ""
     }
    },
    "17c3564645fd436d9e0eefdfac2b1c1f": {
     "model_module": "@jupyter-widgets/controls",
     "model_module_version": "1.5.0",
     "model_name": "HBoxModel",
     "state": {
      "_dom_classes": [],
      "_model_module": "@jupyter-widgets/controls",
      "_model_module_version": "1.5.0",
      "_model_name": "HBoxModel",
      "_view_count": null,
      "_view_module": "@jupyter-widgets/controls",
      "_view_module_version": "1.5.0",
      "_view_name": "HBoxView",
      "box_style": "",
      "children": [
       "IPY_MODEL_d0cd16ea52a54d0aad93fe82a27ba6af",
       "IPY_MODEL_90c049d7f57d4d50a51c8c31a3089b45",
       "IPY_MODEL_4886090d2bc74b60b3d8baa10e51ca69"
      ],
      "layout": "IPY_MODEL_e2b1512bea1542e2b1063c406bef02c1"
     }
    },
    "1bd454a3d8bf4068b80d2072498d1d0e": {
     "model_module": "@jupyter-widgets/controls",
     "model_module_version": "1.5.0",
     "model_name": "HTMLModel",
     "state": {
      "_dom_classes": [],
      "_model_module": "@jupyter-widgets/controls",
      "_model_module_version": "1.5.0",
      "_model_name": "HTMLModel",
      "_view_count": null,
      "_view_module": "@jupyter-widgets/controls",
      "_view_module_version": "1.5.0",
      "_view_name": "HTMLView",
      "description": "",
      "description_tooltip": null,
      "layout": "IPY_MODEL_4fe59b5ce455491d8c8834c82941dc67",
      "placeholder": "​",
      "style": "IPY_MODEL_00d9325b997e4f9cb00391f19d8f6be4",
      "value": " 455k/455k [00:00&lt;00:00, 695kB/s]"
     }
    },
    "26e79ae174b34446b27f391f14cf2ff4": {
     "model_module": "@jupyter-widgets/controls",
     "model_module_version": "1.5.0",
     "model_name": "HBoxModel",
     "state": {
      "_dom_classes": [],
      "_model_module": "@jupyter-widgets/controls",
      "_model_module_version": "1.5.0",
      "_model_name": "HBoxModel",
      "_view_count": null,
      "_view_module": "@jupyter-widgets/controls",
      "_view_module_version": "1.5.0",
      "_view_name": "HBoxView",
      "box_style": "",
      "children": [
       "IPY_MODEL_58b0901640214528976e933796579eb5",
       "IPY_MODEL_3bd609c5e870444090d9645fcecb6acd",
       "IPY_MODEL_97f583946e5a40789398ea0273a53dea"
      ],
      "layout": "IPY_MODEL_684cea1f81044ed48d116203edf69aab"
     }
    },
    "2bee3f5753684be8b1a13ca6d62089f6": {
     "model_module": "@jupyter-widgets/controls",
     "model_module_version": "1.5.0",
     "model_name": "FloatProgressModel",
     "state": {
      "_dom_classes": [],
      "_model_module": "@jupyter-widgets/controls",
      "_model_module_version": "1.5.0",
      "_model_name": "FloatProgressModel",
      "_view_count": null,
      "_view_module": "@jupyter-widgets/controls",
      "_view_module_version": "1.5.0",
      "_view_name": "ProgressView",
      "bar_style": "success",
      "description": "",
      "description_tooltip": null,
      "layout": "IPY_MODEL_5d488fbbac6344a9875348b1baa39ffb",
      "max": 570,
      "min": 0,
      "orientation": "horizontal",
      "style": "IPY_MODEL_d6fe53e1f515483eb7ac57d238341c22",
      "value": 570
     }
    },
    "306b1fc9a25a400e84e42dddfbb8ab66": {
     "model_module": "@jupyter-widgets/controls",
     "model_module_version": "1.5.0",
     "model_name": "ProgressStyleModel",
     "state": {
      "_model_module": "@jupyter-widgets/controls",
      "_model_module_version": "1.5.0",
      "_model_name": "ProgressStyleModel",
      "_view_count": null,
      "_view_module": "@jupyter-widgets/base",
      "_view_module_version": "1.2.0",
      "_view_name": "StyleView",
      "bar_color": null,
      "description_width": ""
     }
    },
    "334695602b0a43acbeff1a3701c94ab4": {
     "model_module": "@jupyter-widgets/controls",
     "model_module_version": "1.5.0",
     "model_name": "DescriptionStyleModel",
     "state": {
      "_model_module": "@jupyter-widgets/controls",
      "_model_module_version": "1.5.0",
      "_model_name": "DescriptionStyleModel",
      "_view_count": null,
      "_view_module": "@jupyter-widgets/base",
      "_view_module_version": "1.2.0",
      "_view_name": "StyleView",
      "description_width": ""
     }
    },
    "3bd609c5e870444090d9645fcecb6acd": {
     "model_module": "@jupyter-widgets/controls",
     "model_module_version": "1.5.0",
     "model_name": "FloatProgressModel",
     "state": {
      "_dom_classes": [],
      "_model_module": "@jupyter-widgets/controls",
      "_model_module_version": "1.5.0",
      "_model_name": "FloatProgressModel",
      "_view_count": null,
      "_view_module": "@jupyter-widgets/controls",
      "_view_module_version": "1.5.0",
      "_view_name": "ProgressView",
      "bar_style": "success",
      "description": "",
      "description_tooltip": null,
      "layout": "IPY_MODEL_eaf7fa80e5a146eb8f4ea1b25959bb36",
      "max": 440473133,
      "min": 0,
      "orientation": "horizontal",
      "style": "IPY_MODEL_a8acfe8aff2246ffaff13a013227a6dd",
      "value": 440473133
     }
    },
    "4886090d2bc74b60b3d8baa10e51ca69": {
     "model_module": "@jupyter-widgets/controls",
     "model_module_version": "1.5.0",
     "model_name": "HTMLModel",
     "state": {
      "_dom_classes": [],
      "_model_module": "@jupyter-widgets/controls",
      "_model_module_version": "1.5.0",
      "_model_name": "HTMLModel",
      "_view_count": null,
      "_view_module": "@jupyter-widgets/controls",
      "_view_module_version": "1.5.0",
      "_view_name": "HTMLView",
      "description": "",
      "description_tooltip": null,
      "layout": "IPY_MODEL_ac0d765b7c424f5a8704ae9081c68db9",
      "placeholder": "​",
      "style": "IPY_MODEL_0b9475ba68e14162a2a6a5b0fb50029f",
      "value": " 226k/226k [00:00&lt;00:00, 630kB/s]"
     }
    },
    "4b6b4654e3234925bd351c257b72e326": {
     "model_module": "@jupyter-widgets/controls",
     "model_module_version": "1.5.0",
     "model_name": "HTMLModel",
     "state": {
      "_dom_classes": [],
      "_model_module": "@jupyter-widgets/controls",
      "_model_module_version": "1.5.0",
      "_model_name": "HTMLModel",
      "_view_count": null,
      "_view_module": "@jupyter-widgets/controls",
      "_view_module_version": "1.5.0",
      "_view_name": "HTMLView",
      "description": "",
      "description_tooltip": null,
      "layout": "IPY_MODEL_022ed50d03394bfe9a199b80469684d8",
      "placeholder": "​",
      "style": "IPY_MODEL_ac4c73ea7a514cbd86877079427491b0",
      "value": "Downloading: 100%"
     }
    },
    "4fe59b5ce455491d8c8834c82941dc67": {
     "model_module": "@jupyter-widgets/base",
     "model_module_version": "1.2.0",
     "model_name": "LayoutModel",
     "state": {
      "_model_module": "@jupyter-widgets/base",
      "_model_module_version": "1.2.0",
      "_model_name": "LayoutModel",
      "_view_count": null,
      "_view_module": "@jupyter-widgets/base",
      "_view_module_version": "1.2.0",
      "_view_name": "LayoutView",
      "align_content": null,
      "align_items": null,
      "align_self": null,
      "border": null,
      "bottom": null,
      "display": null,
      "flex": null,
      "flex_flow": null,
      "grid_area": null,
      "grid_auto_columns": null,
      "grid_auto_flow": null,
      "grid_auto_rows": null,
      "grid_column": null,
      "grid_gap": null,
      "grid_row": null,
      "grid_template_areas": null,
      "grid_template_columns": null,
      "grid_template_rows": null,
      "height": null,
      "justify_content": null,
      "justify_items": null,
      "left": null,
      "margin": null,
      "max_height": null,
      "max_width": null,
      "min_height": null,
      "min_width": null,
      "object_fit": null,
      "object_position": null,
      "order": null,
      "overflow": null,
      "overflow_x": null,
      "overflow_y": null,
      "padding": null,
      "right": null,
      "top": null,
      "visibility": null,
      "width": null
     }
    },
    "58b0901640214528976e933796579eb5": {
     "model_module": "@jupyter-widgets/controls",
     "model_module_version": "1.5.0",
     "model_name": "HTMLModel",
     "state": {
      "_dom_classes": [],
      "_model_module": "@jupyter-widgets/controls",
      "_model_module_version": "1.5.0",
      "_model_name": "HTMLModel",
      "_view_count": null,
      "_view_module": "@jupyter-widgets/controls",
      "_view_module_version": "1.5.0",
      "_view_name": "HTMLView",
      "description": "",
      "description_tooltip": null,
      "layout": "IPY_MODEL_7ba73347e9a349f9b7066067ce29a11f",
      "placeholder": "​",
      "style": "IPY_MODEL_334695602b0a43acbeff1a3701c94ab4",
      "value": "Downloading: 100%"
     }
    },
    "5d488fbbac6344a9875348b1baa39ffb": {
     "model_module": "@jupyter-widgets/base",
     "model_module_version": "1.2.0",
     "model_name": "LayoutModel",
     "state": {
      "_model_module": "@jupyter-widgets/base",
      "_model_module_version": "1.2.0",
      "_model_name": "LayoutModel",
      "_view_count": null,
      "_view_module": "@jupyter-widgets/base",
      "_view_module_version": "1.2.0",
      "_view_name": "LayoutView",
      "align_content": null,
      "align_items": null,
      "align_self": null,
      "border": null,
      "bottom": null,
      "display": null,
      "flex": null,
      "flex_flow": null,
      "grid_area": null,
      "grid_auto_columns": null,
      "grid_auto_flow": null,
      "grid_auto_rows": null,
      "grid_column": null,
      "grid_gap": null,
      "grid_row": null,
      "grid_template_areas": null,
      "grid_template_columns": null,
      "grid_template_rows": null,
      "height": null,
      "justify_content": null,
      "justify_items": null,
      "left": null,
      "margin": null,
      "max_height": null,
      "max_width": null,
      "min_height": null,
      "min_width": null,
      "object_fit": null,
      "object_position": null,
      "order": null,
      "overflow": null,
      "overflow_x": null,
      "overflow_y": null,
      "padding": null,
      "right": null,
      "top": null,
      "visibility": null,
      "width": null
     }
    },
    "61f0c0997afc4738ac22ecec3bccb36a": {
     "model_module": "@jupyter-widgets/base",
     "model_module_version": "1.2.0",
     "model_name": "LayoutModel",
     "state": {
      "_model_module": "@jupyter-widgets/base",
      "_model_module_version": "1.2.0",
      "_model_name": "LayoutModel",
      "_view_count": null,
      "_view_module": "@jupyter-widgets/base",
      "_view_module_version": "1.2.0",
      "_view_name": "LayoutView",
      "align_content": null,
      "align_items": null,
      "align_self": null,
      "border": null,
      "bottom": null,
      "display": null,
      "flex": null,
      "flex_flow": null,
      "grid_area": null,
      "grid_auto_columns": null,
      "grid_auto_flow": null,
      "grid_auto_rows": null,
      "grid_column": null,
      "grid_gap": null,
      "grid_row": null,
      "grid_template_areas": null,
      "grid_template_columns": null,
      "grid_template_rows": null,
      "height": null,
      "justify_content": null,
      "justify_items": null,
      "left": null,
      "margin": null,
      "max_height": null,
      "max_width": null,
      "min_height": null,
      "min_width": null,
      "object_fit": null,
      "object_position": null,
      "order": null,
      "overflow": null,
      "overflow_x": null,
      "overflow_y": null,
      "padding": null,
      "right": null,
      "top": null,
      "visibility": null,
      "width": null
     }
    },
    "684cea1f81044ed48d116203edf69aab": {
     "model_module": "@jupyter-widgets/base",
     "model_module_version": "1.2.0",
     "model_name": "LayoutModel",
     "state": {
      "_model_module": "@jupyter-widgets/base",
      "_model_module_version": "1.2.0",
      "_model_name": "LayoutModel",
      "_view_count": null,
      "_view_module": "@jupyter-widgets/base",
      "_view_module_version": "1.2.0",
      "_view_name": "LayoutView",
      "align_content": null,
      "align_items": null,
      "align_self": null,
      "border": null,
      "bottom": null,
      "display": null,
      "flex": null,
      "flex_flow": null,
      "grid_area": null,
      "grid_auto_columns": null,
      "grid_auto_flow": null,
      "grid_auto_rows": null,
      "grid_column": null,
      "grid_gap": null,
      "grid_row": null,
      "grid_template_areas": null,
      "grid_template_columns": null,
      "grid_template_rows": null,
      "height": null,
      "justify_content": null,
      "justify_items": null,
      "left": null,
      "margin": null,
      "max_height": null,
      "max_width": null,
      "min_height": null,
      "min_width": null,
      "object_fit": null,
      "object_position": null,
      "order": null,
      "overflow": null,
      "overflow_x": null,
      "overflow_y": null,
      "padding": null,
      "right": null,
      "top": null,
      "visibility": null,
      "width": null
     }
    },
    "69007f52e46e4838a74706ec5fd95f81": {
     "model_module": "@jupyter-widgets/controls",
     "model_module_version": "1.5.0",
     "model_name": "HBoxModel",
     "state": {
      "_dom_classes": [],
      "_model_module": "@jupyter-widgets/controls",
      "_model_module_version": "1.5.0",
      "_model_name": "HBoxModel",
      "_view_count": null,
      "_view_module": "@jupyter-widgets/controls",
      "_view_module_version": "1.5.0",
      "_view_name": "HBoxView",
      "box_style": "",
      "children": [
       "IPY_MODEL_4b6b4654e3234925bd351c257b72e326",
       "IPY_MODEL_2bee3f5753684be8b1a13ca6d62089f6",
       "IPY_MODEL_6a53b9b1616b49b3ae23022cb204c6f1"
      ],
      "layout": "IPY_MODEL_e85a71b1183246cdae9317299ed504d9"
     }
    },
    "6a53b9b1616b49b3ae23022cb204c6f1": {
     "model_module": "@jupyter-widgets/controls",
     "model_module_version": "1.5.0",
     "model_name": "HTMLModel",
     "state": {
      "_dom_classes": [],
      "_model_module": "@jupyter-widgets/controls",
      "_model_module_version": "1.5.0",
      "_model_name": "HTMLModel",
      "_view_count": null,
      "_view_module": "@jupyter-widgets/controls",
      "_view_module_version": "1.5.0",
      "_view_name": "HTMLView",
      "description": "",
      "description_tooltip": null,
      "layout": "IPY_MODEL_0192b50917de4a698760fdb88e7fa06e",
      "placeholder": "​",
      "style": "IPY_MODEL_92d7e06b4e79434dbab7e83bff1c4260",
      "value": " 570/570 [00:00&lt;00:00, 9.98kB/s]"
     }
    },
    "7a40ed74cfa0409abb06b4ec90e528f5": {
     "model_module": "@jupyter-widgets/controls",
     "model_module_version": "1.5.0",
     "model_name": "DescriptionStyleModel",
     "state": {
      "_model_module": "@jupyter-widgets/controls",
      "_model_module_version": "1.5.0",
      "_model_name": "DescriptionStyleModel",
      "_view_count": null,
      "_view_module": "@jupyter-widgets/base",
      "_view_module_version": "1.2.0",
      "_view_name": "StyleView",
      "description_width": ""
     }
    },
    "7b58c53f27294832bd168adefd9be794": {
     "model_module": "@jupyter-widgets/controls",
     "model_module_version": "1.5.0",
     "model_name": "HBoxModel",
     "state": {
      "_dom_classes": [],
      "_model_module": "@jupyter-widgets/controls",
      "_model_module_version": "1.5.0",
      "_model_name": "HBoxModel",
      "_view_count": null,
      "_view_module": "@jupyter-widgets/controls",
      "_view_module_version": "1.5.0",
      "_view_name": "HBoxView",
      "box_style": "",
      "children": [
       "IPY_MODEL_f22b7f363ead405c9b227eb09d235efe",
       "IPY_MODEL_d21667ebf42148db98092af3f6efaa3c",
       "IPY_MODEL_a41115acb220424d8ff89997fc513fc8"
      ],
      "layout": "IPY_MODEL_9a888039d1524999922726813fec4502"
     }
    },
    "7ba73347e9a349f9b7066067ce29a11f": {
     "model_module": "@jupyter-widgets/base",
     "model_module_version": "1.2.0",
     "model_name": "LayoutModel",
     "state": {
      "_model_module": "@jupyter-widgets/base",
      "_model_module_version": "1.2.0",
      "_model_name": "LayoutModel",
      "_view_count": null,
      "_view_module": "@jupyter-widgets/base",
      "_view_module_version": "1.2.0",
      "_view_name": "LayoutView",
      "align_content": null,
      "align_items": null,
      "align_self": null,
      "border": null,
      "bottom": null,
      "display": null,
      "flex": null,
      "flex_flow": null,
      "grid_area": null,
      "grid_auto_columns": null,
      "grid_auto_flow": null,
      "grid_auto_rows": null,
      "grid_column": null,
      "grid_gap": null,
      "grid_row": null,
      "grid_template_areas": null,
      "grid_template_columns": null,
      "grid_template_rows": null,
      "height": null,
      "justify_content": null,
      "justify_items": null,
      "left": null,
      "margin": null,
      "max_height": null,
      "max_width": null,
      "min_height": null,
      "min_width": null,
      "object_fit": null,
      "object_position": null,
      "order": null,
      "overflow": null,
      "overflow_x": null,
      "overflow_y": null,
      "padding": null,
      "right": null,
      "top": null,
      "visibility": null,
      "width": null
     }
    },
    "852e2dd09d3c4462af50ce3075750ad2": {
     "model_module": "@jupyter-widgets/controls",
     "model_module_version": "1.5.0",
     "model_name": "DescriptionStyleModel",
     "state": {
      "_model_module": "@jupyter-widgets/controls",
      "_model_module_version": "1.5.0",
      "_model_name": "DescriptionStyleModel",
      "_view_count": null,
      "_view_module": "@jupyter-widgets/base",
      "_view_module_version": "1.2.0",
      "_view_name": "StyleView",
      "description_width": ""
     }
    },
    "90c049d7f57d4d50a51c8c31a3089b45": {
     "model_module": "@jupyter-widgets/controls",
     "model_module_version": "1.5.0",
     "model_name": "FloatProgressModel",
     "state": {
      "_dom_classes": [],
      "_model_module": "@jupyter-widgets/controls",
      "_model_module_version": "1.5.0",
      "_model_name": "FloatProgressModel",
      "_view_count": null,
      "_view_module": "@jupyter-widgets/controls",
      "_view_module_version": "1.5.0",
      "_view_name": "ProgressView",
      "bar_style": "success",
      "description": "",
      "description_tooltip": null,
      "layout": "IPY_MODEL_a010a73969b14ae4b2910aafc6719a79",
      "max": 231508,
      "min": 0,
      "orientation": "horizontal",
      "style": "IPY_MODEL_175463e4e176408aae7f9b1fe0e100cd",
      "value": 231508
     }
    },
    "92d7e06b4e79434dbab7e83bff1c4260": {
     "model_module": "@jupyter-widgets/controls",
     "model_module_version": "1.5.0",
     "model_name": "DescriptionStyleModel",
     "state": {
      "_model_module": "@jupyter-widgets/controls",
      "_model_module_version": "1.5.0",
      "_model_name": "DescriptionStyleModel",
      "_view_count": null,
      "_view_module": "@jupyter-widgets/base",
      "_view_module_version": "1.2.0",
      "_view_name": "StyleView",
      "description_width": ""
     }
    },
    "97f583946e5a40789398ea0273a53dea": {
     "model_module": "@jupyter-widgets/controls",
     "model_module_version": "1.5.0",
     "model_name": "HTMLModel",
     "state": {
      "_dom_classes": [],
      "_model_module": "@jupyter-widgets/controls",
      "_model_module_version": "1.5.0",
      "_model_name": "HTMLModel",
      "_view_count": null,
      "_view_module": "@jupyter-widgets/controls",
      "_view_module_version": "1.5.0",
      "_view_name": "HTMLView",
      "description": "",
      "description_tooltip": null,
      "layout": "IPY_MODEL_a0916b29f41e43d5821b5a0df7c24a8d",
      "placeholder": "​",
      "style": "IPY_MODEL_c5bb803b32194a6f8240f2aeefe9f094",
      "value": " 420M/420M [00:10&lt;00:00, 43.3MB/s]"
     }
    },
    "9a888039d1524999922726813fec4502": {
     "model_module": "@jupyter-widgets/base",
     "model_module_version": "1.2.0",
     "model_name": "LayoutModel",
     "state": {
      "_model_module": "@jupyter-widgets/base",
      "_model_module_version": "1.2.0",
      "_model_name": "LayoutModel",
      "_view_count": null,
      "_view_module": "@jupyter-widgets/base",
      "_view_module_version": "1.2.0",
      "_view_name": "LayoutView",
      "align_content": null,
      "align_items": null,
      "align_self": null,
      "border": null,
      "bottom": null,
      "display": null,
      "flex": null,
      "flex_flow": null,
      "grid_area": null,
      "grid_auto_columns": null,
      "grid_auto_flow": null,
      "grid_auto_rows": null,
      "grid_column": null,
      "grid_gap": null,
      "grid_row": null,
      "grid_template_areas": null,
      "grid_template_columns": null,
      "grid_template_rows": null,
      "height": null,
      "justify_content": null,
      "justify_items": null,
      "left": null,
      "margin": null,
      "max_height": null,
      "max_width": null,
      "min_height": null,
      "min_width": null,
      "object_fit": null,
      "object_position": null,
      "order": null,
      "overflow": null,
      "overflow_x": null,
      "overflow_y": null,
      "padding": null,
      "right": null,
      "top": null,
      "visibility": null,
      "width": null
     }
    },
    "9d8a078456be4006a86293d3c0e5f320": {
     "model_module": "@jupyter-widgets/controls",
     "model_module_version": "1.5.0",
     "model_name": "FloatProgressModel",
     "state": {
      "_dom_classes": [],
      "_model_module": "@jupyter-widgets/controls",
      "_model_module_version": "1.5.0",
      "_model_name": "FloatProgressModel",
      "_view_count": null,
      "_view_module": "@jupyter-widgets/controls",
      "_view_module_version": "1.5.0",
      "_view_name": "ProgressView",
      "bar_style": "success",
      "description": "",
      "description_tooltip": null,
      "layout": "IPY_MODEL_61f0c0997afc4738ac22ecec3bccb36a",
      "max": 466062,
      "min": 0,
      "orientation": "horizontal",
      "style": "IPY_MODEL_306b1fc9a25a400e84e42dddfbb8ab66",
      "value": 466062
     }
    },
    "9dba667b9c294e66a4b698645bea13b7": {
     "model_module": "@jupyter-widgets/controls",
     "model_module_version": "1.5.0",
     "model_name": "DescriptionStyleModel",
     "state": {
      "_model_module": "@jupyter-widgets/controls",
      "_model_module_version": "1.5.0",
      "_model_name": "DescriptionStyleModel",
      "_view_count": null,
      "_view_module": "@jupyter-widgets/base",
      "_view_module_version": "1.2.0",
      "_view_name": "StyleView",
      "description_width": ""
     }
    },
    "9f25191cd6cf4e5b843ed7c66efb93d3": {
     "model_module": "@jupyter-widgets/base",
     "model_module_version": "1.2.0",
     "model_name": "LayoutModel",
     "state": {
      "_model_module": "@jupyter-widgets/base",
      "_model_module_version": "1.2.0",
      "_model_name": "LayoutModel",
      "_view_count": null,
      "_view_module": "@jupyter-widgets/base",
      "_view_module_version": "1.2.0",
      "_view_name": "LayoutView",
      "align_content": null,
      "align_items": null,
      "align_self": null,
      "border": null,
      "bottom": null,
      "display": null,
      "flex": null,
      "flex_flow": null,
      "grid_area": null,
      "grid_auto_columns": null,
      "grid_auto_flow": null,
      "grid_auto_rows": null,
      "grid_column": null,
      "grid_gap": null,
      "grid_row": null,
      "grid_template_areas": null,
      "grid_template_columns": null,
      "grid_template_rows": null,
      "height": null,
      "justify_content": null,
      "justify_items": null,
      "left": null,
      "margin": null,
      "max_height": null,
      "max_width": null,
      "min_height": null,
      "min_width": null,
      "object_fit": null,
      "object_position": null,
      "order": null,
      "overflow": null,
      "overflow_x": null,
      "overflow_y": null,
      "padding": null,
      "right": null,
      "top": null,
      "visibility": null,
      "width": null
     }
    },
    "a010a73969b14ae4b2910aafc6719a79": {
     "model_module": "@jupyter-widgets/base",
     "model_module_version": "1.2.0",
     "model_name": "LayoutModel",
     "state": {
      "_model_module": "@jupyter-widgets/base",
      "_model_module_version": "1.2.0",
      "_model_name": "LayoutModel",
      "_view_count": null,
      "_view_module": "@jupyter-widgets/base",
      "_view_module_version": "1.2.0",
      "_view_name": "LayoutView",
      "align_content": null,
      "align_items": null,
      "align_self": null,
      "border": null,
      "bottom": null,
      "display": null,
      "flex": null,
      "flex_flow": null,
      "grid_area": null,
      "grid_auto_columns": null,
      "grid_auto_flow": null,
      "grid_auto_rows": null,
      "grid_column": null,
      "grid_gap": null,
      "grid_row": null,
      "grid_template_areas": null,
      "grid_template_columns": null,
      "grid_template_rows": null,
      "height": null,
      "justify_content": null,
      "justify_items": null,
      "left": null,
      "margin": null,
      "max_height": null,
      "max_width": null,
      "min_height": null,
      "min_width": null,
      "object_fit": null,
      "object_position": null,
      "order": null,
      "overflow": null,
      "overflow_x": null,
      "overflow_y": null,
      "padding": null,
      "right": null,
      "top": null,
      "visibility": null,
      "width": null
     }
    },
    "a0916b29f41e43d5821b5a0df7c24a8d": {
     "model_module": "@jupyter-widgets/base",
     "model_module_version": "1.2.0",
     "model_name": "LayoutModel",
     "state": {
      "_model_module": "@jupyter-widgets/base",
      "_model_module_version": "1.2.0",
      "_model_name": "LayoutModel",
      "_view_count": null,
      "_view_module": "@jupyter-widgets/base",
      "_view_module_version": "1.2.0",
      "_view_name": "LayoutView",
      "align_content": null,
      "align_items": null,
      "align_self": null,
      "border": null,
      "bottom": null,
      "display": null,
      "flex": null,
      "flex_flow": null,
      "grid_area": null,
      "grid_auto_columns": null,
      "grid_auto_flow": null,
      "grid_auto_rows": null,
      "grid_column": null,
      "grid_gap": null,
      "grid_row": null,
      "grid_template_areas": null,
      "grid_template_columns": null,
      "grid_template_rows": null,
      "height": null,
      "justify_content": null,
      "justify_items": null,
      "left": null,
      "margin": null,
      "max_height": null,
      "max_width": null,
      "min_height": null,
      "min_width": null,
      "object_fit": null,
      "object_position": null,
      "order": null,
      "overflow": null,
      "overflow_x": null,
      "overflow_y": null,
      "padding": null,
      "right": null,
      "top": null,
      "visibility": null,
      "width": null
     }
    },
    "a41115acb220424d8ff89997fc513fc8": {
     "model_module": "@jupyter-widgets/controls",
     "model_module_version": "1.5.0",
     "model_name": "HTMLModel",
     "state": {
      "_dom_classes": [],
      "_model_module": "@jupyter-widgets/controls",
      "_model_module_version": "1.5.0",
      "_model_name": "HTMLModel",
      "_view_count": null,
      "_view_module": "@jupyter-widgets/controls",
      "_view_module_version": "1.5.0",
      "_view_name": "HTMLView",
      "description": "",
      "description_tooltip": null,
      "layout": "IPY_MODEL_bfca9f518079498aad7d142a80c6acb4",
      "placeholder": "​",
      "style": "IPY_MODEL_7a40ed74cfa0409abb06b4ec90e528f5",
      "value": " 28.0/28.0 [00:00&lt;00:00, 490B/s]"
     }
    },
    "a85bcdfbdb5e41f2bfcc39cc1bd359d5": {
     "model_module": "@jupyter-widgets/base",
     "model_module_version": "1.2.0",
     "model_name": "LayoutModel",
     "state": {
      "_model_module": "@jupyter-widgets/base",
      "_model_module_version": "1.2.0",
      "_model_name": "LayoutModel",
      "_view_count": null,
      "_view_module": "@jupyter-widgets/base",
      "_view_module_version": "1.2.0",
      "_view_name": "LayoutView",
      "align_content": null,
      "align_items": null,
      "align_self": null,
      "border": null,
      "bottom": null,
      "display": null,
      "flex": null,
      "flex_flow": null,
      "grid_area": null,
      "grid_auto_columns": null,
      "grid_auto_flow": null,
      "grid_auto_rows": null,
      "grid_column": null,
      "grid_gap": null,
      "grid_row": null,
      "grid_template_areas": null,
      "grid_template_columns": null,
      "grid_template_rows": null,
      "height": null,
      "justify_content": null,
      "justify_items": null,
      "left": null,
      "margin": null,
      "max_height": null,
      "max_width": null,
      "min_height": null,
      "min_width": null,
      "object_fit": null,
      "object_position": null,
      "order": null,
      "overflow": null,
      "overflow_x": null,
      "overflow_y": null,
      "padding": null,
      "right": null,
      "top": null,
      "visibility": null,
      "width": null
     }
    },
    "a8acfe8aff2246ffaff13a013227a6dd": {
     "model_module": "@jupyter-widgets/controls",
     "model_module_version": "1.5.0",
     "model_name": "ProgressStyleModel",
     "state": {
      "_model_module": "@jupyter-widgets/controls",
      "_model_module_version": "1.5.0",
      "_model_name": "ProgressStyleModel",
      "_view_count": null,
      "_view_module": "@jupyter-widgets/base",
      "_view_module_version": "1.2.0",
      "_view_name": "StyleView",
      "bar_color": null,
      "description_width": ""
     }
    },
    "ac0d765b7c424f5a8704ae9081c68db9": {
     "model_module": "@jupyter-widgets/base",
     "model_module_version": "1.2.0",
     "model_name": "LayoutModel",
     "state": {
      "_model_module": "@jupyter-widgets/base",
      "_model_module_version": "1.2.0",
      "_model_name": "LayoutModel",
      "_view_count": null,
      "_view_module": "@jupyter-widgets/base",
      "_view_module_version": "1.2.0",
      "_view_name": "LayoutView",
      "align_content": null,
      "align_items": null,
      "align_self": null,
      "border": null,
      "bottom": null,
      "display": null,
      "flex": null,
      "flex_flow": null,
      "grid_area": null,
      "grid_auto_columns": null,
      "grid_auto_flow": null,
      "grid_auto_rows": null,
      "grid_column": null,
      "grid_gap": null,
      "grid_row": null,
      "grid_template_areas": null,
      "grid_template_columns": null,
      "grid_template_rows": null,
      "height": null,
      "justify_content": null,
      "justify_items": null,
      "left": null,
      "margin": null,
      "max_height": null,
      "max_width": null,
      "min_height": null,
      "min_width": null,
      "object_fit": null,
      "object_position": null,
      "order": null,
      "overflow": null,
      "overflow_x": null,
      "overflow_y": null,
      "padding": null,
      "right": null,
      "top": null,
      "visibility": null,
      "width": null
     }
    },
    "ac4c73ea7a514cbd86877079427491b0": {
     "model_module": "@jupyter-widgets/controls",
     "model_module_version": "1.5.0",
     "model_name": "DescriptionStyleModel",
     "state": {
      "_model_module": "@jupyter-widgets/controls",
      "_model_module_version": "1.5.0",
      "_model_name": "DescriptionStyleModel",
      "_view_count": null,
      "_view_module": "@jupyter-widgets/base",
      "_view_module_version": "1.2.0",
      "_view_name": "StyleView",
      "description_width": ""
     }
    },
    "bfca9f518079498aad7d142a80c6acb4": {
     "model_module": "@jupyter-widgets/base",
     "model_module_version": "1.2.0",
     "model_name": "LayoutModel",
     "state": {
      "_model_module": "@jupyter-widgets/base",
      "_model_module_version": "1.2.0",
      "_model_name": "LayoutModel",
      "_view_count": null,
      "_view_module": "@jupyter-widgets/base",
      "_view_module_version": "1.2.0",
      "_view_name": "LayoutView",
      "align_content": null,
      "align_items": null,
      "align_self": null,
      "border": null,
      "bottom": null,
      "display": null,
      "flex": null,
      "flex_flow": null,
      "grid_area": null,
      "grid_auto_columns": null,
      "grid_auto_flow": null,
      "grid_auto_rows": null,
      "grid_column": null,
      "grid_gap": null,
      "grid_row": null,
      "grid_template_areas": null,
      "grid_template_columns": null,
      "grid_template_rows": null,
      "height": null,
      "justify_content": null,
      "justify_items": null,
      "left": null,
      "margin": null,
      "max_height": null,
      "max_width": null,
      "min_height": null,
      "min_width": null,
      "object_fit": null,
      "object_position": null,
      "order": null,
      "overflow": null,
      "overflow_x": null,
      "overflow_y": null,
      "padding": null,
      "right": null,
      "top": null,
      "visibility": null,
      "width": null
     }
    },
    "c44ae8b41296493da149cd6a6666430a": {
     "model_module": "@jupyter-widgets/controls",
     "model_module_version": "1.5.0",
     "model_name": "DescriptionStyleModel",
     "state": {
      "_model_module": "@jupyter-widgets/controls",
      "_model_module_version": "1.5.0",
      "_model_name": "DescriptionStyleModel",
      "_view_count": null,
      "_view_module": "@jupyter-widgets/base",
      "_view_module_version": "1.2.0",
      "_view_name": "StyleView",
      "description_width": ""
     }
    },
    "c5bb803b32194a6f8240f2aeefe9f094": {
     "model_module": "@jupyter-widgets/controls",
     "model_module_version": "1.5.0",
     "model_name": "DescriptionStyleModel",
     "state": {
      "_model_module": "@jupyter-widgets/controls",
      "_model_module_version": "1.5.0",
      "_model_name": "DescriptionStyleModel",
      "_view_count": null,
      "_view_module": "@jupyter-widgets/base",
      "_view_module_version": "1.2.0",
      "_view_name": "StyleView",
      "description_width": ""
     }
    },
    "cacd79348e8f43f9840d2e15fcd6f349": {
     "model_module": "@jupyter-widgets/controls",
     "model_module_version": "1.5.0",
     "model_name": "HTMLModel",
     "state": {
      "_dom_classes": [],
      "_model_module": "@jupyter-widgets/controls",
      "_model_module_version": "1.5.0",
      "_model_name": "HTMLModel",
      "_view_count": null,
      "_view_module": "@jupyter-widgets/controls",
      "_view_module_version": "1.5.0",
      "_view_name": "HTMLView",
      "description": "",
      "description_tooltip": null,
      "layout": "IPY_MODEL_f2f1482075a84089a5de3d1bb042ea8c",
      "placeholder": "​",
      "style": "IPY_MODEL_9dba667b9c294e66a4b698645bea13b7",
      "value": "Downloading: 100%"
     }
    },
    "d0cd16ea52a54d0aad93fe82a27ba6af": {
     "model_module": "@jupyter-widgets/controls",
     "model_module_version": "1.5.0",
     "model_name": "HTMLModel",
     "state": {
      "_dom_classes": [],
      "_model_module": "@jupyter-widgets/controls",
      "_model_module_version": "1.5.0",
      "_model_name": "HTMLModel",
      "_view_count": null,
      "_view_module": "@jupyter-widgets/controls",
      "_view_module_version": "1.5.0",
      "_view_name": "HTMLView",
      "description": "",
      "description_tooltip": null,
      "layout": "IPY_MODEL_f86af6605eeb4987b2b91a7ff52eb19f",
      "placeholder": "​",
      "style": "IPY_MODEL_c44ae8b41296493da149cd6a6666430a",
      "value": "Downloading: 100%"
     }
    },
    "d21667ebf42148db98092af3f6efaa3c": {
     "model_module": "@jupyter-widgets/controls",
     "model_module_version": "1.5.0",
     "model_name": "FloatProgressModel",
     "state": {
      "_dom_classes": [],
      "_model_module": "@jupyter-widgets/controls",
      "_model_module_version": "1.5.0",
      "_model_name": "FloatProgressModel",
      "_view_count": null,
      "_view_module": "@jupyter-widgets/controls",
      "_view_module_version": "1.5.0",
      "_view_name": "ProgressView",
      "bar_style": "success",
      "description": "",
      "description_tooltip": null,
      "layout": "IPY_MODEL_a85bcdfbdb5e41f2bfcc39cc1bd359d5",
      "max": 28,
      "min": 0,
      "orientation": "horizontal",
      "style": "IPY_MODEL_e07c73c828f841a1a3e85ef7034b6573",
      "value": 28
     }
    },
    "d6fe53e1f515483eb7ac57d238341c22": {
     "model_module": "@jupyter-widgets/controls",
     "model_module_version": "1.5.0",
     "model_name": "ProgressStyleModel",
     "state": {
      "_model_module": "@jupyter-widgets/controls",
      "_model_module_version": "1.5.0",
      "_model_name": "ProgressStyleModel",
      "_view_count": null,
      "_view_module": "@jupyter-widgets/base",
      "_view_module_version": "1.2.0",
      "_view_name": "StyleView",
      "bar_color": null,
      "description_width": ""
     }
    },
    "e07c73c828f841a1a3e85ef7034b6573": {
     "model_module": "@jupyter-widgets/controls",
     "model_module_version": "1.5.0",
     "model_name": "ProgressStyleModel",
     "state": {
      "_model_module": "@jupyter-widgets/controls",
      "_model_module_version": "1.5.0",
      "_model_name": "ProgressStyleModel",
      "_view_count": null,
      "_view_module": "@jupyter-widgets/base",
      "_view_module_version": "1.2.0",
      "_view_name": "StyleView",
      "bar_color": null,
      "description_width": ""
     }
    },
    "e2b1512bea1542e2b1063c406bef02c1": {
     "model_module": "@jupyter-widgets/base",
     "model_module_version": "1.2.0",
     "model_name": "LayoutModel",
     "state": {
      "_model_module": "@jupyter-widgets/base",
      "_model_module_version": "1.2.0",
      "_model_name": "LayoutModel",
      "_view_count": null,
      "_view_module": "@jupyter-widgets/base",
      "_view_module_version": "1.2.0",
      "_view_name": "LayoutView",
      "align_content": null,
      "align_items": null,
      "align_self": null,
      "border": null,
      "bottom": null,
      "display": null,
      "flex": null,
      "flex_flow": null,
      "grid_area": null,
      "grid_auto_columns": null,
      "grid_auto_flow": null,
      "grid_auto_rows": null,
      "grid_column": null,
      "grid_gap": null,
      "grid_row": null,
      "grid_template_areas": null,
      "grid_template_columns": null,
      "grid_template_rows": null,
      "height": null,
      "justify_content": null,
      "justify_items": null,
      "left": null,
      "margin": null,
      "max_height": null,
      "max_width": null,
      "min_height": null,
      "min_width": null,
      "object_fit": null,
      "object_position": null,
      "order": null,
      "overflow": null,
      "overflow_x": null,
      "overflow_y": null,
      "padding": null,
      "right": null,
      "top": null,
      "visibility": null,
      "width": null
     }
    },
    "e85a71b1183246cdae9317299ed504d9": {
     "model_module": "@jupyter-widgets/base",
     "model_module_version": "1.2.0",
     "model_name": "LayoutModel",
     "state": {
      "_model_module": "@jupyter-widgets/base",
      "_model_module_version": "1.2.0",
      "_model_name": "LayoutModel",
      "_view_count": null,
      "_view_module": "@jupyter-widgets/base",
      "_view_module_version": "1.2.0",
      "_view_name": "LayoutView",
      "align_content": null,
      "align_items": null,
      "align_self": null,
      "border": null,
      "bottom": null,
      "display": null,
      "flex": null,
      "flex_flow": null,
      "grid_area": null,
      "grid_auto_columns": null,
      "grid_auto_flow": null,
      "grid_auto_rows": null,
      "grid_column": null,
      "grid_gap": null,
      "grid_row": null,
      "grid_template_areas": null,
      "grid_template_columns": null,
      "grid_template_rows": null,
      "height": null,
      "justify_content": null,
      "justify_items": null,
      "left": null,
      "margin": null,
      "max_height": null,
      "max_width": null,
      "min_height": null,
      "min_width": null,
      "object_fit": null,
      "object_position": null,
      "order": null,
      "overflow": null,
      "overflow_x": null,
      "overflow_y": null,
      "padding": null,
      "right": null,
      "top": null,
      "visibility": null,
      "width": null
     }
    },
    "eaf7fa80e5a146eb8f4ea1b25959bb36": {
     "model_module": "@jupyter-widgets/base",
     "model_module_version": "1.2.0",
     "model_name": "LayoutModel",
     "state": {
      "_model_module": "@jupyter-widgets/base",
      "_model_module_version": "1.2.0",
      "_model_name": "LayoutModel",
      "_view_count": null,
      "_view_module": "@jupyter-widgets/base",
      "_view_module_version": "1.2.0",
      "_view_name": "LayoutView",
      "align_content": null,
      "align_items": null,
      "align_self": null,
      "border": null,
      "bottom": null,
      "display": null,
      "flex": null,
      "flex_flow": null,
      "grid_area": null,
      "grid_auto_columns": null,
      "grid_auto_flow": null,
      "grid_auto_rows": null,
      "grid_column": null,
      "grid_gap": null,
      "grid_row": null,
      "grid_template_areas": null,
      "grid_template_columns": null,
      "grid_template_rows": null,
      "height": null,
      "justify_content": null,
      "justify_items": null,
      "left": null,
      "margin": null,
      "max_height": null,
      "max_width": null,
      "min_height": null,
      "min_width": null,
      "object_fit": null,
      "object_position": null,
      "order": null,
      "overflow": null,
      "overflow_x": null,
      "overflow_y": null,
      "padding": null,
      "right": null,
      "top": null,
      "visibility": null,
      "width": null
     }
    },
    "ec53beef383d48fab5cd070badbc38d2": {
     "model_module": "@jupyter-widgets/controls",
     "model_module_version": "1.5.0",
     "model_name": "HBoxModel",
     "state": {
      "_dom_classes": [],
      "_model_module": "@jupyter-widgets/controls",
      "_model_module_version": "1.5.0",
      "_model_name": "HBoxModel",
      "_view_count": null,
      "_view_module": "@jupyter-widgets/controls",
      "_view_module_version": "1.5.0",
      "_view_name": "HBoxView",
      "box_style": "",
      "children": [
       "IPY_MODEL_cacd79348e8f43f9840d2e15fcd6f349",
       "IPY_MODEL_9d8a078456be4006a86293d3c0e5f320",
       "IPY_MODEL_1bd454a3d8bf4068b80d2072498d1d0e"
      ],
      "layout": "IPY_MODEL_9f25191cd6cf4e5b843ed7c66efb93d3"
     }
    },
    "f22b7f363ead405c9b227eb09d235efe": {
     "model_module": "@jupyter-widgets/controls",
     "model_module_version": "1.5.0",
     "model_name": "HTMLModel",
     "state": {
      "_dom_classes": [],
      "_model_module": "@jupyter-widgets/controls",
      "_model_module_version": "1.5.0",
      "_model_name": "HTMLModel",
      "_view_count": null,
      "_view_module": "@jupyter-widgets/controls",
      "_view_module_version": "1.5.0",
      "_view_name": "HTMLView",
      "description": "",
      "description_tooltip": null,
      "layout": "IPY_MODEL_00d7be27fe784e6bbe3e79c388351547",
      "placeholder": "​",
      "style": "IPY_MODEL_852e2dd09d3c4462af50ce3075750ad2",
      "value": "Downloading: 100%"
     }
    },
    "f2f1482075a84089a5de3d1bb042ea8c": {
     "model_module": "@jupyter-widgets/base",
     "model_module_version": "1.2.0",
     "model_name": "LayoutModel",
     "state": {
      "_model_module": "@jupyter-widgets/base",
      "_model_module_version": "1.2.0",
      "_model_name": "LayoutModel",
      "_view_count": null,
      "_view_module": "@jupyter-widgets/base",
      "_view_module_version": "1.2.0",
      "_view_name": "LayoutView",
      "align_content": null,
      "align_items": null,
      "align_self": null,
      "border": null,
      "bottom": null,
      "display": null,
      "flex": null,
      "flex_flow": null,
      "grid_area": null,
      "grid_auto_columns": null,
      "grid_auto_flow": null,
      "grid_auto_rows": null,
      "grid_column": null,
      "grid_gap": null,
      "grid_row": null,
      "grid_template_areas": null,
      "grid_template_columns": null,
      "grid_template_rows": null,
      "height": null,
      "justify_content": null,
      "justify_items": null,
      "left": null,
      "margin": null,
      "max_height": null,
      "max_width": null,
      "min_height": null,
      "min_width": null,
      "object_fit": null,
      "object_position": null,
      "order": null,
      "overflow": null,
      "overflow_x": null,
      "overflow_y": null,
      "padding": null,
      "right": null,
      "top": null,
      "visibility": null,
      "width": null
     }
    },
    "f86af6605eeb4987b2b91a7ff52eb19f": {
     "model_module": "@jupyter-widgets/base",
     "model_module_version": "1.2.0",
     "model_name": "LayoutModel",
     "state": {
      "_model_module": "@jupyter-widgets/base",
      "_model_module_version": "1.2.0",
      "_model_name": "LayoutModel",
      "_view_count": null,
      "_view_module": "@jupyter-widgets/base",
      "_view_module_version": "1.2.0",
      "_view_name": "LayoutView",
      "align_content": null,
      "align_items": null,
      "align_self": null,
      "border": null,
      "bottom": null,
      "display": null,
      "flex": null,
      "flex_flow": null,
      "grid_area": null,
      "grid_auto_columns": null,
      "grid_auto_flow": null,
      "grid_auto_rows": null,
      "grid_column": null,
      "grid_gap": null,
      "grid_row": null,
      "grid_template_areas": null,
      "grid_template_columns": null,
      "grid_template_rows": null,
      "height": null,
      "justify_content": null,
      "justify_items": null,
      "left": null,
      "margin": null,
      "max_height": null,
      "max_width": null,
      "min_height": null,
      "min_width": null,
      "object_fit": null,
      "object_position": null,
      "order": null,
      "overflow": null,
      "overflow_x": null,
      "overflow_y": null,
      "padding": null,
      "right": null,
      "top": null,
      "visibility": null,
      "width": null
     }
    }
   }
  }
 },
 "nbformat": 4,
 "nbformat_minor": 5
}
